{
 "cells": [
  {
   "cell_type": "markdown",
   "metadata": {},
   "source": [
    "En este archivo, voy a realizar el EDA (Exploratory Data Analysis) o Análisis Exploratorio de los Datos del archivo correspondiente a la tabla user_items."
   ]
  },
  {
   "cell_type": "code",
   "execution_count": 1,
   "metadata": {},
   "outputs": [],
   "source": [
    "# Importación de las librerías necesarias para trabajar\n",
    "import pandas as pd\n",
    "import numpy as np\n",
    "import seaborn as sns\n",
    "import matplotlib.pyplot as plt\n",
    "import scipy.stats as stats"
   ]
  },
  {
   "cell_type": "markdown",
   "metadata": {},
   "source": [
    "Leemos el archivo con el que vamos a trabajar"
   ]
  },
  {
   "cell_type": "code",
   "execution_count": 2,
   "metadata": {},
   "outputs": [
    {
     "data": {
      "text/html": [
       "<div>\n",
       "<style scoped>\n",
       "    .dataframe tbody tr th:only-of-type {\n",
       "        vertical-align: middle;\n",
       "    }\n",
       "\n",
       "    .dataframe tbody tr th {\n",
       "        vertical-align: top;\n",
       "    }\n",
       "\n",
       "    .dataframe thead th {\n",
       "        text-align: right;\n",
       "    }\n",
       "</style>\n",
       "<table border=\"1\" class=\"dataframe\">\n",
       "  <thead>\n",
       "    <tr style=\"text-align: right;\">\n",
       "      <th></th>\n",
       "      <th>item_id</th>\n",
       "      <th>item_name</th>\n",
       "      <th>playtime_forever</th>\n",
       "      <th>playtime_2weeks</th>\n",
       "      <th>user_id</th>\n",
       "    </tr>\n",
       "  </thead>\n",
       "  <tbody>\n",
       "    <tr>\n",
       "      <th>0</th>\n",
       "      <td>10</td>\n",
       "      <td>Counter-Strike</td>\n",
       "      <td>6</td>\n",
       "      <td>0</td>\n",
       "      <td>76561197970982479</td>\n",
       "    </tr>\n",
       "    <tr>\n",
       "      <th>1</th>\n",
       "      <td>20</td>\n",
       "      <td>Team Fortress Classic</td>\n",
       "      <td>0</td>\n",
       "      <td>0</td>\n",
       "      <td>76561197970982479</td>\n",
       "    </tr>\n",
       "    <tr>\n",
       "      <th>2</th>\n",
       "      <td>30</td>\n",
       "      <td>Day of Defeat</td>\n",
       "      <td>7</td>\n",
       "      <td>0</td>\n",
       "      <td>76561197970982479</td>\n",
       "    </tr>\n",
       "    <tr>\n",
       "      <th>3</th>\n",
       "      <td>40</td>\n",
       "      <td>Deathmatch Classic</td>\n",
       "      <td>0</td>\n",
       "      <td>0</td>\n",
       "      <td>76561197970982479</td>\n",
       "    </tr>\n",
       "    <tr>\n",
       "      <th>4</th>\n",
       "      <td>50</td>\n",
       "      <td>Half-Life: Opposing Force</td>\n",
       "      <td>0</td>\n",
       "      <td>0</td>\n",
       "      <td>76561197970982479</td>\n",
       "    </tr>\n",
       "    <tr>\n",
       "      <th>...</th>\n",
       "      <td>...</td>\n",
       "      <td>...</td>\n",
       "      <td>...</td>\n",
       "      <td>...</td>\n",
       "      <td>...</td>\n",
       "    </tr>\n",
       "    <tr>\n",
       "      <th>5153204</th>\n",
       "      <td>346330</td>\n",
       "      <td>BrainBread 2</td>\n",
       "      <td>0</td>\n",
       "      <td>0</td>\n",
       "      <td>76561198329548331</td>\n",
       "    </tr>\n",
       "    <tr>\n",
       "      <th>5153205</th>\n",
       "      <td>373330</td>\n",
       "      <td>All Is Dust</td>\n",
       "      <td>0</td>\n",
       "      <td>0</td>\n",
       "      <td>76561198329548331</td>\n",
       "    </tr>\n",
       "    <tr>\n",
       "      <th>5153206</th>\n",
       "      <td>388490</td>\n",
       "      <td>One Way To Die: Steam Edition</td>\n",
       "      <td>3</td>\n",
       "      <td>3</td>\n",
       "      <td>76561198329548331</td>\n",
       "    </tr>\n",
       "    <tr>\n",
       "      <th>5153207</th>\n",
       "      <td>521570</td>\n",
       "      <td>You Have 10 Seconds 2</td>\n",
       "      <td>4</td>\n",
       "      <td>4</td>\n",
       "      <td>76561198329548331</td>\n",
       "    </tr>\n",
       "    <tr>\n",
       "      <th>5153208</th>\n",
       "      <td>519140</td>\n",
       "      <td>Minds Eyes</td>\n",
       "      <td>3</td>\n",
       "      <td>3</td>\n",
       "      <td>76561198329548331</td>\n",
       "    </tr>\n",
       "  </tbody>\n",
       "</table>\n",
       "<p>5153209 rows × 5 columns</p>\n",
       "</div>"
      ],
      "text/plain": [
       "        item_id                      item_name  playtime_forever  \\\n",
       "0            10                 Counter-Strike                 6   \n",
       "1            20          Team Fortress Classic                 0   \n",
       "2            30                  Day of Defeat                 7   \n",
       "3            40             Deathmatch Classic                 0   \n",
       "4            50      Half-Life: Opposing Force                 0   \n",
       "...         ...                            ...               ...   \n",
       "5153204  346330                   BrainBread 2                 0   \n",
       "5153205  373330                    All Is Dust                 0   \n",
       "5153206  388490  One Way To Die: Steam Edition                 3   \n",
       "5153207  521570          You Have 10 Seconds 2                 4   \n",
       "5153208  519140                     Minds Eyes                 3   \n",
       "\n",
       "         playtime_2weeks            user_id  \n",
       "0                      0  76561197970982479  \n",
       "1                      0  76561197970982479  \n",
       "2                      0  76561197970982479  \n",
       "3                      0  76561197970982479  \n",
       "4                      0  76561197970982479  \n",
       "...                  ...                ...  \n",
       "5153204                0  76561198329548331  \n",
       "5153205                0  76561198329548331  \n",
       "5153206                3  76561198329548331  \n",
       "5153207                4  76561198329548331  \n",
       "5153208                3  76561198329548331  \n",
       "\n",
       "[5153209 rows x 5 columns]"
      ]
     },
     "execution_count": 2,
     "metadata": {},
     "output_type": "execute_result"
    }
   ],
   "source": [
    "items = pd.read_parquet(\"user_items_complete.parquet\")\n",
    "items"
   ]
  },
  {
   "cell_type": "markdown",
   "metadata": {},
   "source": [
    "Nuestro conjunto de datos originalmente cuenta con 5153209 filas y 5 columnas."
   ]
  },
  {
   "cell_type": "markdown",
   "metadata": {},
   "source": [
    "El método describe en Pandas nos ayuda a tener un resumen del conjunto de datos para todas las columnas numéricas excluyendo los valores NaN(Not-a-Number or missing )."
   ]
  },
  {
   "cell_type": "code",
   "execution_count": 3,
   "metadata": {},
   "outputs": [
    {
     "data": {
      "text/html": [
       "<div>\n",
       "<style scoped>\n",
       "    .dataframe tbody tr th:only-of-type {\n",
       "        vertical-align: middle;\n",
       "    }\n",
       "\n",
       "    .dataframe tbody tr th {\n",
       "        vertical-align: top;\n",
       "    }\n",
       "\n",
       "    .dataframe thead th {\n",
       "        text-align: right;\n",
       "    }\n",
       "</style>\n",
       "<table border=\"1\" class=\"dataframe\">\n",
       "  <thead>\n",
       "    <tr style=\"text-align: right;\">\n",
       "      <th></th>\n",
       "      <th>item_id</th>\n",
       "      <th>item_name</th>\n",
       "      <th>playtime_forever</th>\n",
       "      <th>playtime_2weeks</th>\n",
       "      <th>user_id</th>\n",
       "    </tr>\n",
       "  </thead>\n",
       "  <tbody>\n",
       "    <tr>\n",
       "      <th>count</th>\n",
       "      <td>5153209</td>\n",
       "      <td>5153209</td>\n",
       "      <td>5.153209e+06</td>\n",
       "      <td>5.153209e+06</td>\n",
       "      <td>5153209</td>\n",
       "    </tr>\n",
       "    <tr>\n",
       "      <th>unique</th>\n",
       "      <td>10978</td>\n",
       "      <td>10947</td>\n",
       "      <td>NaN</td>\n",
       "      <td>NaN</td>\n",
       "      <td>70912</td>\n",
       "    </tr>\n",
       "    <tr>\n",
       "      <th>top</th>\n",
       "      <td>205790</td>\n",
       "      <td>Dota 2 Test</td>\n",
       "      <td>NaN</td>\n",
       "      <td>NaN</td>\n",
       "      <td>phrostb</td>\n",
       "    </tr>\n",
       "    <tr>\n",
       "      <th>freq</th>\n",
       "      <td>49571</td>\n",
       "      <td>49571</td>\n",
       "      <td>NaN</td>\n",
       "      <td>NaN</td>\n",
       "      <td>7762</td>\n",
       "    </tr>\n",
       "    <tr>\n",
       "      <th>mean</th>\n",
       "      <td>NaN</td>\n",
       "      <td>NaN</td>\n",
       "      <td>9.914951e+02</td>\n",
       "      <td>9.104707e+00</td>\n",
       "      <td>NaN</td>\n",
       "    </tr>\n",
       "    <tr>\n",
       "      <th>std</th>\n",
       "      <td>NaN</td>\n",
       "      <td>NaN</td>\n",
       "      <td>5.418204e+03</td>\n",
       "      <td>1.403926e+02</td>\n",
       "      <td>NaN</td>\n",
       "    </tr>\n",
       "    <tr>\n",
       "      <th>min</th>\n",
       "      <td>NaN</td>\n",
       "      <td>NaN</td>\n",
       "      <td>0.000000e+00</td>\n",
       "      <td>0.000000e+00</td>\n",
       "      <td>NaN</td>\n",
       "    </tr>\n",
       "    <tr>\n",
       "      <th>25%</th>\n",
       "      <td>NaN</td>\n",
       "      <td>NaN</td>\n",
       "      <td>0.000000e+00</td>\n",
       "      <td>0.000000e+00</td>\n",
       "      <td>NaN</td>\n",
       "    </tr>\n",
       "    <tr>\n",
       "      <th>50%</th>\n",
       "      <td>NaN</td>\n",
       "      <td>NaN</td>\n",
       "      <td>3.400000e+01</td>\n",
       "      <td>0.000000e+00</td>\n",
       "      <td>NaN</td>\n",
       "    </tr>\n",
       "    <tr>\n",
       "      <th>75%</th>\n",
       "      <td>NaN</td>\n",
       "      <td>NaN</td>\n",
       "      <td>3.550000e+02</td>\n",
       "      <td>0.000000e+00</td>\n",
       "      <td>NaN</td>\n",
       "    </tr>\n",
       "    <tr>\n",
       "      <th>max</th>\n",
       "      <td>NaN</td>\n",
       "      <td>NaN</td>\n",
       "      <td>6.427730e+05</td>\n",
       "      <td>1.996700e+04</td>\n",
       "      <td>NaN</td>\n",
       "    </tr>\n",
       "  </tbody>\n",
       "</table>\n",
       "</div>"
      ],
      "text/plain": [
       "        item_id    item_name  playtime_forever  playtime_2weeks  user_id\n",
       "count   5153209      5153209      5.153209e+06     5.153209e+06  5153209\n",
       "unique    10978        10947               NaN              NaN    70912\n",
       "top      205790  Dota 2 Test               NaN              NaN  phrostb\n",
       "freq      49571        49571               NaN              NaN     7762\n",
       "mean        NaN          NaN      9.914951e+02     9.104707e+00      NaN\n",
       "std         NaN          NaN      5.418204e+03     1.403926e+02      NaN\n",
       "min         NaN          NaN      0.000000e+00     0.000000e+00      NaN\n",
       "25%         NaN          NaN      0.000000e+00     0.000000e+00      NaN\n",
       "50%         NaN          NaN      3.400000e+01     0.000000e+00      NaN\n",
       "75%         NaN          NaN      3.550000e+02     0.000000e+00      NaN\n",
       "max         NaN          NaN      6.427730e+05     1.996700e+04      NaN"
      ]
     },
     "execution_count": 3,
     "metadata": {},
     "output_type": "execute_result"
    }
   ],
   "source": [
    "# Le pasamos cómo parametro include='all' para obtener todo el resumen adicional de nuestro conjunto de datos.\n",
    "items.describe(include='all') "
   ]
  },
  {
   "cell_type": "markdown",
   "metadata": {},
   "source": [
    "Vemos con esto que por ejemplo, hay 70912 usuarios con ID único, y que no hay núlos en ninguna de las 5 columnas."
   ]
  },
  {
   "cell_type": "markdown",
   "metadata": {},
   "source": [
    "Veamos ahora la información de este conjunto de datos.  "
   ]
  },
  {
   "cell_type": "code",
   "execution_count": 4,
   "metadata": {},
   "outputs": [
    {
     "name": "stdout",
     "output_type": "stream",
     "text": [
      "<class 'pandas.core.frame.DataFrame'>\n",
      "RangeIndex: 5153209 entries, 0 to 5153208\n",
      "Data columns (total 5 columns):\n",
      " #   Column            Dtype \n",
      "---  ------            ----- \n",
      " 0   item_id           object\n",
      " 1   item_name         object\n",
      " 2   playtime_forever  int64 \n",
      " 3   playtime_2weeks   int64 \n",
      " 4   user_id           object\n",
      "dtypes: int64(2), object(3)\n",
      "memory usage: 196.6+ MB\n"
     ]
    }
   ],
   "source": [
    "items.info()"
   ]
  },
  {
   "cell_type": "markdown",
   "metadata": {},
   "source": [
    "Veamos los valores nulos"
   ]
  },
  {
   "cell_type": "code",
   "execution_count": 5,
   "metadata": {},
   "outputs": [
    {
     "data": {
      "text/plain": [
       "item_id             0\n",
       "item_name           0\n",
       "playtime_forever    0\n",
       "playtime_2weeks     0\n",
       "user_id             0\n",
       "dtype: int64"
      ]
     },
     "execution_count": 5,
     "metadata": {},
     "output_type": "execute_result"
    }
   ],
   "source": [
    "items.isnull().sum() # No hay nulos"
   ]
  },
  {
   "cell_type": "markdown",
   "metadata": {},
   "source": [
    "Veamos ahora la distribución con un histograma del tiempo invertido por los usuarios (playtime_forever)."
   ]
  },
  {
   "cell_type": "code",
   "execution_count": 6,
   "metadata": {},
   "outputs": [
    {
     "data": {
      "image/png": "[encoded data removed]",
      "text/plain": [
       "<Figure size 640x480 with 1 Axes>"
      ]
     },
     "metadata": {},
     "output_type": "display_data"
    }
   ],
   "source": [
    "plt.hist(np.log1p(items['playtime_forever']))\n",
    "plt.title('Histograma de playtime_forever (escala logarítmica)')\n",
    "plt.xlabel('log(playtime_forever + 1)')\n",
    "plt.show()"
   ]
  },
  {
   "cell_type": "markdown",
   "metadata": {},
   "source": [
    "Tuve que aplicar una normalización a escala logaritmica para que el histograma se viera correctamente.\n",
    "En el eje x lo que vemos es una escala que va de la siguiente manera:\n",
    "\n",
    "Tiempo = ln(x + 1), Ejemplo: x = 1, Tiempo = ln(1 + 1) = ln(2) ≈ 0,6931471806 \n",
    "\n",
    "Ahora, ese x = 1 yo no sé en que unidades está, suponiendo que está en minutos, entonces el resultado también es en minutos. \n",
    "\n",
    "Si nos quedamos con x = 1, vemos que la gráfica llega hasta 2.00 * 1e6, ¿Que significa esto?\n",
    "La respuesta es que hay más de 2.000.000 de filas dentro del Dataframe que están dentro de ese tiempo.\n",
    "\n",
    "Hablando con un lenguaje un poco menos tecnico, tenemos 2 millones de filas en dónde usuarios (pueden repetirse algunos) jugaron entre 0 y 2 minutos (sin incluir ni el 0 ni el 2).  \n",
    "\n",
    "- ln = Logaritmo natural, logaritmo base e\n",
    "- 1e6 = 1 x 10^6 = 1.000.000. El eje Y está en escala de 1e6, osea de 1 millón."
   ]
  },
  {
   "cell_type": "code",
   "execution_count": 8,
   "metadata": {},
   "outputs": [
    {
     "name": "stdout",
     "output_type": "stream",
     "text": [
      "Los 10 juegos más jugados:\n",
      "item_name\n",
      "Counter-Strike: Global Offensive    785184267\n",
      "Garry's Mod                         448366616\n",
      "Terraria                            154974541\n",
      "The Elder Scrolls V: Skyrim         136678626\n",
      "Warframe                            124027703\n",
      "Counter-Strike: Source              112612047\n",
      "Left 4 Dead 2                       102189423\n",
      "PAYDAY 2                             99763914\n",
      "Sid Meier's Civilization V           82380684\n",
      "Rust                                 81120416\n",
      "Name: playtime_forever, dtype: int64\n"
     ]
    },
    {
     "data": {
      "image/png": "[encoded data removed]",
      "text/plain": [
       "<Figure size 640x480 with 1 Axes>"
      ]
     },
     "metadata": {},
     "output_type": "display_data"
    }
   ],
   "source": [
    "# Ahora quiero visualizar cuales son los juegos más jugados, para ello...\n",
    "# Creo una variable que agrupa por item_name y suma playtime_forever\n",
    "juegos_mas_jugados = items.groupby('item_name')['playtime_forever'].sum().sort_values(ascending=False)\n",
    "\n",
    "# Veamos ahora los 10 juegos más jugados\n",
    "print(\"Los 10 juegos más jugados:\")\n",
    "print(juegos_mas_jugados.head(10))\n",
    "\n",
    "# Visualicemos con ayuda de Matplotlib\n",
    "juegos_mas_jugados.head(10).plot(kind='bar')\n",
    "plt.title('Top 10 juegos más jugados')\n",
    "plt.xlabel('Juego')\n",
    "plt.ylabel('Tiempo total jugado')\n",
    "plt.xticks(rotation=45, ha='right')\n",
    "plt.tight_layout()\n",
    "plt.show()"
   ]
  },
  {
   "cell_type": "markdown",
   "metadata": {},
   "source": [
    "Ahora veamos los usuarios que invirtieron más horas de su tiempo jugando videojuegos."
   ]
  },
  {
   "cell_type": "code",
   "execution_count": 9,
   "metadata": {},
   "outputs": [
    {
     "name": "stdout",
     "output_type": "stream",
     "text": [
      "Los 10 usuarios que acumulan más tiempo jugando:\n",
      "user_id\n",
      "REBAS_AS_F-T          4660393\n",
      "shinomegami           3303502\n",
      "Sp3ctre               2822860\n",
      "DownSyndromeKid       2790419\n",
      "Terminally-Chill      1734007\n",
      "stopgovtcorruption    1717609\n",
      "Steamified            1693063\n",
      "Cow666                1674805\n",
      "PiozZ                 1570365\n",
      "76561198022404680     1378726\n",
      "Name: playtime_forever, dtype: int64\n"
     ]
    },
    {
     "data": {
      "image/png": "[encoded data removed]",
      "text/plain": [
       "<Figure size 640x480 with 1 Axes>"
      ]
     },
     "metadata": {},
     "output_type": "display_data"
    }
   ],
   "source": [
    "# Creo una variable que agrupa por user_id y suma playtime_forever\n",
    "usuarios_con_mas_horas = items.groupby('user_id')['playtime_forever'].sum().sort_values(ascending=False)\n",
    "\n",
    "# Veamos ahora los 10 juegos más jugados\n",
    "print(\"Los 10 usuarios que acumulan más tiempo jugando:\")\n",
    "print(usuarios_con_mas_horas.head(10))\n",
    "\n",
    "# Visualicemos con ayuda de Matplotlib\n",
    "usuarios_con_mas_horas.head(10).plot(kind='bar')\n",
    "plt.title('Top 10 usuarios con mayor cantidad de tiempo invertida en videojuegos')\n",
    "plt.xlabel('Usuario')\n",
    "plt.ylabel('Tiempo total jugado')\n",
    "plt.xticks(rotation=45, ha='right')\n",
    "plt.tight_layout()\n",
    "plt.show()"
   ]
  },
  {
   "cell_type": "code",
   "execution_count": 11,
   "metadata": {},
   "outputs": [
    {
     "data": {
      "text/plain": [
       "user_id\n",
       "REBAS_AS_F-T    4660393\n",
       "Name: playtime_forever, dtype: int64"
      ]
     },
     "execution_count": 11,
     "metadata": {},
     "output_type": "execute_result"
    }
   ],
   "source": [
    "# Ahora analicemos al usuario que acumula más tiempo jugando videojuegos\n",
    "usuarios_con_mas_horas.head(1)"
   ]
  },
  {
   "cell_type": "code",
   "execution_count": 16,
   "metadata": {},
   "outputs": [
    {
     "name": "stdout",
     "output_type": "stream",
     "text": [
      "Si el tiempo está medido en horas, el usuario invirtió 194183.04166666666 jugando\n"
     ]
    }
   ],
   "source": [
    "tiempo_acumulado_usuario_top = 4660393 # Tiempo acumulado por el usuario, no sabemos en que unidades está\n",
    "# Suponiendo que el tiempo está medido en horas, entonces podemos determinar la cantidad de días invertidos por el usuario dividiendo la cantidad de tiempo por 24.\n",
    "dias_invertidos = tiempo_acumulado_usuario_top / 24\n",
    "print(f\"Si el tiempo está medido en horas, el usuario invirtió {dias_invertidos} días jugando\")"
   ]
  },
  {
   "cell_type": "code",
   "execution_count": 17,
   "metadata": {},
   "outputs": [
    {
     "name": "stdout",
     "output_type": "stream",
     "text": [
      "Si el tiempo está medido en horas, el usuario invirtió 532.0083333333333 años jugando\n"
     ]
    }
   ],
   "source": [
    "# ¿ Y cuantos años serían esa cantidad de días ?\n",
    "años_acumulados = dias_invertidos / 365\n",
    "print(f\"Si el tiempo está medido en horas, el usuario invirtió {años_acumulados} años jugando\")"
   ]
  },
  {
   "cell_type": "markdown",
   "metadata": {},
   "source": [
    "Bueno, con esto podemos concluir una de dos cosas:\n",
    "\n",
    "1. Hubo un error de medición en los usuarios que invirtieron más tiempo.\n",
    "2. El tiempo dentro de la columna \"playtime_forever\" no está medido en horas. \n",
    "\n",
    "Ahora, suponiendo que la segunda premisa es cierta, veamos que pasaría si el tiempo estuviese medido en minutos."
   ]
  },
  {
   "cell_type": "code",
   "execution_count": 18,
   "metadata": {},
   "outputs": [
    {
     "name": "stdout",
     "output_type": "stream",
     "text": [
      "Si el tiempo está medido en minutos, el usuario acumula 77673.21666666666 horas jugando\n"
     ]
    }
   ],
   "source": [
    "horas_acumuladas_usuario_top = tiempo_acumulado_usuario_top / 60\n",
    "print(f\"Si el tiempo está medido en minutos, el usuario acumula {horas_acumuladas_usuario_top} horas jugando\")"
   ]
  },
  {
   "cell_type": "code",
   "execution_count": 19,
   "metadata": {},
   "outputs": [
    {
     "name": "stdout",
     "output_type": "stream",
     "text": [
      "Si el tiempo está medido en minutos, el usuario acumula 3236.3840277777776 días jugando\n"
     ]
    }
   ],
   "source": [
    "# Continuemos con los días...\n",
    "dias_acumulados_usuario_top = horas_acumuladas_usuario_top / 24\n",
    "print(f\"Si el tiempo está medido en minutos, el usuario acumula {dias_acumulados_usuario_top} días jugando\")"
   ]
  },
  {
   "cell_type": "code",
   "execution_count": 20,
   "metadata": {},
   "outputs": [
    {
     "name": "stdout",
     "output_type": "stream",
     "text": [
      "Si el tiempo está medido en minutos, el usuario acumula 8.866805555555555 años jugando\n"
     ]
    }
   ],
   "source": [
    "# Sigamos con los años...\n",
    "años_acumulados_usuario_top = dias_acumulados_usuario_top / 365\n",
    "print(f\"Si el tiempo está medido en minutos, el usuario acumula {años_acumulados_usuario_top} años jugando\")"
   ]
  },
  {
   "cell_type": "markdown",
   "metadata": {},
   "source": [
    "Bueno, vemos que es un poco más lógico pensar que la unidad de tiempo está en minutos, nuevamente, es un dato bastante relevante, del que desgraciadamente, no poseo información."
   ]
  },
  {
   "cell_type": "markdown",
   "metadata": {},
   "source": [
    "Analicemos un poco más en detalle al usuario que acumula más horas"
   ]
  },
  {
   "cell_type": "code",
   "execution_count": 24,
   "metadata": {},
   "outputs": [
    {
     "data": {
      "text/html": [
       "<div>\n",
       "<style scoped>\n",
       "    .dataframe tbody tr th:only-of-type {\n",
       "        vertical-align: middle;\n",
       "    }\n",
       "\n",
       "    .dataframe tbody tr th {\n",
       "        vertical-align: top;\n",
       "    }\n",
       "\n",
       "    .dataframe thead th {\n",
       "        text-align: right;\n",
       "    }\n",
       "</style>\n",
       "<table border=\"1\" class=\"dataframe\">\n",
       "  <thead>\n",
       "    <tr style=\"text-align: right;\">\n",
       "      <th></th>\n",
       "      <th>item_id</th>\n",
       "      <th>item_name</th>\n",
       "      <th>playtime_forever</th>\n",
       "      <th>playtime_2weeks</th>\n",
       "      <th>user_id</th>\n",
       "    </tr>\n",
       "  </thead>\n",
       "  <tbody>\n",
       "    <tr>\n",
       "      <th>1944570</th>\n",
       "      <td>1900</td>\n",
       "      <td>Earth 2160</td>\n",
       "      <td>0</td>\n",
       "      <td>0</td>\n",
       "      <td>REBAS_AS_F-T</td>\n",
       "    </tr>\n",
       "    <tr>\n",
       "      <th>1944571</th>\n",
       "      <td>2810</td>\n",
       "      <td>X3: Reunion</td>\n",
       "      <td>0</td>\n",
       "      <td>0</td>\n",
       "      <td>REBAS_AS_F-T</td>\n",
       "    </tr>\n",
       "    <tr>\n",
       "      <th>1944572</th>\n",
       "      <td>3830</td>\n",
       "      <td>Psychonauts</td>\n",
       "      <td>2176</td>\n",
       "      <td>0</td>\n",
       "      <td>REBAS_AS_F-T</td>\n",
       "    </tr>\n",
       "    <tr>\n",
       "      <th>1944573</th>\n",
       "      <td>4000</td>\n",
       "      <td>Garry's Mod</td>\n",
       "      <td>1673</td>\n",
       "      <td>0</td>\n",
       "      <td>REBAS_AS_F-T</td>\n",
       "    </tr>\n",
       "    <tr>\n",
       "      <th>1944574</th>\n",
       "      <td>6880</td>\n",
       "      <td>Just Cause</td>\n",
       "      <td>0</td>\n",
       "      <td>0</td>\n",
       "      <td>REBAS_AS_F-T</td>\n",
       "    </tr>\n",
       "    <tr>\n",
       "      <th>...</th>\n",
       "      <td>...</td>\n",
       "      <td>...</td>\n",
       "      <td>...</td>\n",
       "      <td>...</td>\n",
       "      <td>...</td>\n",
       "    </tr>\n",
       "    <tr>\n",
       "      <th>1946534</th>\n",
       "      <td>524030</td>\n",
       "      <td>Machine Learning: Episode I</td>\n",
       "      <td>0</td>\n",
       "      <td>0</td>\n",
       "      <td>REBAS_AS_F-T</td>\n",
       "    </tr>\n",
       "    <tr>\n",
       "      <th>1946535</th>\n",
       "      <td>527440</td>\n",
       "      <td>Rustangelo</td>\n",
       "      <td>0</td>\n",
       "      <td>0</td>\n",
       "      <td>REBAS_AS_F-T</td>\n",
       "    </tr>\n",
       "    <tr>\n",
       "      <th>1946536</th>\n",
       "      <td>324810</td>\n",
       "      <td>TOXIKK</td>\n",
       "      <td>0</td>\n",
       "      <td>0</td>\n",
       "      <td>REBAS_AS_F-T</td>\n",
       "    </tr>\n",
       "    <tr>\n",
       "      <th>1946537</th>\n",
       "      <td>528580</td>\n",
       "      <td>Found</td>\n",
       "      <td>0</td>\n",
       "      <td>0</td>\n",
       "      <td>REBAS_AS_F-T</td>\n",
       "    </tr>\n",
       "    <tr>\n",
       "      <th>1946538</th>\n",
       "      <td>529670</td>\n",
       "      <td>The Bellows: VR Demo</td>\n",
       "      <td>0</td>\n",
       "      <td>0</td>\n",
       "      <td>REBAS_AS_F-T</td>\n",
       "    </tr>\n",
       "  </tbody>\n",
       "</table>\n",
       "<p>1969 rows × 5 columns</p>\n",
       "</div>"
      ],
      "text/plain": [
       "        item_id                    item_name  playtime_forever  \\\n",
       "1944570    1900                   Earth 2160                 0   \n",
       "1944571    2810                  X3: Reunion                 0   \n",
       "1944572    3830                  Psychonauts              2176   \n",
       "1944573    4000                  Garry's Mod              1673   \n",
       "1944574    6880                   Just Cause                 0   \n",
       "...         ...                          ...               ...   \n",
       "1946534  524030  Machine Learning: Episode I                 0   \n",
       "1946535  527440                   Rustangelo                 0   \n",
       "1946536  324810                       TOXIKK                 0   \n",
       "1946537  528580                        Found                 0   \n",
       "1946538  529670         The Bellows: VR Demo                 0   \n",
       "\n",
       "         playtime_2weeks       user_id  \n",
       "1944570                0  REBAS_AS_F-T  \n",
       "1944571                0  REBAS_AS_F-T  \n",
       "1944572                0  REBAS_AS_F-T  \n",
       "1944573                0  REBAS_AS_F-T  \n",
       "1944574                0  REBAS_AS_F-T  \n",
       "...                  ...           ...  \n",
       "1946534                0  REBAS_AS_F-T  \n",
       "1946535                0  REBAS_AS_F-T  \n",
       "1946536                0  REBAS_AS_F-T  \n",
       "1946537                0  REBAS_AS_F-T  \n",
       "1946538                0  REBAS_AS_F-T  \n",
       "\n",
       "[1969 rows x 5 columns]"
      ]
     },
     "execution_count": 24,
     "metadata": {},
     "output_type": "execute_result"
    }
   ],
   "source": [
    "user_id_usuario_top = \"REBAS_AS_F-T\" # Creamos una variable con su user_id\n",
    "informacion_usuario_top = items[items[\"user_id\"] == user_id_usuario_top] # Filtramos el dataset de juegos para obtener sólo los juegos que tiene el usuario top\n",
    "informacion_usuario_top # Mostramos en pantalla"
   ]
  },
  {
   "cell_type": "markdown",
   "metadata": {},
   "source": [
    "El usuario tiene 1969 juegos dentro de la plataforma Steam, pero vemos que no ha jugado a algunos de ellos. Filtremos nuevamente dejando sólo aquellos a los que si les ha dedicado tiempo."
   ]
  },
  {
   "cell_type": "code",
   "execution_count": 25,
   "metadata": {},
   "outputs": [
    {
     "data": {
      "text/html": [
       "<div>\n",
       "<style scoped>\n",
       "    .dataframe tbody tr th:only-of-type {\n",
       "        vertical-align: middle;\n",
       "    }\n",
       "\n",
       "    .dataframe tbody tr th {\n",
       "        vertical-align: top;\n",
       "    }\n",
       "\n",
       "    .dataframe thead th {\n",
       "        text-align: right;\n",
       "    }\n",
       "</style>\n",
       "<table border=\"1\" class=\"dataframe\">\n",
       "  <thead>\n",
       "    <tr style=\"text-align: right;\">\n",
       "      <th></th>\n",
       "      <th>item_id</th>\n",
       "      <th>item_name</th>\n",
       "      <th>playtime_forever</th>\n",
       "      <th>playtime_2weeks</th>\n",
       "      <th>user_id</th>\n",
       "    </tr>\n",
       "  </thead>\n",
       "  <tbody>\n",
       "    <tr>\n",
       "      <th>1944572</th>\n",
       "      <td>3830</td>\n",
       "      <td>Psychonauts</td>\n",
       "      <td>2176</td>\n",
       "      <td>0</td>\n",
       "      <td>REBAS_AS_F-T</td>\n",
       "    </tr>\n",
       "    <tr>\n",
       "      <th>1944573</th>\n",
       "      <td>4000</td>\n",
       "      <td>Garry's Mod</td>\n",
       "      <td>1673</td>\n",
       "      <td>0</td>\n",
       "      <td>REBAS_AS_F-T</td>\n",
       "    </tr>\n",
       "    <tr>\n",
       "      <th>1944583</th>\n",
       "      <td>7670</td>\n",
       "      <td>BioShock</td>\n",
       "      <td>146</td>\n",
       "      <td>0</td>\n",
       "      <td>REBAS_AS_F-T</td>\n",
       "    </tr>\n",
       "    <tr>\n",
       "      <th>1944585</th>\n",
       "      <td>8600</td>\n",
       "      <td>RACE 07</td>\n",
       "      <td>101</td>\n",
       "      <td>0</td>\n",
       "      <td>REBAS_AS_F-T</td>\n",
       "    </tr>\n",
       "    <tr>\n",
       "      <th>1944587</th>\n",
       "      <td>420</td>\n",
       "      <td>Half-Life 2: Episode Two</td>\n",
       "      <td>31</td>\n",
       "      <td>0</td>\n",
       "      <td>REBAS_AS_F-T</td>\n",
       "    </tr>\n",
       "    <tr>\n",
       "      <th>...</th>\n",
       "      <td>...</td>\n",
       "      <td>...</td>\n",
       "      <td>...</td>\n",
       "      <td>...</td>\n",
       "      <td>...</td>\n",
       "    </tr>\n",
       "    <tr>\n",
       "      <th>1946512</th>\n",
       "      <td>515200</td>\n",
       "      <td>Cliff Hanger</td>\n",
       "      <td>4303</td>\n",
       "      <td>4303</td>\n",
       "      <td>REBAS_AS_F-T</td>\n",
       "    </tr>\n",
       "    <tr>\n",
       "      <th>1946514</th>\n",
       "      <td>517000</td>\n",
       "      <td>Sakura Shrine Girls</td>\n",
       "      <td>3695</td>\n",
       "      <td>3695</td>\n",
       "      <td>REBAS_AS_F-T</td>\n",
       "    </tr>\n",
       "    <tr>\n",
       "      <th>1946517</th>\n",
       "      <td>517710</td>\n",
       "      <td>Redout</td>\n",
       "      <td>11</td>\n",
       "      <td>0</td>\n",
       "      <td>REBAS_AS_F-T</td>\n",
       "    </tr>\n",
       "    <tr>\n",
       "      <th>1946525</th>\n",
       "      <td>521470</td>\n",
       "      <td>Magical Otoge Ciel</td>\n",
       "      <td>7136</td>\n",
       "      <td>4742</td>\n",
       "      <td>REBAS_AS_F-T</td>\n",
       "    </tr>\n",
       "    <tr>\n",
       "      <th>1946527</th>\n",
       "      <td>521540</td>\n",
       "      <td>This World Unknown</td>\n",
       "      <td>6430</td>\n",
       "      <td>5600</td>\n",
       "      <td>REBAS_AS_F-T</td>\n",
       "    </tr>\n",
       "  </tbody>\n",
       "</table>\n",
       "<p>1309 rows × 5 columns</p>\n",
       "</div>"
      ],
      "text/plain": [
       "        item_id                 item_name  playtime_forever  playtime_2weeks  \\\n",
       "1944572    3830               Psychonauts              2176                0   \n",
       "1944573    4000               Garry's Mod              1673                0   \n",
       "1944583    7670                  BioShock               146                0   \n",
       "1944585    8600                   RACE 07               101                0   \n",
       "1944587     420  Half-Life 2: Episode Two                31                0   \n",
       "...         ...                       ...               ...              ...   \n",
       "1946512  515200              Cliff Hanger              4303             4303   \n",
       "1946514  517000       Sakura Shrine Girls              3695             3695   \n",
       "1946517  517710                    Redout                11                0   \n",
       "1946525  521470        Magical Otoge Ciel              7136             4742   \n",
       "1946527  521540        This World Unknown              6430             5600   \n",
       "\n",
       "              user_id  \n",
       "1944572  REBAS_AS_F-T  \n",
       "1944573  REBAS_AS_F-T  \n",
       "1944583  REBAS_AS_F-T  \n",
       "1944585  REBAS_AS_F-T  \n",
       "1944587  REBAS_AS_F-T  \n",
       "...               ...  \n",
       "1946512  REBAS_AS_F-T  \n",
       "1946514  REBAS_AS_F-T  \n",
       "1946517  REBAS_AS_F-T  \n",
       "1946525  REBAS_AS_F-T  \n",
       "1946527  REBAS_AS_F-T  \n",
       "\n",
       "[1309 rows x 5 columns]"
      ]
     },
     "execution_count": 25,
     "metadata": {},
     "output_type": "execute_result"
    }
   ],
   "source": [
    "informacion_usuario_top[informacion_usuario_top[\"playtime_forever\"] != 0]"
   ]
  },
  {
   "cell_type": "markdown",
   "metadata": {},
   "source": [
    "Ahora quiero ver gráficamente cuáles fueron los 10 juegos más jugados por este usuario, para ello, hago lo siguiente:"
   ]
  },
  {
   "cell_type": "code",
   "execution_count": 50,
   "metadata": {},
   "outputs": [
    {
     "data": {
      "text/plain": [
       "<Axes: >"
      ]
     },
     "execution_count": 50,
     "metadata": {},
     "output_type": "execute_result"
    },
    {
     "data": {
      "image/png": "[encoded data removed]",
      "text/plain": [
       "<Figure size 640x480 with 1 Axes>"
      ]
     },
     "metadata": {},
     "output_type": "display_data"
    }
   ],
   "source": [
    "informacion_usuario_top[\"playtime_forever\"].sort_values(ascending=False).head(10).plot(kind=\"bar\")"
   ]
  }
 ],
 "metadata": {
  "kernelspec": {
   "display_name": "Python 3",
   "language": "python",
   "name": "python3"
  },
  "language_info": {
   "codemirror_mode": {
    "name": "ipython",
    "version": 3
   },
   "file_extension": ".py",
   "mimetype": "text/x-python",
   "name": "python",
   "nbconvert_exporter": "python",
   "pygments_lexer": "ipython3",
   "version": "3.12.2"
  }
 },
 "nbformat": 4,
 "nbformat_minor": 2
}

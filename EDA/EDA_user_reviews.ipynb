{
 "cells": [
  {
   "cell_type": "markdown",
   "metadata": {},
   "source": [
    "En este archivo voy a hacer un EDA al conjunto de datos correspondiente a user_reviews."
   ]
  },
  {
   "cell_type": "markdown",
   "metadata": {},
   "source": [
    "Primero cargamos las librerías necesarias para hacer el EDA"
   ]
  },
  {
   "cell_type": "code",
   "execution_count": 2,
   "metadata": {},
   "outputs": [],
   "source": [
    "# Importación de las librerías necesarias para trabajar\n",
    "import pandas as pd\n",
    "import numpy as np\n",
    "import seaborn as sns\n",
    "import matplotlib.pyplot as plt\n",
    "import scipy.stats as stats"
   ]
  },
  {
   "cell_type": "code",
   "execution_count": 3,
   "metadata": {},
   "outputs": [
    {
     "data": {
      "text/html": [
       "<div>\n",
       "<style scoped>\n",
       "    .dataframe tbody tr th:only-of-type {\n",
       "        vertical-align: middle;\n",
       "    }\n",
       "\n",
       "    .dataframe tbody tr th {\n",
       "        vertical-align: top;\n",
       "    }\n",
       "\n",
       "    .dataframe thead th {\n",
       "        text-align: right;\n",
       "    }\n",
       "</style>\n",
       "<table border=\"1\" class=\"dataframe\">\n",
       "  <thead>\n",
       "    <tr style=\"text-align: right;\">\n",
       "      <th></th>\n",
       "      <th>funny</th>\n",
       "      <th>posted</th>\n",
       "      <th>last_edited</th>\n",
       "      <th>item_id</th>\n",
       "      <th>helpful</th>\n",
       "      <th>recommend</th>\n",
       "      <th>review</th>\n",
       "      <th>user_id</th>\n",
       "    </tr>\n",
       "  </thead>\n",
       "  <tbody>\n",
       "    <tr>\n",
       "      <th>0</th>\n",
       "      <td></td>\n",
       "      <td>Posted November 5, 2011.</td>\n",
       "      <td></td>\n",
       "      <td>1250</td>\n",
       "      <td>No ratings yet</td>\n",
       "      <td>True</td>\n",
       "      <td>Simple yet with great replayability. In my opi...</td>\n",
       "      <td>76561197970982479</td>\n",
       "    </tr>\n",
       "    <tr>\n",
       "      <th>1</th>\n",
       "      <td></td>\n",
       "      <td>Posted July 15, 2011.</td>\n",
       "      <td></td>\n",
       "      <td>22200</td>\n",
       "      <td>No ratings yet</td>\n",
       "      <td>True</td>\n",
       "      <td>It's unique and worth a playthrough.</td>\n",
       "      <td>76561197970982479</td>\n",
       "    </tr>\n",
       "    <tr>\n",
       "      <th>2</th>\n",
       "      <td></td>\n",
       "      <td>Posted April 21, 2011.</td>\n",
       "      <td></td>\n",
       "      <td>43110</td>\n",
       "      <td>No ratings yet</td>\n",
       "      <td>True</td>\n",
       "      <td>Great atmosphere. The gunplay can be a bit chu...</td>\n",
       "      <td>76561197970982479</td>\n",
       "    </tr>\n",
       "    <tr>\n",
       "      <th>3</th>\n",
       "      <td></td>\n",
       "      <td>Posted June 24, 2014.</td>\n",
       "      <td></td>\n",
       "      <td>251610</td>\n",
       "      <td>15 of 20 people (75%) found this review helpful</td>\n",
       "      <td>True</td>\n",
       "      <td>I know what you think when you see this title ...</td>\n",
       "      <td>js41637</td>\n",
       "    </tr>\n",
       "    <tr>\n",
       "      <th>4</th>\n",
       "      <td></td>\n",
       "      <td>Posted September 8, 2013.</td>\n",
       "      <td></td>\n",
       "      <td>227300</td>\n",
       "      <td>0 of 1 people (0%) found this review helpful</td>\n",
       "      <td>True</td>\n",
       "      <td>For a simple (it's actually not all that simpl...</td>\n",
       "      <td>js41637</td>\n",
       "    </tr>\n",
       "    <tr>\n",
       "      <th>...</th>\n",
       "      <td>...</td>\n",
       "      <td>...</td>\n",
       "      <td>...</td>\n",
       "      <td>...</td>\n",
       "      <td>...</td>\n",
       "      <td>...</td>\n",
       "      <td>...</td>\n",
       "      <td>...</td>\n",
       "    </tr>\n",
       "    <tr>\n",
       "      <th>59300</th>\n",
       "      <td></td>\n",
       "      <td>Posted July 10.</td>\n",
       "      <td></td>\n",
       "      <td>70</td>\n",
       "      <td>No ratings yet</td>\n",
       "      <td>True</td>\n",
       "      <td>a must have classic from steam definitely wort...</td>\n",
       "      <td>76561198312638244</td>\n",
       "    </tr>\n",
       "    <tr>\n",
       "      <th>59301</th>\n",
       "      <td></td>\n",
       "      <td>Posted July 8.</td>\n",
       "      <td></td>\n",
       "      <td>362890</td>\n",
       "      <td>No ratings yet</td>\n",
       "      <td>True</td>\n",
       "      <td>this game is a perfect remake of the original ...</td>\n",
       "      <td>76561198312638244</td>\n",
       "    </tr>\n",
       "    <tr>\n",
       "      <th>59302</th>\n",
       "      <td>1 person found this review funny</td>\n",
       "      <td>Posted July 3.</td>\n",
       "      <td></td>\n",
       "      <td>273110</td>\n",
       "      <td>1 of 2 people (50%) found this review helpful</td>\n",
       "      <td>True</td>\n",
       "      <td>had so much fun plaing this and collecting res...</td>\n",
       "      <td>LydiaMorley</td>\n",
       "    </tr>\n",
       "    <tr>\n",
       "      <th>59303</th>\n",
       "      <td></td>\n",
       "      <td>Posted July 20.</td>\n",
       "      <td></td>\n",
       "      <td>730</td>\n",
       "      <td>No ratings yet</td>\n",
       "      <td>True</td>\n",
       "      <td>:D</td>\n",
       "      <td>LydiaMorley</td>\n",
       "    </tr>\n",
       "    <tr>\n",
       "      <th>59304</th>\n",
       "      <td></td>\n",
       "      <td>Posted July 2.</td>\n",
       "      <td></td>\n",
       "      <td>440</td>\n",
       "      <td>No ratings yet</td>\n",
       "      <td>True</td>\n",
       "      <td>so much fun :D</td>\n",
       "      <td>LydiaMorley</td>\n",
       "    </tr>\n",
       "  </tbody>\n",
       "</table>\n",
       "<p>59305 rows × 8 columns</p>\n",
       "</div>"
      ],
      "text/plain": [
       "                                  funny                     posted  \\\n",
       "0                                         Posted November 5, 2011.   \n",
       "1                                            Posted July 15, 2011.   \n",
       "2                                           Posted April 21, 2011.   \n",
       "3                                            Posted June 24, 2014.   \n",
       "4                                        Posted September 8, 2013.   \n",
       "...                                 ...                        ...   \n",
       "59300                                              Posted July 10.   \n",
       "59301                                               Posted July 8.   \n",
       "59302  1 person found this review funny             Posted July 3.   \n",
       "59303                                              Posted July 20.   \n",
       "59304                                               Posted July 2.   \n",
       "\n",
       "      last_edited item_id                                          helpful  \\\n",
       "0                    1250                                   No ratings yet   \n",
       "1                   22200                                   No ratings yet   \n",
       "2                   43110                                   No ratings yet   \n",
       "3                  251610  15 of 20 people (75%) found this review helpful   \n",
       "4                  227300     0 of 1 people (0%) found this review helpful   \n",
       "...           ...     ...                                              ...   \n",
       "59300                  70                                   No ratings yet   \n",
       "59301              362890                                   No ratings yet   \n",
       "59302              273110    1 of 2 people (50%) found this review helpful   \n",
       "59303                 730                                   No ratings yet   \n",
       "59304                 440                                   No ratings yet   \n",
       "\n",
       "       recommend                                             review  \\\n",
       "0           True  Simple yet with great replayability. In my opi...   \n",
       "1           True               It's unique and worth a playthrough.   \n",
       "2           True  Great atmosphere. The gunplay can be a bit chu...   \n",
       "3           True  I know what you think when you see this title ...   \n",
       "4           True  For a simple (it's actually not all that simpl...   \n",
       "...          ...                                                ...   \n",
       "59300       True  a must have classic from steam definitely wort...   \n",
       "59301       True  this game is a perfect remake of the original ...   \n",
       "59302       True  had so much fun plaing this and collecting res...   \n",
       "59303       True                                                 :D   \n",
       "59304       True                                     so much fun :D   \n",
       "\n",
       "                 user_id  \n",
       "0      76561197970982479  \n",
       "1      76561197970982479  \n",
       "2      76561197970982479  \n",
       "3                js41637  \n",
       "4                js41637  \n",
       "...                  ...  \n",
       "59300  76561198312638244  \n",
       "59301  76561198312638244  \n",
       "59302        LydiaMorley  \n",
       "59303        LydiaMorley  \n",
       "59304        LydiaMorley  \n",
       "\n",
       "[59305 rows x 8 columns]"
      ]
     },
     "execution_count": 3,
     "metadata": {},
     "output_type": "execute_result"
    }
   ],
   "source": [
    "# Ahora, cargo el archivo que contiene el conjunto de datos que vamos a analizar\n",
    "reseñas = pd.read_parquet(\"user_reviews_complete.parquet\")\n",
    "# Verifico si el archivo se cargó correctamente\n",
    "reseñas"
   ]
  },
  {
   "cell_type": "markdown",
   "metadata": {},
   "source": [
    "A primera vista, vemos que es una tabla de 59305 filas y 8 columnas. Veamos más información al respecto."
   ]
  },
  {
   "cell_type": "code",
   "execution_count": 4,
   "metadata": {},
   "outputs": [
    {
     "data": {
      "text/html": [
       "<div>\n",
       "<style scoped>\n",
       "    .dataframe tbody tr th:only-of-type {\n",
       "        vertical-align: middle;\n",
       "    }\n",
       "\n",
       "    .dataframe tbody tr th {\n",
       "        vertical-align: top;\n",
       "    }\n",
       "\n",
       "    .dataframe thead th {\n",
       "        text-align: right;\n",
       "    }\n",
       "</style>\n",
       "<table border=\"1\" class=\"dataframe\">\n",
       "  <thead>\n",
       "    <tr style=\"text-align: right;\">\n",
       "      <th></th>\n",
       "      <th>funny</th>\n",
       "      <th>posted</th>\n",
       "      <th>last_edited</th>\n",
       "      <th>item_id</th>\n",
       "      <th>helpful</th>\n",
       "      <th>recommend</th>\n",
       "      <th>review</th>\n",
       "      <th>user_id</th>\n",
       "    </tr>\n",
       "  </thead>\n",
       "  <tbody>\n",
       "    <tr>\n",
       "      <th>count</th>\n",
       "      <td>59305</td>\n",
       "      <td>59305</td>\n",
       "      <td>59305</td>\n",
       "      <td>59305</td>\n",
       "      <td>59305</td>\n",
       "      <td>59305</td>\n",
       "      <td>59305</td>\n",
       "      <td>59305</td>\n",
       "    </tr>\n",
       "    <tr>\n",
       "      <th>unique</th>\n",
       "      <td>186</td>\n",
       "      <td>1906</td>\n",
       "      <td>1015</td>\n",
       "      <td>3682</td>\n",
       "      <td>1344</td>\n",
       "      <td>2</td>\n",
       "      <td>55313</td>\n",
       "      <td>25458</td>\n",
       "    </tr>\n",
       "    <tr>\n",
       "      <th>top</th>\n",
       "      <td></td>\n",
       "      <td>Posted June 21, 2014.</td>\n",
       "      <td></td>\n",
       "      <td>730</td>\n",
       "      <td>No ratings yet</td>\n",
       "      <td>True</td>\n",
       "      <td>good game</td>\n",
       "      <td>76561198094665607</td>\n",
       "    </tr>\n",
       "    <tr>\n",
       "      <th>freq</th>\n",
       "      <td>51154</td>\n",
       "      <td>225</td>\n",
       "      <td>53165</td>\n",
       "      <td>3759</td>\n",
       "      <td>30168</td>\n",
       "      <td>52473</td>\n",
       "      <td>100</td>\n",
       "      <td>20</td>\n",
       "    </tr>\n",
       "  </tbody>\n",
       "</table>\n",
       "</div>"
      ],
      "text/plain": [
       "        funny                 posted last_edited item_id         helpful  \\\n",
       "count   59305                  59305       59305   59305           59305   \n",
       "unique    186                   1906        1015    3682            1344   \n",
       "top            Posted June 21, 2014.                 730  No ratings yet   \n",
       "freq    51154                    225       53165    3759           30168   \n",
       "\n",
       "       recommend     review            user_id  \n",
       "count      59305      59305              59305  \n",
       "unique         2      55313              25458  \n",
       "top         True  good game  76561198094665607  \n",
       "freq       52473        100                 20  "
      ]
     },
     "execution_count": 4,
     "metadata": {},
     "output_type": "execute_result"
    }
   ],
   "source": [
    "reseñas.describe(include='all')"
   ]
  },
  {
   "cell_type": "markdown",
   "metadata": {},
   "source": [
    "Con esto vemos por ejemplo que de las 59305 reseñas, fueron hechas por menos de la mitad, 25458 usuarios. Veamos ahora más información acerca del Dataframe"
   ]
  },
  {
   "cell_type": "code",
   "execution_count": 5,
   "metadata": {},
   "outputs": [
    {
     "name": "stdout",
     "output_type": "stream",
     "text": [
      "<class 'pandas.core.frame.DataFrame'>\n",
      "RangeIndex: 59305 entries, 0 to 59304\n",
      "Data columns (total 8 columns):\n",
      " #   Column       Non-Null Count  Dtype \n",
      "---  ------       --------------  ----- \n",
      " 0   funny        59305 non-null  object\n",
      " 1   posted       59305 non-null  object\n",
      " 2   last_edited  59305 non-null  object\n",
      " 3   item_id      59305 non-null  object\n",
      " 4   helpful      59305 non-null  object\n",
      " 5   recommend    59305 non-null  bool  \n",
      " 6   review       59305 non-null  object\n",
      " 7   user_id      59305 non-null  object\n",
      "dtypes: bool(1), object(7)\n",
      "memory usage: 3.2+ MB\n"
     ]
    }
   ],
   "source": [
    "reseñas.info()"
   ]
  },
  {
   "cell_type": "markdown",
   "metadata": {},
   "source": [
    "Vemos que las columnas aparentemente no tienen nulos, pero si nos concentramos en la primera de ella, podemos observar que tiene celdas vacías. Estas celdas en su interior tienen strings vacíos (\"\"), por lo cuál voy a hacer esta pequeña transformación y ejecutar el método .info() nuevamente."
   ]
  },
  {
   "cell_type": "code",
   "execution_count": 6,
   "metadata": {},
   "outputs": [
    {
     "data": {
      "text/html": [
       "<div>\n",
       "<style scoped>\n",
       "    .dataframe tbody tr th:only-of-type {\n",
       "        vertical-align: middle;\n",
       "    }\n",
       "\n",
       "    .dataframe tbody tr th {\n",
       "        vertical-align: top;\n",
       "    }\n",
       "\n",
       "    .dataframe thead th {\n",
       "        text-align: right;\n",
       "    }\n",
       "</style>\n",
       "<table border=\"1\" class=\"dataframe\">\n",
       "  <thead>\n",
       "    <tr style=\"text-align: right;\">\n",
       "      <th></th>\n",
       "      <th>funny</th>\n",
       "      <th>posted</th>\n",
       "      <th>last_edited</th>\n",
       "      <th>item_id</th>\n",
       "      <th>helpful</th>\n",
       "      <th>recommend</th>\n",
       "      <th>review</th>\n",
       "      <th>user_id</th>\n",
       "    </tr>\n",
       "  </thead>\n",
       "  <tbody>\n",
       "    <tr>\n",
       "      <th>0</th>\n",
       "      <td>NaN</td>\n",
       "      <td>Posted November 5, 2011.</td>\n",
       "      <td>NaN</td>\n",
       "      <td>1250</td>\n",
       "      <td>No ratings yet</td>\n",
       "      <td>True</td>\n",
       "      <td>Simple yet with great replayability. In my opi...</td>\n",
       "      <td>76561197970982479</td>\n",
       "    </tr>\n",
       "    <tr>\n",
       "      <th>1</th>\n",
       "      <td>NaN</td>\n",
       "      <td>Posted July 15, 2011.</td>\n",
       "      <td>NaN</td>\n",
       "      <td>22200</td>\n",
       "      <td>No ratings yet</td>\n",
       "      <td>True</td>\n",
       "      <td>It's unique and worth a playthrough.</td>\n",
       "      <td>76561197970982479</td>\n",
       "    </tr>\n",
       "    <tr>\n",
       "      <th>2</th>\n",
       "      <td>NaN</td>\n",
       "      <td>Posted April 21, 2011.</td>\n",
       "      <td>NaN</td>\n",
       "      <td>43110</td>\n",
       "      <td>No ratings yet</td>\n",
       "      <td>True</td>\n",
       "      <td>Great atmosphere. The gunplay can be a bit chu...</td>\n",
       "      <td>76561197970982479</td>\n",
       "    </tr>\n",
       "    <tr>\n",
       "      <th>3</th>\n",
       "      <td>NaN</td>\n",
       "      <td>Posted June 24, 2014.</td>\n",
       "      <td>NaN</td>\n",
       "      <td>251610</td>\n",
       "      <td>15 of 20 people (75%) found this review helpful</td>\n",
       "      <td>True</td>\n",
       "      <td>I know what you think when you see this title ...</td>\n",
       "      <td>js41637</td>\n",
       "    </tr>\n",
       "    <tr>\n",
       "      <th>4</th>\n",
       "      <td>NaN</td>\n",
       "      <td>Posted September 8, 2013.</td>\n",
       "      <td>NaN</td>\n",
       "      <td>227300</td>\n",
       "      <td>0 of 1 people (0%) found this review helpful</td>\n",
       "      <td>True</td>\n",
       "      <td>For a simple (it's actually not all that simpl...</td>\n",
       "      <td>js41637</td>\n",
       "    </tr>\n",
       "    <tr>\n",
       "      <th>...</th>\n",
       "      <td>...</td>\n",
       "      <td>...</td>\n",
       "      <td>...</td>\n",
       "      <td>...</td>\n",
       "      <td>...</td>\n",
       "      <td>...</td>\n",
       "      <td>...</td>\n",
       "      <td>...</td>\n",
       "    </tr>\n",
       "    <tr>\n",
       "      <th>59300</th>\n",
       "      <td>NaN</td>\n",
       "      <td>Posted July 10.</td>\n",
       "      <td>NaN</td>\n",
       "      <td>70</td>\n",
       "      <td>No ratings yet</td>\n",
       "      <td>True</td>\n",
       "      <td>a must have classic from steam definitely wort...</td>\n",
       "      <td>76561198312638244</td>\n",
       "    </tr>\n",
       "    <tr>\n",
       "      <th>59301</th>\n",
       "      <td>NaN</td>\n",
       "      <td>Posted July 8.</td>\n",
       "      <td>NaN</td>\n",
       "      <td>362890</td>\n",
       "      <td>No ratings yet</td>\n",
       "      <td>True</td>\n",
       "      <td>this game is a perfect remake of the original ...</td>\n",
       "      <td>76561198312638244</td>\n",
       "    </tr>\n",
       "    <tr>\n",
       "      <th>59302</th>\n",
       "      <td>1 person found this review funny</td>\n",
       "      <td>Posted July 3.</td>\n",
       "      <td>NaN</td>\n",
       "      <td>273110</td>\n",
       "      <td>1 of 2 people (50%) found this review helpful</td>\n",
       "      <td>True</td>\n",
       "      <td>had so much fun plaing this and collecting res...</td>\n",
       "      <td>LydiaMorley</td>\n",
       "    </tr>\n",
       "    <tr>\n",
       "      <th>59303</th>\n",
       "      <td>NaN</td>\n",
       "      <td>Posted July 20.</td>\n",
       "      <td>NaN</td>\n",
       "      <td>730</td>\n",
       "      <td>No ratings yet</td>\n",
       "      <td>True</td>\n",
       "      <td>:D</td>\n",
       "      <td>LydiaMorley</td>\n",
       "    </tr>\n",
       "    <tr>\n",
       "      <th>59304</th>\n",
       "      <td>NaN</td>\n",
       "      <td>Posted July 2.</td>\n",
       "      <td>NaN</td>\n",
       "      <td>440</td>\n",
       "      <td>No ratings yet</td>\n",
       "      <td>True</td>\n",
       "      <td>so much fun :D</td>\n",
       "      <td>LydiaMorley</td>\n",
       "    </tr>\n",
       "  </tbody>\n",
       "</table>\n",
       "<p>59305 rows × 8 columns</p>\n",
       "</div>"
      ],
      "text/plain": [
       "                                  funny                     posted  \\\n",
       "0                                   NaN   Posted November 5, 2011.   \n",
       "1                                   NaN      Posted July 15, 2011.   \n",
       "2                                   NaN     Posted April 21, 2011.   \n",
       "3                                   NaN      Posted June 24, 2014.   \n",
       "4                                   NaN  Posted September 8, 2013.   \n",
       "...                                 ...                        ...   \n",
       "59300                               NaN            Posted July 10.   \n",
       "59301                               NaN             Posted July 8.   \n",
       "59302  1 person found this review funny             Posted July 3.   \n",
       "59303                               NaN            Posted July 20.   \n",
       "59304                               NaN             Posted July 2.   \n",
       "\n",
       "      last_edited item_id                                          helpful  \\\n",
       "0             NaN    1250                                   No ratings yet   \n",
       "1             NaN   22200                                   No ratings yet   \n",
       "2             NaN   43110                                   No ratings yet   \n",
       "3             NaN  251610  15 of 20 people (75%) found this review helpful   \n",
       "4             NaN  227300     0 of 1 people (0%) found this review helpful   \n",
       "...           ...     ...                                              ...   \n",
       "59300         NaN      70                                   No ratings yet   \n",
       "59301         NaN  362890                                   No ratings yet   \n",
       "59302         NaN  273110    1 of 2 people (50%) found this review helpful   \n",
       "59303         NaN     730                                   No ratings yet   \n",
       "59304         NaN     440                                   No ratings yet   \n",
       "\n",
       "       recommend                                             review  \\\n",
       "0           True  Simple yet with great replayability. In my opi...   \n",
       "1           True               It's unique and worth a playthrough.   \n",
       "2           True  Great atmosphere. The gunplay can be a bit chu...   \n",
       "3           True  I know what you think when you see this title ...   \n",
       "4           True  For a simple (it's actually not all that simpl...   \n",
       "...          ...                                                ...   \n",
       "59300       True  a must have classic from steam definitely wort...   \n",
       "59301       True  this game is a perfect remake of the original ...   \n",
       "59302       True  had so much fun plaing this and collecting res...   \n",
       "59303       True                                                 :D   \n",
       "59304       True                                     so much fun :D   \n",
       "\n",
       "                 user_id  \n",
       "0      76561197970982479  \n",
       "1      76561197970982479  \n",
       "2      76561197970982479  \n",
       "3                js41637  \n",
       "4                js41637  \n",
       "...                  ...  \n",
       "59300  76561198312638244  \n",
       "59301  76561198312638244  \n",
       "59302        LydiaMorley  \n",
       "59303        LydiaMorley  \n",
       "59304        LydiaMorley  \n",
       "\n",
       "[59305 rows x 8 columns]"
      ]
     },
     "execution_count": 6,
     "metadata": {},
     "output_type": "execute_result"
    }
   ],
   "source": [
    "# Usamos replace con regex para que coincidan los string vacíos.\n",
    "reseñas = reseñas.replace(r'^\\s*$', float('nan'), regex=True)\n",
    "reseñas"
   ]
  },
  {
   "cell_type": "markdown",
   "metadata": {},
   "source": [
    "Vemos que cambió, vamos ahora con el método .info() nuevamente."
   ]
  },
  {
   "cell_type": "code",
   "execution_count": 7,
   "metadata": {},
   "outputs": [
    {
     "name": "stdout",
     "output_type": "stream",
     "text": [
      "<class 'pandas.core.frame.DataFrame'>\n",
      "RangeIndex: 59305 entries, 0 to 59304\n",
      "Data columns (total 8 columns):\n",
      " #   Column       Non-Null Count  Dtype \n",
      "---  ------       --------------  ----- \n",
      " 0   funny        8151 non-null   object\n",
      " 1   posted       59305 non-null  object\n",
      " 2   last_edited  6140 non-null   object\n",
      " 3   item_id      59305 non-null  object\n",
      " 4   helpful      59305 non-null  object\n",
      " 5   recommend    59305 non-null  bool  \n",
      " 6   review       59267 non-null  object\n",
      " 7   user_id      59305 non-null  object\n",
      "dtypes: bool(1), object(7)\n",
      "memory usage: 3.2+ MB\n"
     ]
    }
   ],
   "source": [
    "reseñas.info()"
   ]
  },
  {
   "cell_type": "markdown",
   "metadata": {},
   "source": [
    "Ahora vamos a gráficas que tan vacías / llenas están las columnas según la información proporcionada anteriormente. Para ello nos ayudamos de matplotlib."
   ]
  },
  {
   "cell_type": "code",
   "execution_count": 8,
   "metadata": {},
   "outputs": [
    {
     "name": "stdout",
     "output_type": "stream",
     "text": [
      "51154\n",
      "0\n",
      "53165\n",
      "0\n",
      "0\n",
      "0\n",
      "38\n",
      "0\n"
     ]
    }
   ],
   "source": [
    "for datos_faltantes in reseñas.isnull().sum():\n",
    "    print(datos_faltantes)"
   ]
  },
  {
   "cell_type": "code",
   "execution_count": 9,
   "metadata": {},
   "outputs": [
    {
     "data": {
      "image/png": "[encoded data removed]",
      "text/plain": [
       "<Figure size 1000x600 with 1 Axes>"
      ]
     },
     "metadata": {},
     "output_type": "display_data"
    }
   ],
   "source": [
    "# Creamos un array de (8,1), este va a contener la cantidad total de filas en el Dataframe de forma reiterativa\n",
    "total_reiterativo = np.full(8,59305)\n",
    "\n",
    "# A partir de un bucle, llenamos una lista que contenga la cantidad de filas faltantes en cada columna.\n",
    "filas_faltantes_por_columna = []\n",
    "for datos_faltantes in reseñas.isnull().sum():\n",
    "    filas_faltantes_por_columna.append(datos_faltantes)\n",
    "\n",
    "# Calculamos los valores no nulos\n",
    "celdas_llenas = np.array(total_reiterativo) - np.array(filas_faltantes_por_columna)\n",
    "\n",
    "fig, ax = plt.subplots(figsize=(10, 6))\n",
    "\n",
    "# Creamos las barras para los totales (nulos + no nulos) en color celeste claro\n",
    "ax.bar(range(len(total_reiterativo)), total_reiterativo, color='lightblue', label='Totales')\n",
    "\n",
    "# Creamos las barras para los no nulos en color azul\n",
    "ax.bar(range(len(celdas_llenas)), celdas_llenas, color='blue', label='No Nulos')\n",
    "\n",
    "# Añadir etiquetas y título\n",
    "ax.set_xticks(range(len(total_reiterativo)))\n",
    "ax.set_xticklabels(reseñas.columns)\n",
    "ax.set_ylabel('Cantidad de filas')\n",
    "ax.set_xlabel('Columnas')\n",
    "ax.set_title('Gráfico de Barras Superpuestas de Valores Totales y No Nulos')\n",
    "ax.legend(loc='upper left', bbox_to_anchor=(1, 1))\n",
    "\n",
    "\n",
    "# Mostrar el gráfico\n",
    "plt.show()\n"
   ]
  },
  {
   "cell_type": "markdown",
   "metadata": {},
   "source": [
    "Vemos que tanto la columna funny cómo last_edited tienen una cantidad de nulos tan grande, que convendría eliminarlas a las columnas en lugar de eliminar sus filas vacías. Ya que el hacerlo, reduciría significativamente el Dataframe. Exploremos ahora cada una de estas columnas para ver que información nos ofrece."
   ]
  },
  {
   "cell_type": "code",
   "execution_count": 10,
   "metadata": {},
   "outputs": [
    {
     "data": {
      "text/plain": [
       "18       3 people found this review funny\n",
       "19       1 person found this review funny\n",
       "20       2 people found this review funny\n",
       "24       1 person found this review funny\n",
       "27       1 person found this review funny\n",
       "                       ...               \n",
       "59283    2 people found this review funny\n",
       "59284    3 people found this review funny\n",
       "59292    1 person found this review funny\n",
       "59297    1 person found this review funny\n",
       "59302    1 person found this review funny\n",
       "Name: funny, Length: 8151, dtype: object"
      ]
     },
     "execution_count": 10,
     "metadata": {},
     "output_type": "execute_result"
    }
   ],
   "source": [
    "reseñas[~reseñas[\"funny\"].isnull()][\"funny\"]"
   ]
  },
  {
   "cell_type": "markdown",
   "metadata": {},
   "source": [
    "Cómo podemos observar y también deducir, en cada reseña dentro de Steam, los usuarios tienen la opción de clasificar si las reseña les resultó divertida. Es lógico pensar que no todos los usuarios interactuaron con esta funcionalidad, al menos en las reseñas que tengo disponibles en este DataFrame. Sólo cómo curiosidad, podríamos ver cuál fue la reseña que más personas catalogaron cómo graciosa divertida. "
   ]
  },
  {
   "cell_type": "code",
   "execution_count": 11,
   "metadata": {},
   "outputs": [
    {
     "name": "stdout",
     "output_type": "stream",
     "text": [
      "[3, 1, 2, 1, 1, 5, 1, 1, 17, 1, 2, 1, 1, 2, 2, 1, 1, 1, 2, 2, 524, 4, 1, 3, 1, 1, 1, 1, 1, 12, 1, 3, 1, 1, 1, 2, 1, 2, 2, 2, 1, 1, 2, 3, 1, 1, 1, 3, 6, 4, 1, 2, 5, 1, 1, 1, 1, 7, 1, 103, 2, 1, 1, 3, 1, 1, 1, 2, 16, 1, 1, 34, 2, 1, 1, 2, 1, 1, 1, 1, 3, 1, 1, 1, 3, 1, 1, 1, 1, 1, 1, 2, 1, 2, 6, 1, 2, 3, 4, 1, 1, 1, 1, 2, 1, 1, 1, 1, 1, 7, 3, 1, 1, 1, 1, 1, 1, 2, 9, 1, 12, 45, 2, 2, 11, 1, 2, 1, 2, 1, 2, 1, 1, 1, 3, 2, 1, 97, 1, 1, 1, 1, 1, 1, 1, 1, 2, 1, 7, 1, 3, 1, 4, 4, 1, 1, 2, 2, 1, 5, 2, 2, 2, 1, 1, 1, 6, 1, 1, 1, 1, 2, 1, 1, 207, 3, 1, 1, 1, 2, 2, 1, 1, 1, 6, 1, 6, 1, 1, 1, 2, 1, 2, 1, 1, 1, 1, 1, 2, 1, 1, 6, 2, 718, 2, 1, 1, 1, 1, 1, 1, 1, 1, 23, 1, 1, 1, 1, 2, 100, 3, 1, 1, 1, 1, 2, 5, 1, 2, 1, 1, 1, 1, 2, 1, 1, 2, 1, 4, 3, 1, 3, 1, 2, 1, 1, 1, 1, 1, 3, 3, 2, 2, 8, 2, 1, 1, 1, 1, 1, 1, 1, 1, 2, 1, 1, 1, 3, 1, 3, 2, 1, 1, 1, 3, 11, 1, 3, 1, 4, 2, 3, 1, 1, 1, 1, 1, 3, 1, 2, 1, 1, 1, 1, 2, 1, 1, 1, 1, 1, 1, 1, 2, 2, 1, 5, 1, 3, 1, 1, 1, 1, 2, 1, 1, 1, 1, 1, 2, 1, 1, 2, 4, 1, 1, 1, 1, 5, 19, 1, 32, 1, 1, 718, 118, 10, 1, 1, 3, 1, 4, 3, 3, 2, 1, 2, 1, 1, 1, 2, 2, 4, 1, 1, 3, 1, 1, 1, 44, 3, 2, 1, 1, 1, 1, 1, 1, 3, 3, 1, 1, 1, 1, 1, 1, 1, 1, 1, 1, 1, 7, 1, 1, 1, 1, 1, 1, 1, 1, 3, 1, 1, 3, 2, 1, 1, 2, 10, 1, 1, 1, 1, 1, 1, 1, 1, 1, 1, 1, 1, 5, 1, 1, 2, 20, 1, 1, 1, 1, 8, 16, 1, 1, 1, 1, 2, 1, 1, 1, 1, 9, 2, 2, 1, 3, 2, 1, 1, 1, 2, 1, 2, 3, 36, 2, 2, 2, 3, 1, 1, 1, 1, 1, 1, 1, 1, 3, 2, 2, 1, 2, 1, 3, 1, 15, 1, 1, 2, 1, 1, 1, 1, 1, 1, 1, 2, 1, 1, 1, 1, 1, 2, 6, 1, 3, 1, 1, 3, 1, 3, 1, 2, 2, 1, 1, 3, 1, 1, 1, 1, 7, 1, 4, 1, 1, 1, 1, 1, 1, 1, 1, 1, 5, 1, 1, 2, 1, 1, 1, 1, 1, 1, 4, 2, 1, 1, 1, 1, 131, 1, 1, 1, 1, 1, 1, 1, 1, 1, 17, 1, 1, 1, 1, 1, 1, 2, 1, 1, 12, 1, 1, 1, 1, 1, 1, 1, 279, 3, 1, 1, 1, 1, 4, 1, 2, 1, 1, 2, 3, 2, 2, 2, 1, 4, 3, 1, 1, 1, 1, 1, 3, 1, 5, 3, 3, 3, 1, 1, 1, 11, 5, 3, 2, 3, 1, 10, 7, 1, 1, 1, 1, 1, 1, 4, 1, 2, 2, 1, 1, 4, 3, 1, 3, 2, 1, 1, 1, 2, 1, 2, 1, 1, 2, 1, 1, 1, 1, 1, 1, 2, 3, 1, 1, 1, 1, 1, 1, 1, 1, 1, 1, 1, 2, 1, 1, 1, 11, 1, 1, 1, 2, 1, 2, 1, 1, 1, 2, 1, 5, 1, 2, 1, 2, 1, 1, 1, 2, 1, 3, 2, 1, 1, 1, 1, 1, 1, 1, 2, 1, 3, 122, 8, 269, 1, 1, 2, 1, 296, 1, 1, 1, 1, 1, 2, 2, 2, 1, 1, 1, 5, 1, 1, 1, 1, 1, 3, 2, 3, 1, 4, 1, 1, 7, 46, 1, 2, 1, 1, 1, 1, 1, 1, 1, 1, 1, 1, 1, 1, 3, 1, 2, 11, 1, 1, 1, 1, 1, 1, 1, 8, 1, 1, 1, 2, 1, 1, 1, 1, 1, 1, 42, 1, 10, 5, 1, 2, 2, 1, 1, 1, 1, 1, 1, 36, 2, 1, 1, 1, 1, 16, 1, 1, 1, 4, 1, 1, 2, 2, 1, 1, 1, 1, 1, 1, 2, 1, 1, 2, 1, 80, 1, 1, 2, 2, 1, 2, 2, 1, 2, 1, 1, 1, 1, 1, 1, 2, 1, 1, 1, 2, 1, 1, 3, 1, 1, 1, 5, 1, 2, 28, 1, 1, 1, 1, 4, 3, 3, 1, 1, 1, 1, 1, 417, 92, 261, 2, 54, 3, 1, 1, 1, 1, 1, 1, 4, 1, 1, 11, 1, 1, 1, 1, 12, 1, 1, 13, 1, 1, 4, 2, 1, 1, 2, 6, 11, 1, 1, 7, 14, 7, 1, 1, 1, 2, 3, 133, 15, 8, 16, 1, 1, 19, 2, 1, 3, 4, 1, 3, 2, 1, 3, 2, 2, 2, 2, 1, 2, 1, 2, 1, 3, 1, 1, 1, 2, 1, 5, 1, 1, 1, 1, 1, 4, 1, 8, 1, 4, 7, 10, 1, 1, 2, 1, 2, 1, 1, 1, 1, 1, 115, 1, 1, 2, 1, 1, 72, 1, 1, 2, 9, 1, 2, 1, 1, 1, 1, 5, 5, 1, 1, 2, 2, 1, 2, 1, 1, 2, 1, 1, 1, 1, 1, 1, 1, 2, 3, 1, 1, 3, 1, 2, 1, 1, 1, 1, 1, 1, 1, 1, 1, 1, 8, 2, 1, 1, 1, 1, 1, 1, 2, 1, 1, 3, 1, 260, 6, 11, 1, 1, 1, 4, 1, 1, 1, 9, 1, 1, 1, 1, 2, 1, 1, 1, 1, 1, 1, 1, 2, 1, 1, 4, 10, 1, 1, 1, 1, 1, 1, 1, 2, 1, 1, 1, 1, 2, 1, 2, 1, 1, 1, 2, 1, 1, 1, 1, 2, 1, 1, 1, 1, 1, 1, 1, 1, 1, 2, 1, 1, 4, 1, 1, 1, 3, 1, 1, 1, 1, 2, 1, 4, 3, 1, 1, 2, 5, 1, 1, 1, 11, 4, 3, 1, 1, 1, 1, 1, 1, 1, 4, 16, 1, 2, 2, 2, 1, 1, 1, 1, 2, 2, 2, 6, 1, 1, 405, 3, 1, 5, 1, 2, 1, 1, 14, 1, 1, 1, 2, 1, 1, 1, 1, 3, 1, 1, 1, 1, 5, 2, 1, 1, 47, 1, 2, 1, 1, 1, 1, 1, 1, 1, 1, 1, 1, 1, 1, 1, 1, 2, 1, 2, 1, 1, 1, 1, 1, 1, 1, 1, 2, 3, 3, 1, 130, 1, 2, 856, 1, 1, 1, 1, 1, 1, 1, 1, 1, 1, 1, 1, 1, 1, 1, 1, 2, 4, 3, 5, 4, 1, 1, 32, 1, 1, 1, 1, 1, 1, 1, 1, 1, 1, 1, 20, 256, 2, 1, 1, 1, 48, 2, 2, 1, 1, 1, 2, 4, 4, 1, 1, 1, 1, 2, 2, 1, 2, 1, 1, 1, 4, 2, 1, 3, 1, 1, 2, 1, 2, 4, 1, 1, 1, 1, 1, 1, 1, 2, 1, 2, 9, 2, 1, 4, 1, 2, 3, 1, 1, 1, 1, 1, 1, 1, 1, 4, 1, 1, 1, 2, 2, 2, 2, 32, 3, 1, 1, 4, 2, 3, 71, 3, 1, 1, 1, 1, 1, 10, 1, 30, 7, 14, 3, 1, 1, 1, 1, 1, 1, 2, 9, 6, 3, 3, 2, 6, 15, 1, 1, 1, 2, 2, 1, 1, 89, 10, 1, 1, 1, 7, 2, 1, 3, 2, 1, 1, 1, 2, 1, 3, 75, 6, 2, 3, 1, 3, 3, 1, 1, 3, 3, 5, 2, 6, 1, 20, 6, 5, 1, 2, 1, 1, 2, 2, 1, 2, 1, 1, 2, 1, 1, 1, 1, 1, 1, 1, 1, 3, 3, 1, 2, 6, 1, 2, 1, 3, 2, 1, 1, 5, 1, 11, 1, 1, 518, 1, 1, 1, 1, 1, 1, 1, 1, 1, 1, 3, 1, 1, 1, 1, 1, 1, 1, 1, 1, 1, 2, 1, 1, 2, 2, 1, 4, 1, 1, 1, 1, 1, 1, 2, 1, 3, 2, 12, 719, 1, 1, 1, 1, 10, 1, 2, 1, 1, 1, 2, 7, 12, 82, 6, 1, 5, 1, 1, 1, 1, 1, 1, 4, 1, 1, 4, 1, 1, 1, 6, 2, 3, 2, 2, 1, 1, 1, 1, 5, 1, 9, 1, 6, 1, 2, 2, 7, 1, 49, 1, 1, 1, 1, 1, 1, 1, 1, 1, 2, 2, 1, 1, 2, 2, 1, 2, 1, 2, 2, 4, 1, 1, 8, 1, 1, 1, 2, 3, 1, 167, 3, 1, 1, 1, 1, 3, 1, 3, 1, 1, 1, 1, 2, 1, 5, 1, 2, 13, 1, 1, 1, 77, 2, 1, 5, 1, 1, 1, 11, 60, 5, 3, 1, 2, 14, 1, 1, 4, 1, 2, 4, 1, 1, 6, 6, 1, 1, 1, 1, 1, 1, 1, 8, 5, 1, 1, 3, 1, 1, 2, 2, 1, 5, 3, 9, 2, 1, 2, 1, 1, 2, 42, 2, 3, 1, 1, 2, 2, 1, 26, 4, 1, 1, 80, 1, 1, 3, 1, 1, 1, 1, 1, 1, 1, 1, 1, 2, 3, 1, 1, 3, 1, 1, 1, 1, 1, 8, 2, 1, 12, 1, 4, 1, 1, 2, 3, 2, 1, 1, 1, 1, 2, 1, 1, 1, 1, 15, 1, 1, 1, 1, 1, 1, 1, 4, 2, 1, 2, 1, 1, 1, 1, 4, 1, 2, 1, 1, 1, 2, 1, 1, 1, 3, 1, 1, 1, 1, 1, 1, 1, 3, 2, 1, 2, 1, 1, 20, 3, 1, 1, 1, 2, 1, 2, 1, 675, 1, 1, 1, 22, 22, 1, 1, 1, 1, 1, 2, 1, 6, 1, 1, 1, 4, 12, 2, 1, 1, 1, 1, 1, 1, 1, 99, 3, 1, 1, 1, 1, 1, 1, 1, 1, 2, 1, 1, 1, 1, 1, 1, 1, 1, 20, 1, 1, 1, 1, 120, 1, 1, 1, 1, 4, 2, 1, 1, 5, 2, 28, 1, 1, 1, 1, 211, 6, 1, 1, 1, 27, 1, 1, 1, 4, 1, 1, 1, 1, 2, 1, 6, 1, 1, 2, 1, 21, 1, 228, 1, 1, 1, 2, 1, 2, 1, 5, 3, 36, 1, 4, 3, 1, 1, 3, 1, 1, 3, 5, 1, 1, 2, 1, 1, 1, 1, 1, 5, 2, 8, 3, 1, 1, 1, 1, 2, 3, 1, 3, 5, 9, 2, 1, 25, 2, 7, 18, 1, 1, 1, 1, 1, 1, 20, 5, 76, 1, 2, 1, 1, 1, 2, 3, 1, 1, 1, 21, 1, 1, 1, 1, 1, 1, 1, 1, 1, 1, 2, 1, 1, 3, 7, 2, 1, 1, 3, 3, 4, 6, 1, 1, 2, 1, 13, 1, 1, 1, 1, 3, 3, 1, 1, 1, 3, 15, 1, 1, 1, 1, 2, 1, 2, 1, 2, 1, 1, 1, 56, 1, 1, 1, 1, 1, 1, 1, 1, 1, 3, 2, 1, 1, 1, 1, 1, 1, 1, 1, 8, 1, 5, 1, 1, 1, 1, 1, 2, 1, 1, 2, 1, 2, 1, 6, 8, 5, 1, 1, 1, 2, 1, 4, 1, 1, 1, 1, 1, 1, 3, 1, 1, 1, 1, 1, 1, 1, 1, 1, 1, 1, 1, 1, 1, 2, 1, 1, 3, 1, 1, 1, 2, 1, 1, 1, 1, 4, 4, 1, 1, 1, 3, 1, 1, 2, 12, 1, 3, 1, 2, 1, 2, 85, 22, 1, 1, 1, 1, 1, 1, 1, 1, 1, 1, 1, 1, 1, 1, 1, 2, 5, 1, 2, 1, 1, 1, 1, 1, 1, 1, 1, 1, 1, 1, 2, 2, 1, 4, 1, 4, 1, 1, 3, 1, 10, 3, 1, 1, 1, 1, 1, 1, 3, 1, 1, 1, 1, 1, 6, 1, 2, 1, 1, 3, 1, 3, 1, 1, 1, 11, 1, 1, 1, 1, 3, 1, 1, 1, 1, 1, 7, 1, 1, 1, 1, 1, 1, 2, 1, 1, 40, 1, 1, 1, 1, 1, 3, 9, 2, 3, 3, 1, 4, 1, 1, 1, 1, 2, 1, 1, 1, 22, 1, 2, 1, 1, 1, 1, 1, 20, 1, 1, 1, 2, 1, 5, 1, 1, 1, 1, 13, 6, 4, 6, 1, 2, 26, 20, 10, 3, 1, 1, 1, 1, 1, 1, 1, 1, 1, 5, 1, 4, 2, 1, 2, 2, 1, 2, 1, 1, 3, 7, 1, 1, 1, 17, 2, 4, 1, 2, 1, 2, 1, 1, 1, 1, 1, 1, 1, 1, 2, 1, 1, 1, 1, 4, 1, 1, 1, 2, 2, 2, 1, 1, 1, 2, 2, 1, 1, 4, 1, 203, 90, 5, 5, 1, 1, 1, 1, 3, 2, 3, 5, 2, 3, 1, 1, 1, 1, 11, 1, 16, 1, 1, 1, 1, 1, 1, 1, 1, 1, 1, 1, 1, 1, 1, 1, 1, 10, 1, 1, 2, 1, 1, 4, 1, 1, 2, 1, 1, 1, 1, 2, 1, 1, 3, 1, 2, 2, 1, 4, 1, 1, 1, 1, 3, 1, 2, 1, 2, 1, 1, 1, 1, 1, 3, 1, 1, 1, 1, 1, 1, 1, 1, 1, 2, 1, 1, 1, 3, 2, 1, 9, 12, 2, 1, 3, 1, 1, 7, 1, 4, 1, 1, 1, 11, 1, 1, 1, 1, 4, 1, 1, 1, 1, 1, 2, 1, 1, 1, 10, 1, 1, 1, 1, 1, 2, 2, 5, 25, 3, 2, 1, 1, 1, 1, 1, 1, 1, 1, 5, 1, 3, 1, 1, 2, 2, 2, 2, 2, 2, 1, 2, 1, 2, 1, 1, 1, 480, 1, 1, 1, 1, 6, 2, 2, 1, 1, 1, 1, 1, 1, 1, 1, 3, 1, 3, 1, 9, 4, 1, 39, 1, 1, 1, 1, 1, 1, 1, 2, 1, 1, 1, 14, 1, 1, 1, 1, 2, 1, 1, 1, 1, 1, 1, 1, 2, 1, 2, 5, 2, 2, 3, 1, 3, 1, 2, 8, 1, 4, 1, 5, 1, 1, 1, 1, 3, 2, 3, 1, 4, 1, 1, 1, 1, 1, 6, 1, 1, 1, 1, 1, 1, 1, 759, 3, 1, 5, 3, 2, 1, 1, 1, 1, 1, 53, 11, 4, 6, 38, 2, 7, 1, 1, 1, 718, 6, 2, 1, 1, 1, 1, 1, 1, 4, 1, 1, 1, 1, 6, 1, 1, 2, 1, 1, 2, 1, 1, 1, 1, 1, 1, 1, 1, 1, 2, 1, 1, 2, 1, 1, 6, 1, 39, 4, 2, 1, 12, 1, 52, 2, 1, 2, 2, 22, 1, 23, 1, 1, 1, 2, 1, 11, 1, 1, 2, 1, 1, 1, 1, 1, 1, 4, 1, 7, 1, 1, 1, 4, 70, 1, 1, 1, 4, 3, 1, 1, 1, 3, 12, 2, 1, 1, 1, 8, 1, 1, 1, 2, 1, 1, 15, 1, 2, 1, 1, 2, 1, 1, 1, 1, 1, 2, 1, 1, 1, 1, 1, 1, 1, 1, 1, 5, 2, 1, 16, 1, 1, 429, 1, 1, 1, 1, 1, 1, 1, 2, 14, 1, 1, 2, 1, 1, 1, 2, 1, 2, 1, 2, 1, 4, 1, 2, 4, 1, 1, 4, 1, 4, 3, 1, 18, 1, 1, 2, 8, 3, 1, 3, 1, 69, 1, 2, 1, 6, 1, 1, 2, 5, 1, 2, 1, 1, 15, 5, 1, 2, 1, 1, 2, 1, 1, 1, 2, 1, 1, 1, 2, 1, 1, 1, 1, 1, 1, 2, 1, 1, 1, 1, 1, 1, 4, 1, 1, 2, 1, 1, 2, 1, 2, 1, 1, 3, 1, 1, 1, 24, 6, 18, 1, 1, 1, 1, 1, 1, 1, 1, 1, 1, 4, 80, 1, 3, 1, 1, 1, 1, 3, 1, 1, 2, 1, 1, 3, 1, 1, 7, 1, 1, 1, 1, 1, 1, 1, 1, 1, 1, 1, 1, 5, 3, 1, 1, 3, 2, 1, 2, 1, 1, 1, 1, 1, 1, 1, 41, 1, 1, 14, 4, 2, 1, 1, 2, 1, 4, 1, 1, 1, 1, 11, 1, 1, 1, 1, 6, 2, 3, 6, 2, 1, 1, 1, 2, 2, 2, 1, 1, 2, 1, 1, 1, 2, 2, 2, 1, 5, 6, 2, 1, 1, 4, 1, 3, 1, 194, 36, 2, 2, 1, 1, 3, 1, 1, 1, 124, 1, 1, 1, 1, 21, 1, 1, 1, 1, 1, 1, 4, 1, 1, 1, 2, 1, 1, 12, 2, 1, 1, 450, 2, 6, 4, 2, 607, 2, 2, 3, 5, 1, 2, 1, 1, 5, 1, 1, 1, 2, 1, 12, 1, 2, 8, 2, 1, 1, 1, 1, 1, 2, 1, 1, 1, 1, 2, 1, 1, 1, 2, 1, 152, 9, 1, 1, 1, 1, 2, 1, 1, 1, 1, 1, 1, 1, 4, 1, 2, 1, 2, 1, 946, 1, 5, 2, 1, 15, 2, 1, 1, 7, 1, 1, 13, 4, 1, 1, 4, 1, 1, 7, 3, 1, 1, 1, 10, 1, 1, 50, 1, 8, 1, 1, 2, 2, 4, 1, 2, 1, 2, 2, 9, 1, 2, 1, 2, 1, 2, 2, 1, 1, 2, 2, 1, 1, 2, 46, 1, 1, 1, 1, 2, 9, 4, 2, 2, 1, 3, 1, 1, 1, 8, 1, 1, 7, 1, 1, 1, 1, 1, 1, 1, 1, 2, 2, 1, 5, 1, 1, 2, 8, 1, 1, 5, 1, 2, 1, 4, 1, 7, 9, 4, 1, 1, 1, 1, 4, 1, 1, 1, 1, 1, 1, 1, 1, 2, 1, 1, 1, 1, 1, 1, 2, 4, 1, 1, 1, 2, 2, 5, 2, 8, 1, 1, 1, 11, 4, 2, 1, 22, 2, 1, 1, 3, 1, 1, 1, 1, 1, 5, 8, 42, 142, 1, 1, 7, 2, 2, 1, 7, 1, 3, 1, 1, 2, 181, 1, 1, 1, 1, 1, 5, 1, 40, 1, 1, 1, 1, 2, 2, 46, 5, 1, 1, 1, 1, 1, 171, 105, 3, 2, 267, 3, 6, 1, 1, 1, 1, 1, 2, 1, 2, 7, 260, 6, 11, 1, 1, 1, 1, 2, 1, 1, 1, 1, 1, 1, 4, 1, 1, 1, 2, 1, 1, 2, 58, 1, 2, 2, 1, 1, 1, 139, 1, 21, 2, 1, 1, 1, 2, 2, 1, 2, 1, 1, 2, 4, 3, 3, 3, 9, 8, 2, 1, 1, 1, 2, 1, 1, 1, 1, 1, 2, 1, 1, 2, 1, 1, 6, 8, 1, 1, 161, 27, 1, 1, 1, 1, 3, 1, 2, 1, 1, 1, 1, 1, 1, 1, 1, 1, 1, 1, 2, 1, 2, 25, 1, 1, 1, 1, 1, 2, 1, 1, 3, 1, 284, 1, 1, 2, 1, 1, 1, 1, 2, 2, 1, 1, 1, 20, 2, 1, 1, 1, 1, 1, 2, 1, 4, 1, 1, 4, 1, 1, 1, 1, 1, 1, 2, 3, 1, 1, 3, 2, 7, 6, 1, 2, 1, 1, 4, 3, 1, 34, 2, 11, 2, 2, 6, 1, 1, 1, 2, 2, 30, 3, 2, 3, 1, 2, 1, 1, 1, 1, 1, 2, 1, 1, 1, 2, 1, 1, 1, 8, 1, 14, 3, 4, 1, 2, 1, 1, 6, 2, 25, 7, 2, 127, 5, 2, 3, 155, 1, 3, 3, 3, 2, 2, 2, 1, 2, 2, 1, 1, 1, 1, 1, 1, 3, 2, 1, 2, 27, 1, 1, 1, 1, 6, 3, 4, 1, 1, 2, 4, 1, 1, 1, 1, 2, 1, 2, 1, 2, 1, 1, 1, 27, 2, 1, 3, 1, 191, 6, 2, 1, 1, 19, 2, 2, 51, 5, 2, 4, 3, 1, 2, 2, 1, 3, 1, 2, 2, 39, 1, 2, 1, 2, 14, 1, 2, 1, 1, 4, 1, 1, 2, 2, 1, 1, 1, 1, 1, 1, 1, 1, 7, 1, 1, 2, 1, 1, 4, 2, 1, 1, 1, 2, 1, 2, 1, 1, 3, 1, 1, 1, 1, 1, 1, 1, 5, 1, 1, 2, 2, 1, 1, 1, 1, 1, 1, 8, 2, 3, 3, 2, 1, 1, 2, 2, 4, 1, 4, 4, 1, 1, 3, 1, 3, 2, 1, 15, 2, 15, 2, 1, 1, 1, 1, 1, 1, 7, 1, 8, 1, 1, 1, 1, 2, 1, 1, 1, 1, 26, 1, 1, 3, 3, 2, 1, 1, 1, 3, 2, 1, 6, 1, 2, 3, 1, 1, 461, 1, 1, 1, 1, 1, 1, 2, 1, 1, 1, 1, 1, 1, 1, 2, 1, 2, 1, 1, 1, 1, 1, 2, 1, 1, 1, 27, 5, 1, 2, 1, 1, 1, 2, 3, 1, 1, 2, 2, 1, 1, 1, 1, 1, 5, 1, 3, 3, 2, 2, 2, 1, 14, 3, 1, 12, 3, 1, 2, 94, 1, 3, 1, 2, 1, 1, 2, 2, 3, 1, 2, 4, 3, 1, 2, 4, 1, 2, 7, 1, 841, 2, 1, 1, 1, 46, 1, 1, 2, 1, 2, 7, 3, 1, 1, 1, 1, 18, 7, 1, 2, 3, 6, 1, 27, 15, 1, 1, 1, 2, 1, 5, 7, 5, 1, 1, 1, 1, 2, 1, 1, 5, 2, 6, 4, 1, 7, 1, 3, 2, 1, 1, 1, 1, 1, 1, 3, 1, 2, 1, 7, 1, 1, 1, 1, 1, 4, 1, 53, 2, 598, 129, 66, 45, 95, 57, 1, 1, 1, 2, 1, 2, 1, 2, 1, 2, 1, 2, 1, 1, 1, 2, 1, 1, 2, 2, 2, 2, 3, 3, 1, 4, 2, 3, 3, 3, 9, 1, 1, 1, 1, 1, 2, 1, 1, 2, 180, 1, 4, 1, 1, 1, 1, 1, 1, 1, 24, 2, 1, 6, 1, 2, 2, 1, 1, 2, 1, 502, 2, 1, 1, 1, 2, 5, 1, 1, 215, 1, 1, 1, 3, 2, 1, 2, 1, 5, 2, 1, 1, 4, 4, 1, 1, 1, 1, 1, 1, 1, 5, 1, 1, 1, 1, 1, 1, 1, 1, 1, 1, 1, 2, 1, 1, 2, 1, 1, 1, 1, 1, 2, 1, 2, 1, 1, 1, 1, 2, 3, 3, 1, 1, 1, 1, 2, 1, 1, 1, 1, 1, 1, 1, 1, 1, 1, 1, 1, 1, 1, 28, 1, 1, 1, 1, 1, 1, 2, 3, 1, 1, 2, 4, 7, 2, 1, 5, 1, 4, 1, 1, 1, 1, 1, 2, 1, 2, 4, 1, 1, 3, 1, 830, 5, 3, 3, 327, 2, 1, 1, 1, 2, 1, 2, 1, 1, 1, 1, 6, 1, 2, 9, 1, 1, 1, 2, 1, 1, 20, 6, 5, 1, 2, 1, 1, 7, 13, 8, 1, 7, 12, 1, 14, 1, 1, 2, 1, 2, 185, 4, 6, 1, 1, 1, 1, 1, 1, 1, 1, 2, 1, 1, 1, 1, 1, 1, 1, 1, 1, 1, 1, 1, 1, 1, 1, 1, 1, 1, 2, 1, 3, 2, 13, 1, 1, 1, 4, 1, 2, 1, 2, 1, 1, 1, 1, 1, 1, 1, 1, 1, 2, 2, 1, 3, 3, 1, 1, 9, 1, 1, 1, 1, 2, 4, 1, 1, 1, 1, 2, 2, 1, 53, 1, 1, 1, 2, 2, 1, 1, 1, 255, 1, 1, 1, 1, 2, 1, 1, 1, 1, 4, 1, 1, 1, 1, 1, 2, 1, 1, 5, 3, 1, 1, 2, 2, 4, 2, 2, 2, 1, 1, 1, 1, 4, 1, 1, 1, 1, 1, 1, 1, 1, 60, 469, 1, 3, 1, 1, 1, 1, 3, 5, 1, 2, 1, 2, 5, 1, 2, 18, 18, 1, 20, 1, 1, 1, 1, 1, 1, 1, 3, 1, 4, 1, 2, 1, 2, 1, 1, 1, 2, 1, 1, 5, 1, 1, 1, 2, 2, 82, 3, 1, 3, 1, 1, 14, 1, 2, 1, 1, 1, 1, 1, 1, 2, 2, 2, 1, 15, 15, 8, 2, 1, 1, 1, 1, 100, 4, 1, 1, 2, 65, 16, 5, 1, 1, 1, 1, 1, 2, 1, 1, 1, 1, 1, 1, 1, 1, 1, 5, 1, 10, 2, 111, 1, 1, 2, 3, 1, 1, 1, 2, 1, 1, 3, 1, 4, 5, 1, 5, 3, 1, 20, 2, 1, 1, 1, 5, 2, 1, 2, 2, 6, 1, 1, 10, 1, 1, 198, 3, 1, 1, 4, 1, 9, 3, 1, 1, 1, 1, 6, 1, 1, 1, 2, 1, 1, 1, 1, 1, 1, 1, 1, 1, 1, 1, 1, 3, 1, 1, 1, 191, 16, 39, 1, 1, 13, 10, 1, 1, 2, 2, 1, 1, 1, 2, 1, 15, 3, 1, 1, 1, 1, 3, 1, 1, 1, 1, 1, 1, 1, 1, 1, 1, 1, 10, 3, 1, 3, 1, 1, 1, 1, 1, 31, 1, 1, 1, 1, 1, 1, 1, 2, 1, 1, 1, 214, 1, 2, 1, 1, 1, 1, 1, 1, 1, 1, 1, 5, 3, 1, 1, 1, 5, 3, 25, 1, 13, 2, 1, 1, 1, 1, 38, 25, 11, 1, 2, 116, 534, 1, 1, 2, 1, 4, 1, 4, 1, 1, 2, 1, 139, 2, 8, 1, 3, 1, 1, 1, 1, 1, 2, 2, 1, 1, 3, 1, 1, 1, 1, 1, 1, 7, 1, 6, 1, 34, 1, 6, 1, 1, 2, 1, 1, 28, 5, 4, 2, 1, 3, 1, 1, 1, 3, 1, 5, 1, 1, 1, 1, 1, 1, 1, 1, 3, 1, 2, 10, 1, 1, 1, 1, 2, 2, 4, 1, 1, 2, 1, 3, 1, 1, 1, 1, 3, 1, 1, 1, 1, 1, 1, 1, 1, 1, 1, 5, 1, 2, 2, 1, 1, 30, 24, 1, 1, 3, 1, 1, 1, 26, 1, 1, 1, 1, 6, 2, 1, 1, 1, 1, 1, 1, 1, 8, 1, 33, 1, 1, 1, 2, 1, 2, 1, 1, 1, 2, 1, 1, 1, 1, 2, 1, 3, 1, 2, 1, 4, 354, 1, 1, 1, 2, 1, 1, 1, 2, 1, 1, 3, 1, 1, 1, 1, 1, 3, 1, 128, 2, 1, 1, 9, 1, 1, 1, 3, 1, 1, 11, 2, 1, 1, 1, 2, 3, 1, 3, 1, 1, 3, 1, 2, 13, 1, 1, 2, 1, 2, 1, 1, 1, 1, 1, 1, 1, 2, 1, 3, 1, 2, 1, 4, 396, 5, 4, 167, 1, 1, 1, 1, 3, 1, 1, 1, 1, 2, 1, 1, 1, 2, 1, 1, 5, 49, 5, 2, 1, 2, 1, 1, 2, 1, 2, 1, 3, 2, 59, 4, 1, 5, 2, 5, 1, 1, 1, 3, 1, 1, 2, 2, 1, 1, 1, 1, 1, 1, 8, 1, 1, 3, 3, 4, 5, 1, 1, 1, 67, 1, 4, 2, 1, 1, 1, 2, 3, 2, 1, 1, 1, 1, 1, 1, 2, 1, 162, 1, 2, 1, 1, 2, 37, 11, 1, 1, 2, 1, 1, 2, 2, 1, 4, 78, 3, 4, 2, 1, 1, 5, 1, 1, 1, 6, 1, 14, 6, 1, 1, 1, 284, 14, 1, 1, 1, 1, 1, 1, 1, 1, 1, 1, 2, 1, 1, 2, 3, 2, 3, 4, 1, 13, 1, 24, 1, 954, 1, 1, 1, 2, 1, 5, 2, 2, 2, 276, 1, 2, 1, 1, 4, 1, 1, 1, 1, 1, 1, 1, 1, 4, 3, 1, 1, 284, 27, 4, 1, 1, 1, 1, 1, 1, 1, 1, 2, 4, 3, 1, 2, 2, 1, 2, 1, 2, 1, 1, 1, 1, 1, 3, 1, 1, 1, 1, 1, 2, 1, 3, 1, 1, 2, 3, 56, 1, 2, 1, 5, 1, 4, 1, 4, 2, 1, 1, 7, 1, 7, 1, 1, 1, 4, 1, 1, 2, 1, 2, 1, 2, 1, 5, 7, 1, 7, 1, 1, 2, 1, 5, 1, 1, 1, 1, 4, 1, 1, 1, 1, 3, 2, 3, 1, 1, 1, 1, 35, 1, 1, 1, 2, 6, 3, 1, 2, 1, 1, 1, 3, 1, 2, 1, 1, 29, 2, 1, 1, 1, 1, 3, 3, 3, 2, 2, 1, 1, 6, 1, 1, 1, 1, 2, 4, 8, 3, 2, 1, 1, 1, 1, 2, 1, 1, 1, 1, 1, 1, 2, 1, 2, 1, 1, 1, 1, 4, 1, 2, 1, 1, 1, 14, 1, 1, 1, 651, 1, 1, 1, 3, 1, 5, 2, 1, 1, 1, 7, 1, 1, 1, 2, 1, 2, 1, 1, 4, 1, 1, 1, 1, 2, 2, 1, 1, 1, 3, 1, 1, 7, 1, 1, 1, 1, 3, 3, 1, 1, 1, 1, 1, 6, 1, 1, 1, 1, 1, 1, 1, 1, 1, 1, 1, 1, 51, 1, 16, 1, 1, 2, 27, 4, 1, 15, 2, 2, 1, 1, 3, 1, 83, 3, 2, 2, 104, 2, 1, 1, 2, 4, 1, 1, 1, 1, 20, 1, 1, 100, 2, 1, 1, 2, 1, 1, 1, 1, 1, 1, 3, 1, 1, 1, 1, 3, 1, 1, 1, 1, 1, 2, 3, 1, 2, 2, 1, 150, 1, 1, 7, 1, 1, 126, 35, 1, 2, 1, 2, 1, 1, 1, 1, 1, 10, 15, 23, 1, 2, 2, 1, 1, 1, 9, 1, 1, 1, 1, 4, 2, 2, 3, 2, 1, 1, 1, 1, 2, 24, 1, 1, 3, 2, 1, 1, 1, 1, 1, 2, 2, 4, 1, 1, 15, 1, 1, 5, 1, 1, 1, 3, 1, 1, 1, 7, 3, 1, 2, 1, 1, 32, 1, 2, 2, 1, 1, 1, 1, 2, 1, 1, 4, 1, 1, 1, 1, 1, 6, 1, 1, 1, 1, 1, 1, 1, 1, 2, 1, 1, 1, 1, 14, 2, 4, 1, 1, 1, 1, 1, 14, 5, 1, 1, 1, 5, 2, 1, 1, 1, 1, 1, 1, 1, 1, 1, 1, 94, 2, 1, 1, 11, 2, 4, 2, 2, 1, 10, 3, 1, 1, 2, 1, 3, 1, 1, 1, 1, 1, 1, 7, 22, 1, 1, 1, 5, 2, 1, 12, 1, 2, 2, 4, 4, 1, 1, 1, 9, 1, 1, 1, 1, 1, 1, 1, 1, 1, 1, 1, 2, 1, 1, 1, 1, 4, 1, 1, 3, 3, 1, 1, 1, 1, 2, 1, 11, 2, 2, 2, 7, 3, 1, 1, 1, 2, 1, 1, 1, 2, 1, 1, 1, 1, 1, 4, 1, 1, 1, 5, 1, 1, 1, 1, 1, 1, 1, 3, 1, 1, 1, 2, 1, 1, 1, 1, 1, 2, 1, 4, 1, 10, 4, 1, 1, 1, 1, 2, 1, 9, 1, 1, 1, 1, 1, 2, 1, 1, 1, 3, 4, 1, 1, 5, 1, 2, 2, 1, 1, 27, 1, 6, 1, 1, 4, 1, 2, 1, 2, 1, 1, 4, 3, 1, 1, 1, 1, 5, 3, 1, 2, 1, 1, 3, 1, 1, 2, 17, 1, 1, 21, 1, 3, 1, 1, 2, 1, 1, 1, 1, 2, 1, 1, 1, 29, 1, 1, 3, 15, 1, 1, 1, 1, 1, 1, 1, 28, 1, 1, 1, 1, 1, 1, 1, 1, 3, 1, 1, 6, 1, 1, 14, 1, 2, 1, 1, 1, 1, 1, 1, 6, 2, 1, 15, 1, 1, 1, 5, 2, 1, 1, 1, 1, 3, 2, 1, 1, 1, 1, 1, 1, 1, 2, 1, 1, 4, 1, 1, 3, 1, 1, 1, 2, 1, 3, 1, 1, 1, 1, 1, 7, 2, 1, 1, 1, 1, 1, 1, 1, 3, 3, 1, 1, 1, 2, 1, 2, 1, 1, 1, 1, 1, 6, 44, 1, 4, 1, 2, 1, 6, 1, 1, 1, 4, 2, 1, 2, 52, 1, 1, 1, 1, 1, 1, 2, 1, 1, 1, 1, 1, 1, 1, 1, 1, 1, 1, 956, 264, 1, 10, 1, 1, 1, 1, 1, 2, 9, 31, 1, 1, 1, 8, 1, 1, 1, 1, 1, 7, 1, 1, 1, 1, 1, 1, 1, 1, 1, 1, 1, 1, 1, 1, 1, 1, 1, 1, 1, 1, 17, 1, 13, 1, 1, 1, 3, 1, 2, 1, 2, 1, 1, 1, 1, 3, 1, 1, 1, 1, 1, 1, 29, 1, 1, 1, 1, 6, 6, 1, 1, 1, 1, 23, 1, 11, 1, 1, 1, 1, 1, 38, 1, 1, 1, 1, 1, 1, 1, 4, 1, 1, 1, 3, 1, 8, 2, 1, 1, 1, 1, 1, 1, 1, 2, 1, 1, 1, 7, 1, 1, 1, 5, 1, 2, 1, 1, 1, 12, 4, 486, 31, 1, 2, 3, 1, 1, 1, 1, 1, 1, 1, 2, 2, 1, 1, 1, 1, 46, 1, 3, 1, 1, 1, 1, 1, 1, 246, 1, 1, 1, 2, 5, 1, 3, 1, 1, 1, 1, 1, 1, 1, 1, 1, 1, 1, 8, 4, 1, 1, 8, 1, 1, 4, 1, 1, 1, 1, 2, 1, 4, 1, 2, 1, 2, 3, 1, 43, 1, 1, 2, 1, 4, 1, 1, 2, 3, 1, 1, 2, 1, 2, 1, 1, 1, 1, 5, 1, 1, 1, 2, 1, 1, 2, 4, 2, 2, 1, 1, 1, 1, 2, 1, 1, 2, 1, 2, 1, 1, 1, 1, 1, 2, 2, 4, 1, 1, 1, 1, 2, 2, 1, 1, 1, 1, 1, 1, 1, 1, 1, 326, 2, 12, 1, 1, 1, 17, 20, 6, 1, 2, 1, 1, 1, 2, 1, 1, 1, 1, 1, 1, 1, 1, 1, 1, 1, 6, 2, 1, 1, 2, 1, 1, 2, 1, 1, 1, 1, 1, 1, 1, 1, 1, 1, 210, 1, 1, 1, 1, 1, 76, 1, 1, 1, 3, 4, 3, 5, 2, 4, 3, 5, 2, 1, 2, 1, 2, 11, 1, 2, 2, 2, 1, 1, 1, 1, 5, 8, 1, 1, 70, 2, 1, 1, 3, 1, 1, 4, 4, 1, 1, 1, 1, 2, 3, 60, 4, 1, 1, 1, 1, 5, 6, 11, 6, 6, 5, 3, 1, 1, 1, 1, 1, 1, 7, 2, 1, 1, 2, 1, 3, 1, 2, 1, 3, 2, 1, 2, 1, 1, 1, 1, 1, 1, 2, 5, 1, 2, 2, 1, 1, 1, 1, 2, 1, 1, 15, 1, 1, 100, 1, 1, 9, 9, 1, 2, 4, 4, 1, 1, 1, 1, 2, 1, 1, 12, 1, 9, 1, 1, 1, 1, 5, 144, 1, 1, 1, 1, 2, 1, 1, 2, 1, 3, 1, 3, 1, 92, 9, 1, 1, 1, 1, 1, 12, 1, 4, 2, 1, 1, 1, 2, 9, 2, 2, 15, 1, 2, 1, 2, 2, 1, 2, 1, 1, 1, 1, 1, 1, 2, 1, 1, 1, 1, 1, 2, 1, 3, 1, 1, 3, 1, 1, 1, 2, 1, 1, 1, 1, 7, 1, 1, 2, 1, 1, 3, 1, 1, 5, 1, 1, 4, 1, 3, 1, 425, 21, 1, 2, 1, 1, 1, 5, 1, 2, 2, 2, 3, 2, 1, 1, 1, 1, 1, 2, 1, 36, 1, 1, 4, 26, 1, 1, 1, 1, 2, 1, 1, 1, 1, 2, 1, 1, 1, 1, 2, 2, 1, 1, 1, 52, 2, 1, 1, 39, 1, 1, 2, 1, 5, 1, 6, 1, 3, 2, 1, 1, 1, 1, 2, 3, 1, 68, 2, 1, 1, 1, 3, 1, 1, 1, 2, 2, 1, 4, 1, 118, 491, 1, 1, 1, 1, 1, 1, 22, 4, 1, 3, 3, 1, 2, 1, 1, 7, 1, 1, 2, 1, 66, 1, 1, 1, 1, 1, 1, 1, 3, 1, 1, 1, 1, 2, 2, 1, 1, 1, 1, 1, 3, 2, 2, 6, 7, 1, 181, 1, 3, 2, 1, 3, 2, 1, 2, 1, 1, 21, 1, 1, 2, 2, 2, 1, 186, 3, 1, 1, 1, 1, 4, 2, 25, 1, 1, 1, 9, 5, 1, 3, 1, 1, 5, 1, 1, 1, 1, 88, 4, 2, 1, 1, 1, 9, 3, 1, 9, 3, 1, 1, 7, 1, 2, 1, 8, 1, 1, 1, 1, 1, 1, 1, 1, 1, 1, 4, 1, 2, 1, 1, 14, 1, 1, 9, 9, 1, 2, 1, 3, 3, 1, 1, 2, 1, 12, 67, 15, 1, 1, 4, 1, 1, 3, 1, 10, 1, 1, 1, 23, 4, 4, 11, 6, 7, 7, 1, 2, 1, 1, 2, 1, 1, 2, 1, 1, 2, 1, 1, 1, 1, 1, 1, 1, 1, 1, 1, 1, 1, 3, 1, 1, 1, 1, 2, 1, 1, 2, 1, 1, 1, 1, 1, 1, 1, 2, 1, 1, 1, 1, 2, 1, 2, 1, 1, 2, 1, 1, 4, 1, 1, 1, 1, 2, 5, 1, 1, 1, 1, 1, 1, 1, 1, 1, 1, 1, 1, 1, 1, 1, 1, 1, 1, 1, 1, 13, 1, 1, 1, 2, 1, 2, 4, 1, 1, 3, 2, 2, 4, 2, 1, 19, 1, 1, 1, 3, 1, 2, 1, 1, 2, 1, 1, 1, 2, 1, 2, 1, 2, 3, 1, 1, 2, 1, 2, 2, 1, 1, 1, 3, 1, 1, 2, 1, 1, 3, 1, 8, 1, 1, 1, 1, 1, 4, 1, 1, 2, 1, 1, 1, 1, 1, 2, 1, 1, 2, 7, 1, 1, 1, 3, 3, 1, 1, 1, 1, 1, 2, 1, 1, 4, 1, 1, 5, 1, 1, 1, 2, 1, 1, 2, 1, 2, 2, 1, 2, 1, 6, 1, 1, 1, 1, 1, 1, 1, 1, 4, 1, 1, 1, 2, 4, 2, 1, 2, 1, 4, 1, 1, 1, 2, 1, 1, 1, 1, 1, 1, 1, 2, 1, 1, 2, 1, 3, 5, 388, 1, 2, 1, 1, 9, 2, 5, 1, 1, 10, 1, 1, 1, 1, 3, 1, 7, 1, 24, 2, 1, 1, 2, 2, 1, 1, 1, 3, 1, 1, 1, 1, 2, 1, 1, 1, 1, 1, 1, 3, 1, 5, 1, 2, 3, 4, 4, 1, 1, 2, 10, 16, 1, 1, 1, 1, 1, 14, 1, 3, 1, 1, 3, 1, 9, 1, 2, 1, 1, 1, 1, 2, 2, 1, 1, 1, 2, 2, 3, 1, 2, 14, 2, 1, 1, 5, 1, 1, 11, 5, 1, 1, 1, 2, 1, 5, 1, 1, 3, 17, 1, 1, 3, 13, 5, 1, 1, 2, 1, 1, 1, 1, 1, 196, 5, 3, 1, 1, 1, 2, 1, 1, 1, 1, 2, 8, 2, 1, 1, 1, 1, 6, 2, 3, 1, 1, 2, 1, 26, 41, 1, 2, 4, 1, 1, 1, 2, 3, 1, 2, 1, 1, 1, 1, 4, 1, 1, 1, 1, 1, 1, 1, 1, 1, 1, 1, 1, 2, 1, 1, 2, 2, 1, 1, 4, 1, 9, 16, 9, 3, 1, 1, 1, 3, 5, 1, 1, 1, 1, 1, 1, 1, 1, 1, 1, 12, 2, 1, 2, 1, 1, 2, 1, 2, 1, 9, 22, 53, 1, 1, 1, 1, 1, 1, 1, 1, 1, 1, 2, 6, 2, 7, 48, 1, 1, 14, 2, 3, 1, 1, 4, 1, 1, 1, 1, 2, 2, 1, 2, 2, 1, 1, 1, 2, 1, 2, 1, 1, 1, 1, 1, 1, 1, 2, 1, 1, 1, 1, 2, 1, 4, 1, 1, 1, 2, 1, 1, 1, 2, 1, 8, 1, 1, 1, 135, 14, 3, 1, 10, 2, 6, 3, 1, 4, 1, 1, 2, 1, 1, 2, 1, 2, 1, 1, 1, 1, 2, 1, 3, 1, 1, 1, 1, 1, 2, 1, 1, 47, 1, 3, 2, 1, 1, 4, 1, 1, 2, 1, 1, 1, 4, 1, 1, 1, 1, 2, 3, 1, 151, 2, 2, 1, 1, 1, 1, 1, 1, 1, 1, 1, 1, 1, 1, 2, 1, 2, 33, 1, 1, 3, 20, 1, 2, 1, 1, 1, 1, 2, 2, 2, 1, 1, 3, 7, 1, 1, 1, 1, 1, 1, 1, 1, 1, 2, 1, 2, 1, 1, 2, 2, 1, 1, 1, 1, 6, 2, 2, 4, 8, 1, 1, 1, 1, 1, 7, 5, 1, 1, 1, 1, 6, 2, 1, 2, 1, 1, 1, 2, 2, 1, 1, 1, 2, 1, 4, 1, 1, 1, 1, 2, 2, 1, 1, 2, 1, 2, 1, 1, 2, 1, 1, 1, 2, 2, 2, 1, 1, 7, 1, 1, 1, 1, 1, 11, 3, 1, 1, 1, 2, 8, 3, 1, 1, 3, 2, 1, 3, 3, 1, 2, 1, 1, 2, 1, 1, 2, 3, 1, 1, 1, 1, 1, 1, 1, 1, 1, 1, 1, 1, 1, 1, 3, 1, 2, 1, 3, 1, 1, 1, 2, 4, 5, 1, 2, 2, 1, 1, 1, 2, 1, 2, 2, 1, 11, 1, 1, 4, 1, 26, 1, 1, 3, 1, 4, 12, 3, 1, 1, 1, 1, 1, 1, 3, 1, 267, 1, 2, 3, 1, 44, 5, 3, 4, 2, 1, 1, 2, 1, 3, 1, 1, 2, 3, 17, 1, 1, 3, 1, 2, 1, 1, 3, 1, 1, 2, 3, 1, 2, 1, 22, 1, 1, 1, 1, 1, 2, 2, 1, 1, 1, 2, 1, 1, 2, 2, 1, 3, 2, 7, 1, 1, 2, 2, 9, 1, 4, 1, 1, 1, 2, 1, 1, 1, 2, 1, 3, 1, 1, 2, 2, 2, 1, 1, 1, 1, 1, 7, 5, 1, 1, 14, 1, 1, 1, 1, 1, 1, 2, 447, 1, 1, 1, 1, 1, 1, 2, 26, 2, 9, 1, 2, 1, 2, 1, 1, 3, 1, 1, 1, 2, 1, 2, 1, 1, 1, 1, 5, 1, 1, 1, 1, 2, 2, 1, 1, 10, 2, 2, 178, 8, 1, 1, 1, 1, 1, 3, 1, 1, 1, 1, 1, 2, 1, 1, 7, 1, 3, 2, 1, 1, 1, 1, 1, 4, 1, 1, 2, 1, 1, 2, 1, 2, 2, 3, 1, 9, 13, 1, 1, 1, 2, 1, 1, 1, 2, 1, 4, 2, 2, 1, 1, 2, 1, 1, 1, 1, 1, 4, 1, 1, 1, 7, 1, 1, 1, 36, 1, 3, 1, 1, 1, 1, 1, 1, 1, 1, 1, 1, 1, 5, 2, 1, 1, 1, 6, 3, 1, 2, 1, 2, 1, 2, 1, 2, 35, 5, 1, 4, 4, 1, 1, 1, 1, 34, 1, 5, 1, 28, 1, 5, 90, 8, 1, 1, 1, 5, 1, 1, 2, 1, 1, 4, 6, 1, 4, 5, 1, 1, 1, 1, 171, 4, 1, 1, 1, 1, 11, 2, 1, 1, 3, 11, 3, 2, 1, 1, 2, 2, 1, 5, 1, 2, 1, 1, 9, 1, 6, 1, 1, 1, 15, 2, 1, 2, 1, 1, 1, 5, 1, 1, 12, 1, 1, 1, 1, 1, 2, 1, 3, 1, 1, 1, 2, 3, 1, 1, 1, 1, 2, 1, 2, 1, 1, 1, 4, 8, 1, 1, 1, 1, 1, 1, 2, 1, 1, 2, 1, 1, 1, 1, 1, 3, 1, 2, 1, 1, 1, 1, 4, 2, 2, 2, 6, 6, 2, 1, 1, 1, 3, 1, 4, 4, 4, 1, 1, 2, 1, 1, 2, 15, 1, 1, 1, 1, 51, 1, 1, 1, 1, 1, 11, 3, 1, 1, 1, 1, 1, 1, 1, 2, 2, 1, 1, 1, 4, 28, 1, 3, 21, 1, 1, 1, 4, 1, 2, 1, 13, 1, 1, 17, 1, 1, 1, 3, 2, 1, 2, 1, 1, 2, 2, 1, 1, 1, 4, 2, 1, 6, 1, 4, 3, 1, 1, 1, 1, 1, 7, 1, 1, 1, 1, 14, 1, 1, 3, 1, 1, 3, 1, 1, 1, 17, 1, 6, 1, 80, 2, 1, 3, 1, 1, 2, 2, 1, 1, 1, 1, 1, 1, 1, 2, 3, 3, 1, 1, 1, 1, 1, 1, 1, 1, 1, 1, 1, 1, 1, 1, 1, 2, 1, 20, 1, 1, 1, 1, 876, 1, 1, 3, 1, 1, 1, 1, 1, 1, 1, 1, 51, 1, 1, 1, 1, 1, 3, 1, 1, 1, 1, 4, 1, 28, 1, 1, 1, 1, 1, 7, 13, 1, 1, 1, 2, 13, 1, 1, 1, 2, 1, 3, 1, 2, 1, 2, 1, 1, 1, 1, 1, 18, 1, 2, 1, 1, 1, 1, 1, 1, 3, 1, 10, 13, 1, 4, 1, 1, 1, 1, 1, 1, 1, 1, 39, 1, 1, 1, 2, 2, 1, 3, 8, 1, 1, 1, 23, 9, 4, 1, 2, 1, 3, 1, 1, 3, 1, 1, 1, 1, 1, 1, 2, 1, 22, 1, 1, 1, 2, 1, 1, 1, 1, 2, 3, 1, 1, 1, 1, 6, 1, 3, 1, 1, 1, 1, 1, 1, 1, 1, 2, 1, 7, 1, 1, 1, 1, 1, 1, 191, 1, 1, 1, 1, 852, 1, 1, 5, 2, 1, 1, 2, 76, 233, 1, 1, 1, 1, 1, 1, 3, 1, 1, 1, 1, 1, 1, 1, 1, 1, 680, 3, 1, 1, 1, 1, 2, 1, 1, 2, 2, 1, 2, 3, 1, 1, 1, 1, 1, 1, 1, 1, 1, 1, 1, 1, 2, 1, 2, 1, 3, 3, 1, 1, 2, 1, 1, 1, 1, 1, 1, 1, 1, 1, 1, 1, 5, 1, 1, 3, 4, 3, 1, 1, 4, 2, 1, 3, 5, 1, 2, 10, 1, 1, 1, 1, 1, 1, 24, 1, 1, 26, 1, 1, 6, 1, 1, 1, 2, 1, 1, 5, 2, 1, 59, 100, 40, 2, 33, 3, 25, 1, 1, 1, 4, 1, 2, 1, 1, 1, 1, 1, 1, 1, 1, 1, 1, 1, 172, 1, 1, 1, 2, 1, 1, 1, 2, 1, 1, 2, 3, 1, 1, 1, 1, 1, 1, 1, 1, 1, 1, 1, 1, 1, 1, 1, 2, 1, 1, 3, 1, 1, 1, 5, 1, 1, 1, 1, 1, 1, 1, 2, 3, 1, 1, 1, 1, 17, 1, 1, 8, 1, 1, 2, 1, 1, 1, 1, 1, 1, 1, 1, 33, 1, 1, 1, 1, 8, 1, 2, 1, 1, 11, 1, 1, 21, 3, 2, 3, 1, 1, 2, 5, 2, 1, 1, 1, 1, 1, 1, 1, 1, 1, 1, 1, 1, 2, 1, 1, 2, 1, 1, 1, 1, 5, 7, 1, 1, 1, 1, 1, 2, 1, 1, 1, 1, 1, 1, 1, 1, 1, 66, 4, 1, 1, 1, 2, 1, 1, 1, 1, 1, 1, 1, 1, 1, 3, 3, 1, 1, 1, 1, 1, 1, 2, 1, 1, 1, 1, 1, 1, 2, 1, 17, 1, 1, 182, 3, 1, 1, 2, 3, 1, 3, 5, 1, 1, 1, 1, 1, 1, 1, 1, 1, 4, 1, 6, 1, 1, 1, 86, 2, 1, 1, 1, 1, 1, 1, 1, 825, 3, 6, 1, 2, 3, 1, 1, 1, 5, 1, 1, 1, 1, 1, 2, 1, 1, 3, 1, 3, 2, 1, 7, 1, 1, 1, 1, 4, 1, 2, 1, 1, 43, 1, 3, 1, 1, 1, 1, 3, 1, 1, 8, 1, 1, 1, 2, 2, 1, 1, 1, 1, 1, 1, 3, 1, 3, 2, 1, 1, 1, 1, 2, 2, 1, 1, 1, 1, 1, 1, 1, 2, 1, 2, 1, 1, 1, 1, 1, 1, 1, 2, 1, 1, 4, 1, 1, 1, 1, 1, 1, 1, 1, 1, 1, 1, 3, 1, 1, 1, 1, 1, 1, 1, 1, 2, 1, 2, 1, 2, 2, 1, 5, 2, 2, 1, 1, 1, 1, 2, 1, 1, 1, 1, 1, 1, 1, 1, 1, 1, 1, 4, 1, 1, 1, 1, 2, 8, 1, 1, 1, 1, 2, 52, 2, 1, 1, 1, 3, 1, 1, 1, 1, 1, 1, 1, 1, 4, 2, 1, 1, 6, 1, 2, 1, 4, 10, 2, 1, 1, 1, 1, 1, 1, 11, 1, 1, 1, 1, 1, 4, 3, 1, 1, 1, 2, 3, 1, 3, 1, 1, 7, 1, 1, 2, 3, 3, 5, 1, 1, 1, 1, 1, 1, 1, 1, 1, 2, 5, 2, 1, 1, 2, 1, 1, 1, 1, 4, 1, 1, 1, 1, 5, 3, 3, 1, 1, 1, 1, 1, 1, 7, 28, 1, 1, 1, 1, 11, 2, 1, 1, 1, 6, 1, 1, 6, 1, 4, 1, 4, 2, 1, 1, 6, 23, 2, 1, 2, 3, 5, 1, 1, 1, 1, 1, 2, 1, 1, 10, 1, 1, 1, 3, 1, 1, 2, 1, 2, 1, 3, 2, 1, 1, 1, 4, 4, 1, 1, 1, 1, 1, 1, 1, 1, 1, 1, 2, 1, 1, 44, 1, 1, 1, 2, 1, 1, 7, 2, 2, 4, 1, 25, 8, 1, 1, 2, 2, 2, 5, 1, 4, 1, 7, 1, 1, 1, 1, 1, 50, 1, 1, 1, 1, 1, 1, 1, 2, 1, 1, 2, 1, 1, 2, 3, 1, 1, 2, 4, 1, 2, 2, 1, 2, 1, 1, 1, 2, 1, 1, 1, 9, 1, 17, 3, 1, 1, 1, 1, 1, 1, 1, 1, 2, 3, 1, 1, 1]\n"
     ]
    }
   ],
   "source": [
    "# Para ello, primero importamos el módulo re\n",
    "import re\n",
    "\n",
    "# Creamos una lista que va a almacenar listas que contienen strings con los números dentro de cada reseña\n",
    "lista = []\n",
    "\n",
    "# Creamos un bucle for para recorrer cada reseña en el conjunto de reseñas que los usuarios determinaron cómo funny\n",
    "for reseña in reseñas[~reseñas[\"funny\"].isnull()][\"funny\"]:\n",
    "    # Agregamos a la lista previamente creada sólo la parte númerica del string\n",
    "    lista.append(re.findall(r'\\d+', reseña))\n",
    "\n",
    "# A partir de la lista, creamos una nueva lista que va a almacenar los números contenidos dentro de las listas en nuestra lista original\n",
    "lista_nueva = []\n",
    "for lista_interna in lista: # Iteramos por cada lista interna\n",
    "    for str_numero in lista_interna: # Iteramos por cada string númerico dentro de la lista (es uno sólo por lista_interna)\n",
    "        lista_nueva.append(int(str_numero)) # Transformamos en entero el número y lo agregamos a la lista nueva\n",
    "\n",
    "print(lista_nueva) # Mostramos en pantalla"
   ]
  },
  {
   "cell_type": "markdown",
   "metadata": {},
   "source": [
    "Ahora quiero determinar las top 10 reseñas que acumulan más cantidad de funny's"
   ]
  },
  {
   "cell_type": "code",
   "execution_count": 12,
   "metadata": {},
   "outputs": [
    {
     "name": "stdout",
     "output_type": "stream",
     "text": [
      "[956, 954, 946, 876, 856, 852, 841, 830, 825, 759]\n"
     ]
    }
   ],
   "source": [
    "top_funny = sorted(lista_nueva, reverse=True)[:10] # Ordenamos la lista de forma inversa, y nos quedamos con los primeros 10 valores\n",
    "print(top_funny)  # Vemos en pantalla el resultado"
   ]
  },
  {
   "cell_type": "markdown",
   "metadata": {},
   "source": [
    "Ahora a partir de estos números, voy a buscar cada una de estas reseñas, y las voy a mostrar en pantalla"
   ]
  },
  {
   "cell_type": "code",
   "execution_count": 13,
   "metadata": {},
   "outputs": [
    {
     "name": "stdout",
     "output_type": "stream",
     "text": [
      "[34847, 29114, 17733, 50145, 6788, 51596, 21978, 23493, 55185, 14456]\n"
     ]
    }
   ],
   "source": [
    "lista_indices = [] # Creamos una lista que va almacenar los indices correspondientes a las filas que corresponden con las reseñas más votadas\n",
    "# Por cada número dentro de la lista top_funny\n",
    "for cantidad_funny in top_funny:\n",
    "\n",
    "    indice = reseñas[(reseñas['funny'].str.contains(str(cantidad_funny))) & (~reseñas[\"funny\"].isnull())].index[0]\n",
    "\n",
    "    lista_indices.append(indice)\n",
    "\n",
    "print(lista_indices)"
   ]
  },
  {
   "cell_type": "markdown",
   "metadata": {},
   "source": [
    "Ahora, con esta lista de indices, filtro el dataframe "
   ]
  },
  {
   "cell_type": "code",
   "execution_count": 14,
   "metadata": {},
   "outputs": [
    {
     "data": {
      "text/html": [
       "<div>\n",
       "<style scoped>\n",
       "    .dataframe tbody tr th:only-of-type {\n",
       "        vertical-align: middle;\n",
       "    }\n",
       "\n",
       "    .dataframe tbody tr th {\n",
       "        vertical-align: top;\n",
       "    }\n",
       "\n",
       "    .dataframe thead th {\n",
       "        text-align: right;\n",
       "    }\n",
       "</style>\n",
       "<table border=\"1\" class=\"dataframe\">\n",
       "  <thead>\n",
       "    <tr style=\"text-align: right;\">\n",
       "      <th></th>\n",
       "      <th>funny</th>\n",
       "      <th>posted</th>\n",
       "      <th>last_edited</th>\n",
       "      <th>item_id</th>\n",
       "      <th>helpful</th>\n",
       "      <th>recommend</th>\n",
       "      <th>review</th>\n",
       "      <th>user_id</th>\n",
       "    </tr>\n",
       "  </thead>\n",
       "  <tbody>\n",
       "    <tr>\n",
       "      <th>6788</th>\n",
       "      <td>856 people found this review funny</td>\n",
       "      <td>Posted May 29.</td>\n",
       "      <td>NaN</td>\n",
       "      <td>326460</td>\n",
       "      <td>793 of 941 people (84%) found this review helpful</td>\n",
       "      <td>True</td>\n",
       "      <td>This game is:10% luck,20% skill,15% concentrat...</td>\n",
       "      <td>xXCOOK1EMANXx</td>\n",
       "    </tr>\n",
       "    <tr>\n",
       "      <th>14456</th>\n",
       "      <td>759 people found this review funny</td>\n",
       "      <td>Posted June 26, 2015.</td>\n",
       "      <td>NaN</td>\n",
       "      <td>209160</td>\n",
       "      <td>519 of 656 people (79%) found this review helpful</td>\n",
       "      <td>False</td>\n",
       "      <td>This game is worse than my chance of getting a...</td>\n",
       "      <td>fartofsmellyness</td>\n",
       "    </tr>\n",
       "    <tr>\n",
       "      <th>17733</th>\n",
       "      <td>946 people found this review funny</td>\n",
       "      <td>Posted January 9, 2015.</td>\n",
       "      <td>NaN</td>\n",
       "      <td>313740</td>\n",
       "      <td>831 of 954 people (87%) found this review helpful</td>\n",
       "      <td>True</td>\n",
       "      <td>Look behind you simulator.lmao</td>\n",
       "      <td>russelmao</td>\n",
       "    </tr>\n",
       "    <tr>\n",
       "      <th>21978</th>\n",
       "      <td>841 people found this review funny</td>\n",
       "      <td>Posted May 3, 2015.</td>\n",
       "      <td>NaN</td>\n",
       "      <td>242920</td>\n",
       "      <td>589 of 639 people (92%) found this review helpful</td>\n",
       "      <td>True</td>\n",
       "      <td>After accidentally closing my eyes to blink wh...</td>\n",
       "      <td>Luxzackian</td>\n",
       "    </tr>\n",
       "    <tr>\n",
       "      <th>23493</th>\n",
       "      <td>830 people found this review funny</td>\n",
       "      <td>Posted March 6, 2015.</td>\n",
       "      <td>Last edited March 15, 2015.</td>\n",
       "      <td>333600</td>\n",
       "      <td>535 of 667 people (80%) found this review helpful</td>\n",
       "      <td>True</td>\n",
       "      <td>I was only 9 years oldI loved Chocola so much,...</td>\n",
       "      <td>76561198045400287</td>\n",
       "    </tr>\n",
       "    <tr>\n",
       "      <th>29114</th>\n",
       "      <td>1,954 people found this review funny</td>\n",
       "      <td>Posted December 4, 2015.</td>\n",
       "      <td>Last edited December 5, 2015.</td>\n",
       "      <td>8930</td>\n",
       "      <td>1,581 of 1,678 people (94%) found this review ...</td>\n",
       "      <td>True</td>\n",
       "      <td>I can sum this game up in one game play.I play...</td>\n",
       "      <td>76561198109249377</td>\n",
       "    </tr>\n",
       "    <tr>\n",
       "      <th>34847</th>\n",
       "      <td>956 people found this review funny</td>\n",
       "      <td>Posted May 19, 2015.</td>\n",
       "      <td>NaN</td>\n",
       "      <td>292030</td>\n",
       "      <td>1,144 of 1,356 people (84%) found this review ...</td>\n",
       "      <td>True</td>\n",
       "      <td>Tutorial area took me 8 hours to complete.I re...</td>\n",
       "      <td>marhan</td>\n",
       "    </tr>\n",
       "    <tr>\n",
       "      <th>50145</th>\n",
       "      <td>876 people found this review funny</td>\n",
       "      <td>Posted November 29, 2014.</td>\n",
       "      <td>Last edited November 29, 2014.</td>\n",
       "      <td>218620</td>\n",
       "      <td>787 of 1,040 people (76%) found this review he...</td>\n",
       "      <td>True</td>\n",
       "      <td>Ah, the world of Payday 2...A world where armo...</td>\n",
       "      <td>76561198060545297</td>\n",
       "    </tr>\n",
       "    <tr>\n",
       "      <th>51596</th>\n",
       "      <td>852 people found this review funny</td>\n",
       "      <td>Posted November 22, 2014.</td>\n",
       "      <td>NaN</td>\n",
       "      <td>730</td>\n",
       "      <td>1,072 of 1,208 people (89%) found this review ...</td>\n",
       "      <td>True</td>\n",
       "      <td>Got called a Hacker, Best moment in my life</td>\n",
       "      <td>Scrfiin</td>\n",
       "    </tr>\n",
       "    <tr>\n",
       "      <th>55185</th>\n",
       "      <td>825 people found this review funny</td>\n",
       "      <td>Posted January 14, 2015.</td>\n",
       "      <td>NaN</td>\n",
       "      <td>304930</td>\n",
       "      <td>474 of 588 people (81%) found this review helpful</td>\n",
       "      <td>True</td>\n",
       "      <td>Started as a naked person in a zombie apocalyp...</td>\n",
       "      <td>whatismyid</td>\n",
       "    </tr>\n",
       "  </tbody>\n",
       "</table>\n",
       "</div>"
      ],
      "text/plain": [
       "                                      funny                     posted  \\\n",
       "6788     856 people found this review funny             Posted May 29.   \n",
       "14456    759 people found this review funny      Posted June 26, 2015.   \n",
       "17733    946 people found this review funny    Posted January 9, 2015.   \n",
       "21978    841 people found this review funny        Posted May 3, 2015.   \n",
       "23493    830 people found this review funny      Posted March 6, 2015.   \n",
       "29114  1,954 people found this review funny   Posted December 4, 2015.   \n",
       "34847    956 people found this review funny       Posted May 19, 2015.   \n",
       "50145    876 people found this review funny  Posted November 29, 2014.   \n",
       "51596    852 people found this review funny  Posted November 22, 2014.   \n",
       "55185    825 people found this review funny   Posted January 14, 2015.   \n",
       "\n",
       "                          last_edited item_id  \\\n",
       "6788                              NaN  326460   \n",
       "14456                             NaN  209160   \n",
       "17733                             NaN  313740   \n",
       "21978                             NaN  242920   \n",
       "23493     Last edited March 15, 2015.  333600   \n",
       "29114   Last edited December 5, 2015.    8930   \n",
       "34847                             NaN  292030   \n",
       "50145  Last edited November 29, 2014.  218620   \n",
       "51596                             NaN     730   \n",
       "55185                             NaN  304930   \n",
       "\n",
       "                                                 helpful  recommend  \\\n",
       "6788   793 of 941 people (84%) found this review helpful       True   \n",
       "14456  519 of 656 people (79%) found this review helpful      False   \n",
       "17733  831 of 954 people (87%) found this review helpful       True   \n",
       "21978  589 of 639 people (92%) found this review helpful       True   \n",
       "23493  535 of 667 people (80%) found this review helpful       True   \n",
       "29114  1,581 of 1,678 people (94%) found this review ...       True   \n",
       "34847  1,144 of 1,356 people (84%) found this review ...       True   \n",
       "50145  787 of 1,040 people (76%) found this review he...       True   \n",
       "51596  1,072 of 1,208 people (89%) found this review ...       True   \n",
       "55185  474 of 588 people (81%) found this review helpful       True   \n",
       "\n",
       "                                                  review            user_id  \n",
       "6788   This game is:10% luck,20% skill,15% concentrat...      xXCOOK1EMANXx  \n",
       "14456  This game is worse than my chance of getting a...   fartofsmellyness  \n",
       "17733                     Look behind you simulator.lmao          russelmao  \n",
       "21978  After accidentally closing my eyes to blink wh...         Luxzackian  \n",
       "23493  I was only 9 years oldI loved Chocola so much,...  76561198045400287  \n",
       "29114  I can sum this game up in one game play.I play...  76561198109249377  \n",
       "34847  Tutorial area took me 8 hours to complete.I re...             marhan  \n",
       "50145  Ah, the world of Payday 2...A world where armo...  76561198060545297  \n",
       "51596        Got called a Hacker, Best moment in my life            Scrfiin  \n",
       "55185  Started as a naked person in a zombie apocalyp...         whatismyid  "
      ]
     },
     "execution_count": 14,
     "metadata": {},
     "output_type": "execute_result"
    }
   ],
   "source": [
    "reseñas[reseñas.index.isin(lista_indices)]"
   ]
  },
  {
   "cell_type": "markdown",
   "metadata": {},
   "source": [
    "Veamos sólo las reseñas"
   ]
  },
  {
   "cell_type": "code",
   "execution_count": 15,
   "metadata": {},
   "outputs": [
    {
     "name": "stdout",
     "output_type": "stream",
     "text": [
      "This game is:10% luck,20% skill,15% concentrated power of will,5% pleasure,50% pain,100% reason to purchase the game.\n",
      "\n",
      "This game is worse than my chance of getting a girlfriend.\n",
      "\n",
      "Look behind you simulator.lmao\n",
      "\n",
      "After accidentally closing my eyes to blink while tasking my first batch of villagers, I opened them to find everyone dead from starvation except five children. Thankfully there were enough cabbages in storage for them to survive for two years until they grew up. After tasking them as fishermen on a nearby river I learned fishermen can consistently fish about three fish a year, enough to sustain almost 0.000001% of my population. As my village began to grow once more I felt the shattered fragments of my soul beginning to piece themselves back together. However, six fishermen in a village of seven people was not enough, and I quickly learned this as I watched all my young adults starve once more. I still had two people left. As they progressively had more and more sex and my incestual village was for the third time repopulated I knew what I had to do. Farms were the only way out. Now I have a monopoly on the cabbage industry, and even now my 4000 cabbages each harvest is not enough to sustain my village of twenty people. As I watch those I love slowly starve, I can't help but remind myself through the many tears that flood my room what a great game banished is. 10/10 would starve the incestual children again.\n",
      "\n",
      "I was only 9 years oldI loved Chocola so much, I had all the merchandise and visual novelsI pray to Chocola every night before bed, thanking her for the life I've been given\"Chocola is Love,\" I say. \"Chocola is Laifu.\"My dad hears me and calls me a ♥♥♥♥♥♥I knew he was jealous of my devotion to ChocolaI called him a ♥♥♥♥He slaps be and sends me to go to sleepI'm crying now, and my face hurtsI lay in bed and it's really coldA warmth is moving towards meI feel something touch meIt's ChocolaI am so happyShe whispers into my ear,\"this is my chocolate\"She grabs me with her her tiny kitten hands and i put her on her hands and kneesI'm readyI spread her asscheeks for ChocolaI penetrate her ♥♥♥♥♥♥♥♥It hurts her so much but i do it for ChocolaI can feel her butt tearing as hers eyes start to waterShe pushes against my forceI want to please ChocolaShe mooans out a cute moan as I fill her butt with my loveMy dad walks inChocola looks him straight in the eye and says, \"It's all over meow\"Chocola leaves through my windowChocola is Love, Chocola is Laifu\n",
      "\n",
      "I can sum this game up in one game play.I play as China.I found Judaism.I spread Judaism to Germany.The Germans love being a bunch of Jews...I spread it to India.Gandhi tells the Jews to go get ♥♥♥♥ed.The Aztecs wipe out the Spainish.World War 1 starts as a result in 1756.The mostly neutral Siamese get ♥♥♥♥ed for being mostly neutral.I follow Freedom.Newly Communist America tells me to go ♥♥♥♥ myself cause they really hate 'China, Land of the Free.'So I tell America to go get ♥♥♥♥ed.India becomes Facist under the supreme dictator Gandhi, who also happens to hate Jews.I tell India to go ♥♥♥♥ themselves.World War 2 starts as a result in 1998.Its a nuclear war.The Aztecs went to war with 5 civs with a military completely made up of horses and sticks.India nukes 4 different civs within 4 turns (including me.)I nuke India back.Everyone hates me for retaliating and ending the war before more blood could be shed saving countless civilian lives.Under the evil rule of dictator Sejong, facist Korea has some how come to rule an entire continent within all the chaos.Korea tells me to go get ♥♥♥♥ed.Siam tells me to go get ♥♥♥♥ed.Germany tells me to get ♥♥♥♥ed.7 civs declare war on me at once.i r8 8/8 its gr8 m8.\n",
      "\n",
      "Tutorial area took me 8 hours to complete.I regret nothing.\n",
      "\n",
      "Ah, the world of Payday 2...A world where armour plating can magically regenerate by laying your ♥♥♥ down behind cover for 3 secondsA world where yelling at your team mates give them the willpower to dust off their life threatening woundsA world where security guards don't get suspicious of that pump action Raven shotgun you got on your backA world where civilains are the holy grails of heists while police officers are worth a pinch of saltA world where you get to watch a foul mouthed Englishman 'hack' by looking at a loading screenA world where the police puts dangerous criminals in custody and releases them 3 minutes laterA world where world class heisters can't afford drills that aren't made in ChinaA world where guns and masks are worth more than cars and housesA world where advanced DNA matching takes only minutes and not monthsA world where you can have 5 Sam Fishers kicking your face inA world where you get to be HeisenbergThermal drill is love, thermal drill is life420/10 Game of the Century\n",
      "\n",
      "Got called a Hacker, Best moment in my life\n",
      "\n",
      "Started as a naked person in a zombie apocalypse. Gets clothes from laundry shops that fits exactly your size.Kill other people to get them naked.\"Suicide\" to be naked and drop your items on the floor.Everything is naked.Players are naked.I am naked.Nelson is naked.12/10 wud naked again.\n",
      "\n"
     ]
    }
   ],
   "source": [
    "for reseña_top_graciosa in reseñas[reseñas.index.isin(lista_indices)][\"review\"]:\n",
    "    print(reseña_top_graciosa)\n",
    "    print()"
   ]
  },
  {
   "cell_type": "markdown",
   "metadata": {},
   "source": [
    "Confirmamos que sí, algunas son bastante graciosas."
   ]
  },
  {
   "cell_type": "markdown",
   "metadata": {},
   "source": [
    "Veamos ahora la columna last_edited"
   ]
  },
  {
   "cell_type": "code",
   "execution_count": 16,
   "metadata": {},
   "outputs": [
    {
     "data": {
      "text/plain": [
       "7         Last edited December 5, 2015.\n",
       "23       Last edited November 25, 2013.\n",
       "24       Last edited November 25, 2013.\n",
       "25           Last edited June 22, 2014.\n",
       "26       Last edited November 25, 2013.\n",
       "                      ...              \n",
       "59190    Last edited September 8, 2015.\n",
       "59196              Last edited June 17.\n",
       "59197             Last edited April 20.\n",
       "59200             Last edited April 29.\n",
       "59281            Last edited August 13.\n",
       "Name: last_edited, Length: 6140, dtype: object"
      ]
     },
     "execution_count": 16,
     "metadata": {},
     "output_type": "execute_result"
    }
   ],
   "source": [
    "reseñas[~reseñas[\"last_edited\"].isnull()][\"last_edited\"] # Vemos que lo que nos ofrece esta columna es información acerca de cuando fué la última vez que se editó la reseña. Es lógico pensar que no todas las personas luego de hacer una reseña, vuelven a editarla, esa sería mi suposición de por qué hay tanta cantidad de nulos. "
   ]
  },
  {
   "cell_type": "markdown",
   "metadata": {},
   "source": [
    "Tanto la columna \"last_edited\" cómo \"funny\" están sujetas a ser eliminadas debido a la poca información útil que ofrecen para este proyecto, más sin embargo, en este archivo decido conservarlas."
   ]
  },
  {
   "cell_type": "code",
   "execution_count": 17,
   "metadata": {},
   "outputs": [
    {
     "data": {
      "text/plain": [
       "funny          51154\n",
       "posted             0\n",
       "last_edited    53165\n",
       "item_id            0\n",
       "helpful            0\n",
       "recommend          0\n",
       "review            38\n",
       "user_id            0\n",
       "dtype: int64"
      ]
     },
     "execution_count": 17,
     "metadata": {},
     "output_type": "execute_result"
    }
   ],
   "source": [
    "# Si recordamos los nulos por cada columna teníamos\n",
    "reseñas.isnull().sum()"
   ]
  },
  {
   "cell_type": "markdown",
   "metadata": {},
   "source": [
    "Vemos que la 3ª y última columna con datos faltantes es la columna review, exploremos esta columna."
   ]
  },
  {
   "cell_type": "code",
   "execution_count": 18,
   "metadata": {},
   "outputs": [
    {
     "data": {
      "text/plain": [
       "0        Simple yet with great replayability. In my opi...\n",
       "1                     It's unique and worth a playthrough.\n",
       "2        Great atmosphere. The gunplay can be a bit chu...\n",
       "3        I know what you think when you see this title ...\n",
       "4        For a simple (it's actually not all that simpl...\n",
       "                               ...                        \n",
       "59300    a must have classic from steam definitely wort...\n",
       "59301    this game is a perfect remake of the original ...\n",
       "59302    had so much fun plaing this and collecting res...\n",
       "59303                                                   :D\n",
       "59304                                       so much fun :D\n",
       "Name: review, Length: 59305, dtype: object"
      ]
     },
     "execution_count": 18,
     "metadata": {},
     "output_type": "execute_result"
    }
   ],
   "source": [
    "reseñas[\"review\"]"
   ]
  },
  {
   "cell_type": "markdown",
   "metadata": {},
   "source": [
    "Vemos que en esta columna se almacenan las reseñas hechas por los usuarios. A partir de este hecho, decido eliminar las celdas con datos faltantes, ya que esta columna es la más relevante del conjunto de datos, y al estar vacía, no me aporta información útil."
   ]
  },
  {
   "cell_type": "code",
   "execution_count": 19,
   "metadata": {},
   "outputs": [
    {
     "data": {
      "text/html": [
       "<div>\n",
       "<style scoped>\n",
       "    .dataframe tbody tr th:only-of-type {\n",
       "        vertical-align: middle;\n",
       "    }\n",
       "\n",
       "    .dataframe tbody tr th {\n",
       "        vertical-align: top;\n",
       "    }\n",
       "\n",
       "    .dataframe thead th {\n",
       "        text-align: right;\n",
       "    }\n",
       "</style>\n",
       "<table border=\"1\" class=\"dataframe\">\n",
       "  <thead>\n",
       "    <tr style=\"text-align: right;\">\n",
       "      <th></th>\n",
       "      <th>funny</th>\n",
       "      <th>posted</th>\n",
       "      <th>last_edited</th>\n",
       "      <th>item_id</th>\n",
       "      <th>helpful</th>\n",
       "      <th>recommend</th>\n",
       "      <th>review</th>\n",
       "      <th>user_id</th>\n",
       "    </tr>\n",
       "  </thead>\n",
       "  <tbody>\n",
       "    <tr>\n",
       "      <th>614</th>\n",
       "      <td>NaN</td>\n",
       "      <td>Posted December 13, 2013.</td>\n",
       "      <td>NaN</td>\n",
       "      <td>570</td>\n",
       "      <td>No ratings yet</td>\n",
       "      <td>True</td>\n",
       "      <td>NaN</td>\n",
       "      <td>76561198070263209</td>\n",
       "    </tr>\n",
       "    <tr>\n",
       "      <th>914</th>\n",
       "      <td>NaN</td>\n",
       "      <td>Posted November 25, 2013.</td>\n",
       "      <td>NaN</td>\n",
       "      <td>215530</td>\n",
       "      <td>0 of 3 people (0%) found this review helpful</td>\n",
       "      <td>True</td>\n",
       "      <td>NaN</td>\n",
       "      <td>Azrafael</td>\n",
       "    </tr>\n",
       "    <tr>\n",
       "      <th>3095</th>\n",
       "      <td>NaN</td>\n",
       "      <td>Posted March 11.</td>\n",
       "      <td>NaN</td>\n",
       "      <td>550</td>\n",
       "      <td>No ratings yet</td>\n",
       "      <td>True</td>\n",
       "      <td>NaN</td>\n",
       "      <td>2ZESTY4ME</td>\n",
       "    </tr>\n",
       "  </tbody>\n",
       "</table>\n",
       "</div>"
      ],
      "text/plain": [
       "     funny                     posted last_edited item_id  \\\n",
       "614    NaN  Posted December 13, 2013.         NaN     570   \n",
       "914    NaN  Posted November 25, 2013.         NaN  215530   \n",
       "3095   NaN           Posted March 11.         NaN     550   \n",
       "\n",
       "                                           helpful  recommend review  \\\n",
       "614                                 No ratings yet       True    NaN   \n",
       "914   0 of 3 people (0%) found this review helpful       True    NaN   \n",
       "3095                                No ratings yet       True    NaN   \n",
       "\n",
       "                user_id  \n",
       "614   76561198070263209  \n",
       "914            Azrafael  \n",
       "3095          2ZESTY4ME  "
      ]
     },
     "execution_count": 19,
     "metadata": {},
     "output_type": "execute_result"
    }
   ],
   "source": [
    "reseñas[reseñas[\"review\"].isnull()].head(3)"
   ]
  },
  {
   "cell_type": "code",
   "execution_count": 20,
   "metadata": {},
   "outputs": [
    {
     "data": {
      "text/plain": [
       "(59267, 8)"
      ]
     },
     "execution_count": 20,
     "metadata": {},
     "output_type": "execute_result"
    }
   ],
   "source": [
    "# Decido eliminarlas de la siguiente manera\n",
    "reseñas = reseñas[~reseñas[\"review\"].isnull()]\n",
    "reseñas.shape # Se eliminaron las 38 filas que contenían celdas vacías en la columna \"review\""
   ]
  },
  {
   "cell_type": "code",
   "execution_count": 21,
   "metadata": {},
   "outputs": [
    {
     "data": {
      "text/plain": [
       "Index(['funny', 'posted', 'last_edited', 'item_id', 'helpful', 'recommend',\n",
       "       'review', 'user_id'],\n",
       "      dtype='object')"
      ]
     },
     "execution_count": 21,
     "metadata": {},
     "output_type": "execute_result"
    }
   ],
   "source": [
    "reseñas.columns"
   ]
  },
  {
   "cell_type": "markdown",
   "metadata": {},
   "source": [
    "Veamos ahora una distribución de las recomendaciones en base a las reseñas hechas por los usuarios."
   ]
  },
  {
   "cell_type": "code",
   "execution_count": 22,
   "metadata": {},
   "outputs": [
    {
     "data": {
      "image/png": "[encoded data removed]",
      "text/plain": [
       "<Figure size 640x480 with 1 Axes>"
      ]
     },
     "metadata": {},
     "output_type": "display_data"
    }
   ],
   "source": [
    "reseñas['recommend'].value_counts().plot(kind='pie', autopct='%1.1f%%')\n",
    "plt.title('Distribución de Recomendaciones')\n",
    "plt.show()"
   ]
  },
  {
   "cell_type": "markdown",
   "metadata": {},
   "source": [
    "Podemos ver que en su gran mayoría (el 88.5%) de las reseñas hechas por los usuarios recomiendan los juegos a los cuáles les están haciendo la reseña. "
   ]
  },
  {
   "cell_type": "markdown",
   "metadata": {},
   "source": [
    "Veamos ahora la relación entre la columna \"funny\" y la columna \"helpful\""
   ]
  },
  {
   "cell_type": "markdown",
   "metadata": {},
   "source": [
    "Para ello, primero transformamos estas dos columnas en númericas, voy a dejar por un lado, sólo el número que representa la cantidad de personas que encontraron útil la reseña, y por el otro, el primer número dentro de la columna \"helpful\""
   ]
  },
  {
   "cell_type": "code",
   "execution_count": 23,
   "metadata": {},
   "outputs": [
    {
     "name": "stderr",
     "output_type": "stream",
     "text": [
      "<>:1: SyntaxWarning: invalid escape sequence '\\d'\n",
      "<>:1: SyntaxWarning: invalid escape sequence '\\d'\n",
      "C:\\Users\\crisr\\AppData\\Local\\Temp\\ipykernel_12440\\3341580286.py:1: SyntaxWarning: invalid escape sequence '\\d'\n",
      "  reseñas[\"funny_numerico\"] = reseñas[\"funny\"].str.extract('(\\d+)')\n",
      "C:\\Users\\crisr\\AppData\\Local\\Temp\\ipykernel_12440\\3341580286.py:1: SettingWithCopyWarning: \n",
      "A value is trying to be set on a copy of a slice from a DataFrame.\n",
      "Try using .loc[row_indexer,col_indexer] = value instead\n",
      "\n",
      "See the caveats in the documentation: https://pandas.pydata.org/pandas-docs/stable/user_guide/indexing.html#returning-a-view-versus-a-copy\n",
      "  reseñas[\"funny_numerico\"] = reseñas[\"funny\"].str.extract('(\\d+)')\n"
     ]
    },
    {
     "data": {
      "text/html": [
       "<div>\n",
       "<style scoped>\n",
       "    .dataframe tbody tr th:only-of-type {\n",
       "        vertical-align: middle;\n",
       "    }\n",
       "\n",
       "    .dataframe tbody tr th {\n",
       "        vertical-align: top;\n",
       "    }\n",
       "\n",
       "    .dataframe thead th {\n",
       "        text-align: right;\n",
       "    }\n",
       "</style>\n",
       "<table border=\"1\" class=\"dataframe\">\n",
       "  <thead>\n",
       "    <tr style=\"text-align: right;\">\n",
       "      <th></th>\n",
       "      <th>funny</th>\n",
       "      <th>posted</th>\n",
       "      <th>last_edited</th>\n",
       "      <th>item_id</th>\n",
       "      <th>helpful</th>\n",
       "      <th>recommend</th>\n",
       "      <th>review</th>\n",
       "      <th>user_id</th>\n",
       "      <th>funny_numerico</th>\n",
       "    </tr>\n",
       "  </thead>\n",
       "  <tbody>\n",
       "    <tr>\n",
       "      <th>18</th>\n",
       "      <td>3 people found this review funny</td>\n",
       "      <td>Posted April 15, 2014.</td>\n",
       "      <td>NaN</td>\n",
       "      <td>211420</td>\n",
       "      <td>35 of 43 people (81%) found this review helpful</td>\n",
       "      <td>True</td>\n",
       "      <td>Git gud</td>\n",
       "      <td>maplemage</td>\n",
       "      <td>3</td>\n",
       "    </tr>\n",
       "    <tr>\n",
       "      <th>19</th>\n",
       "      <td>1 person found this review funny</td>\n",
       "      <td>Posted December 23, 2013.</td>\n",
       "      <td>NaN</td>\n",
       "      <td>211820</td>\n",
       "      <td>12 of 16 people (75%) found this review helpful</td>\n",
       "      <td>True</td>\n",
       "      <td>It's like Terraria, you play for 9 hours strai...</td>\n",
       "      <td>maplemage</td>\n",
       "      <td>1</td>\n",
       "    </tr>\n",
       "    <tr>\n",
       "      <th>20</th>\n",
       "      <td>2 people found this review funny</td>\n",
       "      <td>Posted March 14, 2014.</td>\n",
       "      <td>NaN</td>\n",
       "      <td>730</td>\n",
       "      <td>5 of 5 people (100%) found this review helpful</td>\n",
       "      <td>True</td>\n",
       "      <td>Hold shift to win, Hold CTRL to lose.</td>\n",
       "      <td>maplemage</td>\n",
       "      <td>2</td>\n",
       "    </tr>\n",
       "    <tr>\n",
       "      <th>24</th>\n",
       "      <td>1 person found this review funny</td>\n",
       "      <td>Posted October 21, 2012.</td>\n",
       "      <td>Last edited November 25, 2013.</td>\n",
       "      <td>550</td>\n",
       "      <td>1 of 1 people (100%) found this review helpful</td>\n",
       "      <td>True</td>\n",
       "      <td>This game is fantastic if you are looking to D...</td>\n",
       "      <td>Wackky</td>\n",
       "      <td>1</td>\n",
       "    </tr>\n",
       "    <tr>\n",
       "      <th>27</th>\n",
       "      <td>1 person found this review funny</td>\n",
       "      <td>Posted May 20.</td>\n",
       "      <td>NaN</td>\n",
       "      <td>730</td>\n",
       "      <td>0 of 1 people (0%) found this review helpful</td>\n",
       "      <td>True</td>\n",
       "      <td>ZIKA DO BAILE</td>\n",
       "      <td>76561198079601835</td>\n",
       "      <td>1</td>\n",
       "    </tr>\n",
       "    <tr>\n",
       "      <th>...</th>\n",
       "      <td>...</td>\n",
       "      <td>...</td>\n",
       "      <td>...</td>\n",
       "      <td>...</td>\n",
       "      <td>...</td>\n",
       "      <td>...</td>\n",
       "      <td>...</td>\n",
       "      <td>...</td>\n",
       "      <td>...</td>\n",
       "    </tr>\n",
       "    <tr>\n",
       "      <th>59283</th>\n",
       "      <td>2 people found this review funny</td>\n",
       "      <td>Posted July 27.</td>\n",
       "      <td>NaN</td>\n",
       "      <td>265630</td>\n",
       "      <td>1 of 15 people (7%) found this review helpful</td>\n",
       "      <td>False</td>\n",
       "      <td>DON'T INSTALL THIS GAME!!!!!!!!!!!!!!!!!!!!!!!...</td>\n",
       "      <td>MeloncraftLP</td>\n",
       "      <td>2</td>\n",
       "    </tr>\n",
       "    <tr>\n",
       "      <th>59284</th>\n",
       "      <td>3 people found this review funny</td>\n",
       "      <td>Posted August 2.</td>\n",
       "      <td>NaN</td>\n",
       "      <td>306130</td>\n",
       "      <td>4 of 19 people (21%) found this review helpful</td>\n",
       "      <td>False</td>\n",
       "      <td>Game is terrible! So, Iv tried 15hrs tryin to ...</td>\n",
       "      <td>76561198277602337</td>\n",
       "      <td>3</td>\n",
       "    </tr>\n",
       "    <tr>\n",
       "      <th>59292</th>\n",
       "      <td>1 person found this review funny</td>\n",
       "      <td>Posted April 25.</td>\n",
       "      <td>NaN</td>\n",
       "      <td>427730</td>\n",
       "      <td>1 of 2 people (50%) found this review helpful</td>\n",
       "      <td>True</td>\n",
       "      <td>dont ask</td>\n",
       "      <td>sexyawp</td>\n",
       "      <td>1</td>\n",
       "    </tr>\n",
       "    <tr>\n",
       "      <th>59297</th>\n",
       "      <td>1 person found this review funny</td>\n",
       "      <td>Posted June 23.</td>\n",
       "      <td>NaN</td>\n",
       "      <td>570</td>\n",
       "      <td>1 of 1 people (100%) found this review helpful</td>\n",
       "      <td>True</td>\n",
       "      <td>Well Done</td>\n",
       "      <td>76561198310819422</td>\n",
       "      <td>1</td>\n",
       "    </tr>\n",
       "    <tr>\n",
       "      <th>59302</th>\n",
       "      <td>1 person found this review funny</td>\n",
       "      <td>Posted July 3.</td>\n",
       "      <td>NaN</td>\n",
       "      <td>273110</td>\n",
       "      <td>1 of 2 people (50%) found this review helpful</td>\n",
       "      <td>True</td>\n",
       "      <td>had so much fun plaing this and collecting res...</td>\n",
       "      <td>LydiaMorley</td>\n",
       "      <td>1</td>\n",
       "    </tr>\n",
       "  </tbody>\n",
       "</table>\n",
       "<p>8148 rows × 9 columns</p>\n",
       "</div>"
      ],
      "text/plain": [
       "                                  funny                     posted  \\\n",
       "18     3 people found this review funny     Posted April 15, 2014.   \n",
       "19     1 person found this review funny  Posted December 23, 2013.   \n",
       "20     2 people found this review funny     Posted March 14, 2014.   \n",
       "24     1 person found this review funny   Posted October 21, 2012.   \n",
       "27     1 person found this review funny             Posted May 20.   \n",
       "...                                 ...                        ...   \n",
       "59283  2 people found this review funny            Posted July 27.   \n",
       "59284  3 people found this review funny           Posted August 2.   \n",
       "59292  1 person found this review funny           Posted April 25.   \n",
       "59297  1 person found this review funny            Posted June 23.   \n",
       "59302  1 person found this review funny             Posted July 3.   \n",
       "\n",
       "                          last_edited item_id  \\\n",
       "18                                NaN  211420   \n",
       "19                                NaN  211820   \n",
       "20                                NaN     730   \n",
       "24     Last edited November 25, 2013.     550   \n",
       "27                                NaN     730   \n",
       "...                               ...     ...   \n",
       "59283                             NaN  265630   \n",
       "59284                             NaN  306130   \n",
       "59292                             NaN  427730   \n",
       "59297                             NaN     570   \n",
       "59302                             NaN  273110   \n",
       "\n",
       "                                               helpful  recommend  \\\n",
       "18     35 of 43 people (81%) found this review helpful       True   \n",
       "19     12 of 16 people (75%) found this review helpful       True   \n",
       "20      5 of 5 people (100%) found this review helpful       True   \n",
       "24      1 of 1 people (100%) found this review helpful       True   \n",
       "27        0 of 1 people (0%) found this review helpful       True   \n",
       "...                                                ...        ...   \n",
       "59283    1 of 15 people (7%) found this review helpful      False   \n",
       "59284   4 of 19 people (21%) found this review helpful      False   \n",
       "59292    1 of 2 people (50%) found this review helpful       True   \n",
       "59297   1 of 1 people (100%) found this review helpful       True   \n",
       "59302    1 of 2 people (50%) found this review helpful       True   \n",
       "\n",
       "                                                  review            user_id  \\\n",
       "18                                               Git gud          maplemage   \n",
       "19     It's like Terraria, you play for 9 hours strai...          maplemage   \n",
       "20                 Hold shift to win, Hold CTRL to lose.          maplemage   \n",
       "24     This game is fantastic if you are looking to D...             Wackky   \n",
       "27                                         ZIKA DO BAILE  76561198079601835   \n",
       "...                                                  ...                ...   \n",
       "59283  DON'T INSTALL THIS GAME!!!!!!!!!!!!!!!!!!!!!!!...       MeloncraftLP   \n",
       "59284  Game is terrible! So, Iv tried 15hrs tryin to ...  76561198277602337   \n",
       "59292                                           dont ask            sexyawp   \n",
       "59297                                          Well Done  76561198310819422   \n",
       "59302  had so much fun plaing this and collecting res...        LydiaMorley   \n",
       "\n",
       "      funny_numerico  \n",
       "18                 3  \n",
       "19                 1  \n",
       "20                 2  \n",
       "24                 1  \n",
       "27                 1  \n",
       "...              ...  \n",
       "59283              2  \n",
       "59284              3  \n",
       "59292              1  \n",
       "59297              1  \n",
       "59302              1  \n",
       "\n",
       "[8148 rows x 9 columns]"
      ]
     },
     "execution_count": 23,
     "metadata": {},
     "output_type": "execute_result"
    }
   ],
   "source": [
    "reseñas[\"funny_numerico\"] = reseñas[\"funny\"].str.extract('(\\d+)')\n",
    "reseñas[~reseñas[\"funny\"].isnull()]"
   ]
  },
  {
   "cell_type": "markdown",
   "metadata": {},
   "source": [
    "Hacemos lo mismo con la columna helpful"
   ]
  },
  {
   "cell_type": "code",
   "execution_count": 24,
   "metadata": {},
   "outputs": [
    {
     "name": "stderr",
     "output_type": "stream",
     "text": [
      "<>:1: SyntaxWarning: invalid escape sequence '\\d'\n",
      "<>:1: SyntaxWarning: invalid escape sequence '\\d'\n",
      "C:\\Users\\crisr\\AppData\\Local\\Temp\\ipykernel_12440\\881507609.py:1: SyntaxWarning: invalid escape sequence '\\d'\n",
      "  reseñas[\"helpful_numerico\"] = reseñas[\"helpful\"].str.extract('(\\d+)')\n",
      "C:\\Users\\crisr\\AppData\\Local\\Temp\\ipykernel_12440\\881507609.py:1: SettingWithCopyWarning: \n",
      "A value is trying to be set on a copy of a slice from a DataFrame.\n",
      "Try using .loc[row_indexer,col_indexer] = value instead\n",
      "\n",
      "See the caveats in the documentation: https://pandas.pydata.org/pandas-docs/stable/user_guide/indexing.html#returning-a-view-versus-a-copy\n",
      "  reseñas[\"helpful_numerico\"] = reseñas[\"helpful\"].str.extract('(\\d+)')\n"
     ]
    },
    {
     "data": {
      "text/html": [
       "<div>\n",
       "<style scoped>\n",
       "    .dataframe tbody tr th:only-of-type {\n",
       "        vertical-align: middle;\n",
       "    }\n",
       "\n",
       "    .dataframe tbody tr th {\n",
       "        vertical-align: top;\n",
       "    }\n",
       "\n",
       "    .dataframe thead th {\n",
       "        text-align: right;\n",
       "    }\n",
       "</style>\n",
       "<table border=\"1\" class=\"dataframe\">\n",
       "  <thead>\n",
       "    <tr style=\"text-align: right;\">\n",
       "      <th></th>\n",
       "      <th>funny</th>\n",
       "      <th>posted</th>\n",
       "      <th>last_edited</th>\n",
       "      <th>item_id</th>\n",
       "      <th>helpful</th>\n",
       "      <th>recommend</th>\n",
       "      <th>review</th>\n",
       "      <th>user_id</th>\n",
       "      <th>funny_numerico</th>\n",
       "      <th>helpful_numerico</th>\n",
       "    </tr>\n",
       "  </thead>\n",
       "  <tbody>\n",
       "    <tr>\n",
       "      <th>0</th>\n",
       "      <td>NaN</td>\n",
       "      <td>Posted November 5, 2011.</td>\n",
       "      <td>NaN</td>\n",
       "      <td>1250</td>\n",
       "      <td>No ratings yet</td>\n",
       "      <td>True</td>\n",
       "      <td>Simple yet with great replayability. In my opi...</td>\n",
       "      <td>76561197970982479</td>\n",
       "      <td>NaN</td>\n",
       "      <td>NaN</td>\n",
       "    </tr>\n",
       "    <tr>\n",
       "      <th>1</th>\n",
       "      <td>NaN</td>\n",
       "      <td>Posted July 15, 2011.</td>\n",
       "      <td>NaN</td>\n",
       "      <td>22200</td>\n",
       "      <td>No ratings yet</td>\n",
       "      <td>True</td>\n",
       "      <td>It's unique and worth a playthrough.</td>\n",
       "      <td>76561197970982479</td>\n",
       "      <td>NaN</td>\n",
       "      <td>NaN</td>\n",
       "    </tr>\n",
       "    <tr>\n",
       "      <th>2</th>\n",
       "      <td>NaN</td>\n",
       "      <td>Posted April 21, 2011.</td>\n",
       "      <td>NaN</td>\n",
       "      <td>43110</td>\n",
       "      <td>No ratings yet</td>\n",
       "      <td>True</td>\n",
       "      <td>Great atmosphere. The gunplay can be a bit chu...</td>\n",
       "      <td>76561197970982479</td>\n",
       "      <td>NaN</td>\n",
       "      <td>NaN</td>\n",
       "    </tr>\n",
       "    <tr>\n",
       "      <th>3</th>\n",
       "      <td>NaN</td>\n",
       "      <td>Posted June 24, 2014.</td>\n",
       "      <td>NaN</td>\n",
       "      <td>251610</td>\n",
       "      <td>15 of 20 people (75%) found this review helpful</td>\n",
       "      <td>True</td>\n",
       "      <td>I know what you think when you see this title ...</td>\n",
       "      <td>js41637</td>\n",
       "      <td>NaN</td>\n",
       "      <td>15</td>\n",
       "    </tr>\n",
       "    <tr>\n",
       "      <th>4</th>\n",
       "      <td>NaN</td>\n",
       "      <td>Posted September 8, 2013.</td>\n",
       "      <td>NaN</td>\n",
       "      <td>227300</td>\n",
       "      <td>0 of 1 people (0%) found this review helpful</td>\n",
       "      <td>True</td>\n",
       "      <td>For a simple (it's actually not all that simpl...</td>\n",
       "      <td>js41637</td>\n",
       "      <td>NaN</td>\n",
       "      <td>0</td>\n",
       "    </tr>\n",
       "  </tbody>\n",
       "</table>\n",
       "</div>"
      ],
      "text/plain": [
       "  funny                     posted last_edited item_id  \\\n",
       "0   NaN   Posted November 5, 2011.         NaN    1250   \n",
       "1   NaN      Posted July 15, 2011.         NaN   22200   \n",
       "2   NaN     Posted April 21, 2011.         NaN   43110   \n",
       "3   NaN      Posted June 24, 2014.         NaN  251610   \n",
       "4   NaN  Posted September 8, 2013.         NaN  227300   \n",
       "\n",
       "                                           helpful  recommend  \\\n",
       "0                                   No ratings yet       True   \n",
       "1                                   No ratings yet       True   \n",
       "2                                   No ratings yet       True   \n",
       "3  15 of 20 people (75%) found this review helpful       True   \n",
       "4     0 of 1 people (0%) found this review helpful       True   \n",
       "\n",
       "                                              review            user_id  \\\n",
       "0  Simple yet with great replayability. In my opi...  76561197970982479   \n",
       "1               It's unique and worth a playthrough.  76561197970982479   \n",
       "2  Great atmosphere. The gunplay can be a bit chu...  76561197970982479   \n",
       "3  I know what you think when you see this title ...            js41637   \n",
       "4  For a simple (it's actually not all that simpl...            js41637   \n",
       "\n",
       "  funny_numerico helpful_numerico  \n",
       "0            NaN              NaN  \n",
       "1            NaN              NaN  \n",
       "2            NaN              NaN  \n",
       "3            NaN               15  \n",
       "4            NaN                0  "
      ]
     },
     "execution_count": 24,
     "metadata": {},
     "output_type": "execute_result"
    }
   ],
   "source": [
    "reseñas[\"helpful_numerico\"] = reseñas[\"helpful\"].str.extract('(\\d+)')\n",
    "reseñas.head()"
   ]
  },
  {
   "cell_type": "markdown",
   "metadata": {},
   "source": [
    "Perfecto, vemos que funcionó correctamente, así que ahora procedemos a crear otro Dataframe, este va a contener nada más las columnas funny y helpful numerico, sólo las filas dónde ambas columnas contengan datos."
   ]
  },
  {
   "cell_type": "code",
   "execution_count": 25,
   "metadata": {},
   "outputs": [
    {
     "data": {
      "text/html": [
       "<div>\n",
       "<style scoped>\n",
       "    .dataframe tbody tr th:only-of-type {\n",
       "        vertical-align: middle;\n",
       "    }\n",
       "\n",
       "    .dataframe tbody tr th {\n",
       "        vertical-align: top;\n",
       "    }\n",
       "\n",
       "    .dataframe thead th {\n",
       "        text-align: right;\n",
       "    }\n",
       "</style>\n",
       "<table border=\"1\" class=\"dataframe\">\n",
       "  <thead>\n",
       "    <tr style=\"text-align: right;\">\n",
       "      <th></th>\n",
       "      <th>funny_numerico</th>\n",
       "      <th>helpful_numerico</th>\n",
       "    </tr>\n",
       "  </thead>\n",
       "  <tbody>\n",
       "    <tr>\n",
       "      <th>18</th>\n",
       "      <td>3</td>\n",
       "      <td>35</td>\n",
       "    </tr>\n",
       "    <tr>\n",
       "      <th>19</th>\n",
       "      <td>1</td>\n",
       "      <td>12</td>\n",
       "    </tr>\n",
       "    <tr>\n",
       "      <th>20</th>\n",
       "      <td>2</td>\n",
       "      <td>5</td>\n",
       "    </tr>\n",
       "    <tr>\n",
       "      <th>24</th>\n",
       "      <td>1</td>\n",
       "      <td>1</td>\n",
       "    </tr>\n",
       "    <tr>\n",
       "      <th>27</th>\n",
       "      <td>1</td>\n",
       "      <td>0</td>\n",
       "    </tr>\n",
       "  </tbody>\n",
       "</table>\n",
       "</div>"
      ],
      "text/plain": [
       "   funny_numerico helpful_numerico\n",
       "18              3               35\n",
       "19              1               12\n",
       "20              2                5\n",
       "24              1                1\n",
       "27              1                0"
      ]
     },
     "execution_count": 25,
     "metadata": {},
     "output_type": "execute_result"
    }
   ],
   "source": [
    "reseñas_clean = reseñas.dropna(subset=['funny_numerico', 'helpful_numerico'])\n",
    "reseñas_clean = reseñas_clean[[\"funny_numerico\",\"helpful_numerico\"]]\n",
    "reseñas_clean.head()"
   ]
  },
  {
   "cell_type": "markdown",
   "metadata": {},
   "source": [
    "Ahora vamos a graficar la relación entre estas dos columnas."
   ]
  },
  {
   "cell_type": "code",
   "execution_count": 26,
   "metadata": {},
   "outputs": [
    {
     "data": {
      "image/png": "[encoded data removed]",
      "text/plain": [
       "<Figure size 1200x800 with 1 Axes>"
      ]
     },
     "metadata": {},
     "output_type": "display_data"
    }
   ],
   "source": [
    "plt.figure(figsize=(12, 8))\n",
    "plt.scatter(reseñas_clean[\"funny_numerico\"], reseñas_clean[\"helpful_numerico\"], alpha=0.5)\n",
    "plt.xscale('log')\n",
    "plt.yscale('log')\n",
    "plt.xlabel('Votos de diversión (Funny)')\n",
    "plt.ylabel('Votos de utilidad (Helpful)')\n",
    "plt.title('Relación entre Votos de Gracia y Utilidad (Escala Log)')\n",
    "plt.show()"
   ]
  },
  {
   "cell_type": "markdown",
   "metadata": {},
   "source": [
    "Tuve que aplicar una escala logaritmica porque los datos estaban muy dispersos, pero podemos ver con esto que hay una relación entre la gente que encuentra graciosa las reseñas con la gente que también les resulta útil. Esto se podría interpretar de varias maneras, la primera es que a través del humor, podemos conectar mucho más con las personas. La segunda es que, suponiendo que una reseña al ser considerada graciosa por varias personas, esta misma se va posicionando más arriba entre todas las reseñas hechas al juego, por lo cuál, tiene mayor visibilidad, y es mucho más sencillo para un usuario determinar si una reseña es útil o no si está a la vista que si se encuentra perdida en las profundidades de todas las reseñas."
   ]
  },
  {
   "cell_type": "markdown",
   "metadata": {},
   "source": [
    "Veamos ahora la distribución de la longitud de las reseñas."
   ]
  },
  {
   "cell_type": "code",
   "execution_count": 27,
   "metadata": {},
   "outputs": [
    {
     "name": "stderr",
     "output_type": "stream",
     "text": [
      "C:\\Users\\crisr\\AppData\\Local\\Temp\\ipykernel_12440\\2373576659.py:1: SettingWithCopyWarning: \n",
      "A value is trying to be set on a copy of a slice from a DataFrame.\n",
      "Try using .loc[row_indexer,col_indexer] = value instead\n",
      "\n",
      "See the caveats in the documentation: https://pandas.pydata.org/pandas-docs/stable/user_guide/indexing.html#returning-a-view-versus-a-copy\n",
      "  reseñas['review_length'] = reseñas['review'].str.len()\n"
     ]
    },
    {
     "data": {
      "image/png": "[encoded data removed]",
      "text/plain": [
       "<Figure size 640x480 with 1 Axes>"
      ]
     },
     "metadata": {},
     "output_type": "display_data"
    }
   ],
   "source": [
    "reseñas['review_length'] = reseñas['review'].str.len()\n",
    "plt.hist(reseñas['review_length'], bins=50)\n",
    "plt.xlabel('Longitud de la Reseña')\n",
    "plt.ylabel('Frecuencia')\n",
    "plt.title('Distribución de la Longitud de las Reseñas')\n",
    "plt.show()"
   ]
  },
  {
   "cell_type": "markdown",
   "metadata": {},
   "source": [
    "Podemos observar que la mayor cantidad de reseñas tienen entre 0 y 1000 caracteres"
   ]
  },
  {
   "cell_type": "markdown",
   "metadata": {},
   "source": [
    "Veamos ahora la evolución temporal de las reseñas. Echemos un vistazo primero a nuestra columna temporal"
   ]
  },
  {
   "cell_type": "code",
   "execution_count": 28,
   "metadata": {},
   "outputs": [
    {
     "data": {
      "text/plain": [
       "0         Posted November 5, 2011.\n",
       "1            Posted July 15, 2011.\n",
       "2           Posted April 21, 2011.\n",
       "3            Posted June 24, 2014.\n",
       "4        Posted September 8, 2013.\n",
       "                   ...            \n",
       "59300              Posted July 10.\n",
       "59301               Posted July 8.\n",
       "59302               Posted July 3.\n",
       "59303              Posted July 20.\n",
       "59304               Posted July 2.\n",
       "Name: posted, Length: 59267, dtype: object"
      ]
     },
     "execution_count": 28,
     "metadata": {},
     "output_type": "execute_result"
    }
   ],
   "source": [
    "reseñas[\"posted\"] # Vemos que hay que normalizar la columna para obtener por una parte el año, y por otra parte, la descripción temporal. Así que procedemos..."
   ]
  },
  {
   "cell_type": "code",
   "execution_count": 29,
   "metadata": {},
   "outputs": [
    {
     "name": "stderr",
     "output_type": "stream",
     "text": [
      "C:\\Users\\crisr\\AppData\\Local\\Temp\\ipykernel_12440\\1826855665.py:17: SettingWithCopyWarning: \n",
      "A value is trying to be set on a copy of a slice from a DataFrame.\n",
      "Try using .loc[row_indexer,col_indexer] = value instead\n",
      "\n",
      "See the caveats in the documentation: https://pandas.pydata.org/pandas-docs/stable/user_guide/indexing.html#returning-a-view-versus-a-copy\n",
      "  reseñas['año'] = reseñas['posted'].apply(extract_year)\n",
      "C:\\Users\\crisr\\AppData\\Local\\Temp\\ipykernel_12440\\1826855665.py:18: SettingWithCopyWarning: \n",
      "A value is trying to be set on a copy of a slice from a DataFrame.\n",
      "Try using .loc[row_indexer,col_indexer] = value instead\n",
      "\n",
      "See the caveats in the documentation: https://pandas.pydata.org/pandas-docs/stable/user_guide/indexing.html#returning-a-view-versus-a-copy\n",
      "  reseñas['Descripcion Temporal'] = reseñas['posted'].apply(extract_description)\n"
     ]
    }
   ],
   "source": [
    "# Función para extraer el año\n",
    "def extract_year(text):\n",
    "    import re\n",
    "    match = re.search(r'\\b\\d{4}\\b', text)\n",
    "    return match.group(0) if match else np.NaN\n",
    "\n",
    "# Función para extraer la descripción\n",
    "def extract_description(text):\n",
    "    import re\n",
    "    match = re.search(r'\\b\\d{4}\\b', text)\n",
    "    if match:\n",
    "        return text.replace(match.group(0), '').strip()\n",
    "    else:\n",
    "        return text\n",
    "\n",
    "# Aplicamos las funciones al DataFrame\n",
    "reseñas['año'] = reseñas['posted'].apply(extract_year)\n",
    "reseñas['Descripcion Temporal'] = reseñas['posted'].apply(extract_description)"
   ]
  },
  {
   "cell_type": "code",
   "execution_count": 30,
   "metadata": {},
   "outputs": [
    {
     "data": {
      "text/html": [
       "<div>\n",
       "<style scoped>\n",
       "    .dataframe tbody tr th:only-of-type {\n",
       "        vertical-align: middle;\n",
       "    }\n",
       "\n",
       "    .dataframe tbody tr th {\n",
       "        vertical-align: top;\n",
       "    }\n",
       "\n",
       "    .dataframe thead th {\n",
       "        text-align: right;\n",
       "    }\n",
       "</style>\n",
       "<table border=\"1\" class=\"dataframe\">\n",
       "  <thead>\n",
       "    <tr style=\"text-align: right;\">\n",
       "      <th></th>\n",
       "      <th>año</th>\n",
       "      <th>Descripcion Temporal</th>\n",
       "    </tr>\n",
       "  </thead>\n",
       "  <tbody>\n",
       "    <tr>\n",
       "      <th>0</th>\n",
       "      <td>2011</td>\n",
       "      <td>Posted November 5, .</td>\n",
       "    </tr>\n",
       "    <tr>\n",
       "      <th>1</th>\n",
       "      <td>2011</td>\n",
       "      <td>Posted July 15, .</td>\n",
       "    </tr>\n",
       "    <tr>\n",
       "      <th>2</th>\n",
       "      <td>2011</td>\n",
       "      <td>Posted April 21, .</td>\n",
       "    </tr>\n",
       "    <tr>\n",
       "      <th>3</th>\n",
       "      <td>2014</td>\n",
       "      <td>Posted June 24, .</td>\n",
       "    </tr>\n",
       "    <tr>\n",
       "      <th>4</th>\n",
       "      <td>2013</td>\n",
       "      <td>Posted September 8, .</td>\n",
       "    </tr>\n",
       "    <tr>\n",
       "      <th>...</th>\n",
       "      <td>...</td>\n",
       "      <td>...</td>\n",
       "    </tr>\n",
       "    <tr>\n",
       "      <th>59300</th>\n",
       "      <td>NaN</td>\n",
       "      <td>Posted July 10.</td>\n",
       "    </tr>\n",
       "    <tr>\n",
       "      <th>59301</th>\n",
       "      <td>NaN</td>\n",
       "      <td>Posted July 8.</td>\n",
       "    </tr>\n",
       "    <tr>\n",
       "      <th>59302</th>\n",
       "      <td>NaN</td>\n",
       "      <td>Posted July 3.</td>\n",
       "    </tr>\n",
       "    <tr>\n",
       "      <th>59303</th>\n",
       "      <td>NaN</td>\n",
       "      <td>Posted July 20.</td>\n",
       "    </tr>\n",
       "    <tr>\n",
       "      <th>59304</th>\n",
       "      <td>NaN</td>\n",
       "      <td>Posted July 2.</td>\n",
       "    </tr>\n",
       "  </tbody>\n",
       "</table>\n",
       "<p>59267 rows × 2 columns</p>\n",
       "</div>"
      ],
      "text/plain": [
       "        año   Descripcion Temporal\n",
       "0      2011   Posted November 5, .\n",
       "1      2011      Posted July 15, .\n",
       "2      2011     Posted April 21, .\n",
       "3      2014      Posted June 24, .\n",
       "4      2013  Posted September 8, .\n",
       "...     ...                    ...\n",
       "59300   NaN        Posted July 10.\n",
       "59301   NaN         Posted July 8.\n",
       "59302   NaN         Posted July 3.\n",
       "59303   NaN        Posted July 20.\n",
       "59304   NaN         Posted July 2.\n",
       "\n",
       "[59267 rows x 2 columns]"
      ]
     },
     "execution_count": 30,
     "metadata": {},
     "output_type": "execute_result"
    }
   ],
   "source": [
    "# Echemos un vistazo a cómo quedaron estas dos columnas\n",
    "reseñas[[\"año\",\"Descripcion Temporal\"]]"
   ]
  },
  {
   "cell_type": "markdown",
   "metadata": {},
   "source": [
    "Me voy a quedar sólo con las celdas que tienen los años disponibles."
   ]
  },
  {
   "cell_type": "code",
   "execution_count": 31,
   "metadata": {},
   "outputs": [],
   "source": [
    "reseñas_año = reseñas[~reseñas[\"año\"].isnull()][\"año\"]"
   ]
  },
  {
   "cell_type": "code",
   "execution_count": 35,
   "metadata": {},
   "outputs": [
    {
     "data": {
      "image/png": "[encoded data removed]",
      "text/plain": [
       "<Figure size 1200x600 with 1 Axes>"
      ]
     },
     "metadata": {},
     "output_type": "display_data"
    }
   ],
   "source": [
    "import matplotlib.pyplot as plt\n",
    "\n",
    "# Ordenamos por año las reseñas y las contamos\n",
    "reseñas_por_año = reseñas_año.value_counts().sort_index()\n",
    "\n",
    "plt.figure(figsize=(12, 6))\n",
    "reseñas_por_año.plot(kind='bar') # Usamos matplotlib para mostrar un gráfico de barras\n",
    "\n",
    "plt.title('Evolución temporal de las reseñas por año')\n",
    "plt.xlabel('Año')\n",
    "plt.ylabel('Cantidad de reseñas')\n",
    "\n",
    "\n",
    "plt.xticks(rotation=0)\n",
    "\n",
    "# Añadimos los valores sobre cada barra\n",
    "for i, v in enumerate(reseñas_por_año):\n",
    "    plt.text(i, v, str(v), ha='center', va='bottom')\n",
    "\n",
    "plt.tight_layout()  # Ajusta el diseño para que todo quepa bien\n",
    "plt.show()"
   ]
  },
  {
   "cell_type": "markdown",
   "metadata": {},
   "source": [
    "Vemos que historicamente en 2014 ha habido más reseñas que nunca. "
   ]
  },
  {
   "cell_type": "markdown",
   "metadata": {},
   "source": [
    "Veamos ahora el top 10 de juegos con más reseñas"
   ]
  },
  {
   "cell_type": "code",
   "execution_count": 37,
   "metadata": {},
   "outputs": [
    {
     "data": {
      "image/png": "[encoded data removed]",
      "text/plain": [
       "<Figure size 640x480 with 1 Axes>"
      ]
     },
     "metadata": {},
     "output_type": "display_data"
    }
   ],
   "source": [
    "# Para ello, nos ayudamos de la librería matplotlib.\n",
    "# Hacemos un count de los item_id (ID del juego) y nos quedamos con los 10 con más reseñas\n",
    "reseñas['item_id'].value_counts().head(10).plot(kind='bar')\n",
    "plt.xlabel('ID del juego')\n",
    "plt.ylabel('Cantidad de reseñas')\n",
    "plt.title('Top 10 juegos más reseñados')\n",
    "plt.xticks(rotation=45)\n",
    "plt.show()"
   ]
  },
  {
   "cell_type": "markdown",
   "metadata": {},
   "source": [
    "A continuación, voy a traer el archivo de steam_games para ver a que juegos corresponden estas ID."
   ]
  },
  {
   "cell_type": "code",
   "execution_count": 50,
   "metadata": {},
   "outputs": [
    {
     "name": "stderr",
     "output_type": "stream",
     "text": [
      "C:\\Users\\crisr\\AppData\\Local\\Temp\\ipykernel_12440\\2121756218.py:1: DtypeWarning: Columns (1,2,3,4,5,6,7,8,9,10,11,13) have mixed types. Specify dtype option on import or set low_memory=False.\n",
      "  juegos = pd.read_csv(\"steam_games_complete.csv\")\n"
     ]
    }
   ],
   "source": [
    "juegos = pd.read_csv(\"steam_games_complete.csv\")"
   ]
  },
  {
   "cell_type": "code",
   "execution_count": 53,
   "metadata": {},
   "outputs": [],
   "source": [
    "juegos[\"id\"] = juegos[\"id\"].fillna(0.0).astype(int)"
   ]
  },
  {
   "cell_type": "code",
   "execution_count": 42,
   "metadata": {},
   "outputs": [
    {
     "data": {
      "text/plain": [
       "Index(['730', '440', '4000', '570', '218620', '304930', '252490', '550',\n",
       "       '105600', '221100'],\n",
       "      dtype='object', name='item_id')"
      ]
     },
     "execution_count": 42,
     "metadata": {},
     "output_type": "execute_result"
    }
   ],
   "source": [
    "top_10_id_juegos = reseñas['item_id'].value_counts().head(10).index\n",
    "top_10_id_juegos"
   ]
  },
  {
   "cell_type": "code",
   "execution_count": 61,
   "metadata": {},
   "outputs": [
    {
     "name": "stdout",
     "output_type": "stream",
     "text": [
      " Top nº1: Counter-Strike: Global Offensive\n",
      " Top nº2: Team Fortress 2\n",
      " Top nº3: Garry's Mod\n",
      " Top nº4: Dota 2\n",
      " Top nº5: PAYDAY 2\n",
      " Top nº6: Unturned\n",
      " Top nº7: Rust\n",
      " Top nº8: Left 4 Dead 2\n",
      " Top nº9: Terraria\n",
      " Top nº10: DayZ\n"
     ]
    }
   ],
   "source": [
    "top = 1\n",
    "for id_juego in top_10_id_juegos:\n",
    "    print(f\" Top nº{top}: {juegos[juegos[\"id\"] == int(id_juego)][\"app_name\"].iloc[0]}\")\n",
    "    top += 1\n",
    "    "
   ]
  },
  {
   "cell_type": "markdown",
   "metadata": {},
   "source": [
    "Ese es el top 10 de juegos correspondiente a la última gráfica."
   ]
  },
  {
   "cell_type": "markdown",
   "metadata": {},
   "source": [
    "Veamos ahora una distribución de las reseñas por usuario."
   ]
  },
  {
   "cell_type": "code",
   "execution_count": 73,
   "metadata": {},
   "outputs": [
    {
     "data": {
      "image/png": "[encoded data removed]",
      "text/plain": [
       "<Figure size 640x480 with 1 Axes>"
      ]
     },
     "metadata": {},
     "output_type": "display_data"
    }
   ],
   "source": [
    "reseñas['user_id'].value_counts().plot(kind='hist', bins=15)\n",
    "plt.xlabel('Cantidad de reseñas')\n",
    "plt.ylabel('Cantidad de usuarios')\n",
    "plt.title('Distribución de reseñas por usuario')\n",
    "plt.show()"
   ]
  },
  {
   "cell_type": "markdown",
   "metadata": {},
   "source": [
    "Vemos que la mayoría de usuarios hizo menos de 3 reseñas."
   ]
  }
 ],
 "metadata": {
  "kernelspec": {
   "display_name": "Python 3",
   "language": "python",
   "name": "python3"
  },
  "language_info": {
   "codemirror_mode": {
    "name": "ipython",
    "version": 3
   },
   "file_extension": ".py",
   "mimetype": "text/x-python",
   "name": "python",
   "nbconvert_exporter": "python",
   "pygments_lexer": "ipython3",
   "version": "3.12.2"
  }
 },
 "nbformat": 4,
 "nbformat_minor": 2
}

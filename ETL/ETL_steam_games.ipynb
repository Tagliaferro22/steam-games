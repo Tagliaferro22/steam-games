{
 "cells": [
  {
   "cell_type": "markdown",
   "metadata": {},
   "source": [
    "Para realizar el proceso de ETL, dado que son 3 los archivos que me dieron, decidí hacer un .ipynb para cada uno de estos archivos. Este es el .ipynb dedicado al archivo steam_games"
   ]
  },
  {
   "cell_type": "code",
   "execution_count": 7,
   "metadata": {},
   "outputs": [],
   "source": [
    "# Este archivo resultó un poco más sencillo de leer que los anteriores, ya que lo pude descomprimir previamente para luego leerlo en formato json\n",
    "# Importación de las librerías necesarias para descomprimir el archivo original\n",
    "import pandas as pd\n",
    "import json\n",
    "import numpy as np\n",
    "\n",
    "\n",
    "# Función para reemplazar 'NaN' con np.nan\n",
    "def replace_nan(item):\n",
    "    if item == 'NaN':\n",
    "        return np.nan\n",
    "    return item\n",
    "\n",
    "# Leer archivo JSON línea por línea y convertir a DataFrame\n",
    "rutaArchivo = 'rawData/output_steam_games.json'\n",
    "\n",
    "# Lista que va a almacenar las filas del DataFrame final\n",
    "data = []\n",
    "\n",
    "# Método para abrir el archivo comprimido\n",
    "with open(rutaArchivo, 'r', encoding='utf-8') as file:\n",
    "    # Por cada línea en el archivo\n",
    "    for line in file:\n",
    "    \n",
    "        # Carga con el método json la línea y almacenalo en una variable temporal llamada json_data\n",
    "        json_data = json.loads(line)\n",
    "\n",
    "        # Reemplazar 'NaN' por np.nan\n",
    "        json_data = {k: replace_nan(v) for k, v in json_data.items()}\n",
    "        data.append(json_data)\n",
    "\n",
    "# Convertir lista de diccionarios a DataFrame\n",
    "Steam_games = pd.DataFrame(data)\n",
    "\n"
   ]
  },
  {
   "cell_type": "markdown",
   "metadata": {},
   "source": [
    "Muestro el dataset tal cuál cómo viene"
   ]
  },
  {
   "cell_type": "code",
   "execution_count": 9,
   "metadata": {},
   "outputs": [
    {
     "data": {
      "text/html": [
       "<div>\n",
       "<style scoped>\n",
       "    .dataframe tbody tr th:only-of-type {\n",
       "        vertical-align: middle;\n",
       "    }\n",
       "\n",
       "    .dataframe tbody tr th {\n",
       "        vertical-align: top;\n",
       "    }\n",
       "\n",
       "    .dataframe thead th {\n",
       "        text-align: right;\n",
       "    }\n",
       "</style>\n",
       "<table border=\"1\" class=\"dataframe\">\n",
       "  <thead>\n",
       "    <tr style=\"text-align: right;\">\n",
       "      <th></th>\n",
       "      <th>publisher</th>\n",
       "      <th>genres</th>\n",
       "      <th>app_name</th>\n",
       "      <th>title</th>\n",
       "      <th>url</th>\n",
       "      <th>release_date</th>\n",
       "      <th>tags</th>\n",
       "      <th>reviews_url</th>\n",
       "      <th>specs</th>\n",
       "      <th>price</th>\n",
       "      <th>early_access</th>\n",
       "      <th>id</th>\n",
       "      <th>developer</th>\n",
       "    </tr>\n",
       "  </thead>\n",
       "  <tbody>\n",
       "    <tr>\n",
       "      <th>0</th>\n",
       "      <td>NaN</td>\n",
       "      <td>NaN</td>\n",
       "      <td>NaN</td>\n",
       "      <td>NaN</td>\n",
       "      <td>NaN</td>\n",
       "      <td>NaN</td>\n",
       "      <td>NaN</td>\n",
       "      <td>NaN</td>\n",
       "      <td>NaN</td>\n",
       "      <td>NaN</td>\n",
       "      <td>NaN</td>\n",
       "      <td>NaN</td>\n",
       "      <td>NaN</td>\n",
       "    </tr>\n",
       "  </tbody>\n",
       "</table>\n",
       "</div>"
      ],
      "text/plain": [
       "  publisher genres app_name title  url release_date tags reviews_url specs  \\\n",
       "0       NaN    NaN      NaN   NaN  NaN          NaN  NaN         NaN   NaN   \n",
       "\n",
       "  price early_access   id developer  \n",
       "0   NaN          NaN  NaN       NaN  "
      ]
     },
     "execution_count": 9,
     "metadata": {},
     "output_type": "execute_result"
    }
   ],
   "source": [
    "Steam_games.head(1)"
   ]
  },
  {
   "cell_type": "markdown",
   "metadata": {},
   "source": [
    "Cómo no tiene datos anidados, decido subirlo tal cuál está a la carpeta EDA para posteriormente hacerle un análisis"
   ]
  },
  {
   "cell_type": "code",
   "execution_count": 12,
   "metadata": {},
   "outputs": [],
   "source": [
    "Steam_games.to_csv(\"../EDA/steam_games_complete.csv\") # Lo subo en formato .csv porque en .parquet me dió errores, los cuáles analizaré con más detalle en el EDA"
   ]
  }
 ],
 "metadata": {
  "kernelspec": {
   "display_name": "Python 3",
   "language": "python",
   "name": "python3"
  },
  "language_info": {
   "codemirror_mode": {
    "name": "ipython",
    "version": 3
   },
   "file_extension": ".py",
   "mimetype": "text/x-python",
   "name": "python",
   "nbconvert_exporter": "python",
   "pygments_lexer": "ipython3",
   "version": "3.12.2"
  }
 },
 "nbformat": 4,
 "nbformat_minor": 2
}

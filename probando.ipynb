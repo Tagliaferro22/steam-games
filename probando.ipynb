{
 "cells": [
  {
   "cell_type": "code",
   "execution_count": 1,
   "metadata": {},
   "outputs": [],
   "source": [
    "from fastapi import FastAPI, HTTPException\n",
    "import pandas as pd\n",
    "from fastapi.responses import JSONResponse\n",
    "from fastapi.encoders import jsonable_encoder\n",
    "\n",
    "app = FastAPI()\n",
    "\n",
    "# Cargar el dataframe\n",
    "try:\n",
    "    Steam_games_important = pd.read_parquet(\"C:/Users/crisr/OneDrive/Escritorio/Mateo/Programacion/SoyHenry/Proyecto_Individual_uno/carpeta_raiz/Datasets/Steam_games_endpoint_1.parquet\")\n",
    "except Exception as e:\n",
    "    print(f\"Error al cargar el archivo parquet: {e}\")\n",
    "\n",
    "@app.get(\"/\")\n",
    "def index():\n",
    "    return {\"Hello\": \"World\"}\n",
    "\n",
    "@app.get(\"/developer/{desarrollador}\")\n",
    "def developer(desarrollador: str):\n",
    "    try: \n",
    "        salida = {}\n",
    "\n",
    "        if desarrollador not in Steam_games_important[\"developer\"].unique():\n",
    "            raise HTTPException(status_code=404, detail=\"Developer not found\")\n",
    "        \n",
    "        for i, año in enumerate(Steam_games_important[Steam_games_important[\"developer\"] == desarrollador][\"release_year\"].unique()):\n",
    "\n",
    "            cant_items_anual = Steam_games_important[(Steam_games_important[\"release_year\"] == año) & (Steam_games_important[\"developer\"] == desarrollador)][\"developer\"].count()\n",
    "\n",
    "            cant_items_gratuitos_anual = Steam_games_important[(Steam_games_important[\"release_year\"] == año) & (Steam_games_important[\"developer\"] == desarrollador) & (Steam_games_important[\"price\"] == 0)][\"developer\"].count()\n",
    "            \n",
    "            pre_salida = {\n",
    "                \"Año\": año, \n",
    "                \"Cantidad items\": cant_items_anual, \n",
    "                \"Contenido gratuito (%)\": f\"{(cant_items_gratuitos_anual / cant_items_anual) * 100}%\"\n",
    "            }\n",
    "            \n",
    "            salida[i] = pre_salida\n",
    "\n",
    "\n",
    "        return salida\n",
    "    except Exception as e:\n",
    "        raise HTTPException(status_code=500, detail=f\"Internal Server Error: {e}\")\n",
    "\n",
    "\n"
   ]
  },
  {
   "cell_type": "code",
   "execution_count": 2,
   "metadata": {},
   "outputs": [
    {
     "data": {
      "text/plain": [
       "{0: {'Año': 2015, 'Cantidad items': 1, 'Contenido gratuito (%)': '0.0%'},\n",
       " 1: {'Año': 2016, 'Cantidad items': 5, 'Contenido gratuito (%)': '20.0%'},\n",
       " 2: {'Año': 2017, 'Cantidad items': 5, 'Contenido gratuito (%)': '40.0%'}}"
      ]
     },
     "execution_count": 2,
     "metadata": {},
     "output_type": "execute_result"
    }
   ],
   "source": [
    "developer(\"ebi-hime\")"
   ]
  },
  {
   "cell_type": "code",
   "execution_count": 13,
   "metadata": {},
   "outputs": [],
   "source": [
    "def developer(desarrollador: str):\n",
    "\n",
    "        salida = {}\n",
    "\n",
    "        if desarrollador not in Steam_games_important[\"developer\"].unique():\n",
    "            raise HTTPException(status_code=404, detail=\"Developer not found\")\n",
    "        \n",
    "        for año in Steam_games_important[Steam_games_important[\"developer\"] == desarrollador][\"release_year\"].unique():\n",
    "\n",
    "            cant_items_anual = Steam_games_important[(Steam_games_important[\"release_year\"] == año) & (Steam_games_important[\"developer\"] == desarrollador)][\"developer\"].count()\n",
    "\n",
    "            cant_items_gratuitos_anual = Steam_games_important[(Steam_games_important[\"release_year\"] == año) & (Steam_games_important[\"developer\"] == desarrollador) & (Steam_games_important[\"price\"] == 0)][\"developer\"].count()\n",
    "            \n",
    "            pre_salida = {\n",
    "                \"Cantidad items\": cant_items_anual, \n",
    "                \"Contenido gratuito (%)\": f\"{(cant_items_gratuitos_anual / cant_items_anual) * 100}%\"\n",
    "            }\n",
    "            \n",
    "            salida[año] = pre_salida\n",
    "\n",
    "\n",
    "        return salida"
   ]
  },
  {
   "cell_type": "code",
   "execution_count": 14,
   "metadata": {},
   "outputs": [
    {
     "data": {
      "text/plain": [
       "{2015: {'Cantidad items': 1, 'Contenido gratuito (%)': '0.0%'},\n",
       " 2016: {'Cantidad items': 5, 'Contenido gratuito (%)': '20.0%'},\n",
       " 2017: {'Cantidad items': 5, 'Contenido gratuito (%)': '40.0%'}}"
      ]
     },
     "execution_count": 14,
     "metadata": {},
     "output_type": "execute_result"
    }
   ],
   "source": [
    "developer(\"ebi-hime\")"
   ]
  },
  {
   "cell_type": "code",
   "execution_count": 7,
   "metadata": {},
   "outputs": [
    {
     "data": {
      "text/plain": [
       "array([2018, 2017, 1997, 1998, 2016, 2006, 2005, 2003, 2007, 2002, 2000,\n",
       "       1995, 1996, 1994, 2001, 1993, 2004, 2008, 2009, 1999, 1992, 1989,\n",
       "       2010, 2011, 2013, 2012, 2014, 1983, 1984, 2015, 1990, 1988, 1991,\n",
       "       1987, 1986, 2021, 2019, 1985])"
      ]
     },
     "execution_count": 7,
     "metadata": {},
     "output_type": "execute_result"
    }
   ],
   "source": [
    "Steam_games_important[\"release_year\"].unique()"
   ]
  },
  {
   "cell_type": "code",
   "execution_count": 8,
   "metadata": {},
   "outputs": [
    {
     "data": {
      "text/plain": [
       "array([2015, 2016, 2017])"
      ]
     },
     "execution_count": 8,
     "metadata": {},
     "output_type": "execute_result"
    }
   ],
   "source": [
    "Steam_games_important[Steam_games_important[\"developer\"] ==\"ebi-hime\"][\"release_year\"].unique()"
   ]
  },
  {
   "cell_type": "code",
   "execution_count": 10,
   "metadata": {},
   "outputs": [
    {
     "data": {
      "text/plain": [
       "<enumerate at 0x22de2623650>"
      ]
     },
     "execution_count": 10,
     "metadata": {},
     "output_type": "execute_result"
    }
   ],
   "source": [
    "enumerate(Steam_games_important[Steam_games_important[\"developer\"] == \"ebi-hime\"][\"release_year\"].unique())"
   ]
  },
  {
   "cell_type": "code",
   "execution_count": 3,
   "metadata": {},
   "outputs": [],
   "source": [
    "@app.get(\"/developer/{desarrollador}\",response_model=dict)\n",
    "async def developer_use(desarrollador_local : str):\n",
    "    try:\n",
    "        Steam_games_important = pd.read_parquet(\"C:/Users/crisr/OneDrive/Escritorio/Mateo/Programacion/SoyHenry/Proyecto_Individual_uno/carpeta_raiz/Datasets/Steam_games_endpoint_1.parquet\")\n",
    "        \n",
    "        resultado = developer(desarrollador_local)\n",
    "\n",
    "        return JSONResponse(content=jsonable_encoder(resultado), media_type=\"application/json\")\n",
    "    except FileNotFoundError:\n",
    "        raise HTTPException(status_code=404, detail=\"Archivo Parquet no encontrado, revisa si la ruta del archivo es correcta ;)\")\n",
    "    except Exception as e:\n",
    "        raise HTTPException(status_code=500, detail=f\"Error al leer el archivo Parquet: {str(e)}\")             "
   ]
  }
 ],
 "metadata": {
  "kernelspec": {
   "display_name": "entorno",
   "language": "python",
   "name": "python3"
  },
  "language_info": {
   "codemirror_mode": {
    "name": "ipython",
    "version": 3
   },
   "file_extension": ".py",
   "mimetype": "text/x-python",
   "name": "python",
   "nbconvert_exporter": "python",
   "pygments_lexer": "ipython3",
   "version": "3.12.2"
  }
 },
 "nbformat": 4,
 "nbformat_minor": 2
}

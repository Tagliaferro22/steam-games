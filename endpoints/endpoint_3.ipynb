{
 "cells": [
  {
   "cell_type": "markdown",
   "metadata": {},
   "source": [
    "En este archivo, voy a desarrollar la función que se me pide en el tercer endpoint, que es la que se muestra a continuación:\n",
    "\n",
    "![alt text](../img/endpoint_3.png \"Title\")"
   ]
  },
  {
   "cell_type": "markdown",
   "metadata": {},
   "source": [
    "Importación de las librerías necesarias para trabajar"
   ]
  },
  {
   "cell_type": "code",
   "execution_count": 1,
   "metadata": {},
   "outputs": [],
   "source": [
    "import pandas as pd"
   ]
  },
  {
   "cell_type": "markdown",
   "metadata": {},
   "source": [
    "Lectura de los conjuntos de datos necesarios necesarios y breve vistazo de la cabecera de los mismos"
   ]
  },
  {
   "cell_type": "code",
   "execution_count": 2,
   "metadata": {},
   "outputs": [
    {
     "data": {
      "text/html": [
       "<div>\n",
       "<style scoped>\n",
       "    .dataframe tbody tr th:only-of-type {\n",
       "        vertical-align: middle;\n",
       "    }\n",
       "\n",
       "    .dataframe tbody tr th {\n",
       "        vertical-align: top;\n",
       "    }\n",
       "\n",
       "    .dataframe thead th {\n",
       "        text-align: right;\n",
       "    }\n",
       "</style>\n",
       "<table border=\"1\" class=\"dataframe\">\n",
       "  <thead>\n",
       "    <tr style=\"text-align: right;\">\n",
       "      <th></th>\n",
       "      <th>item_id</th>\n",
       "      <th>item_name</th>\n",
       "      <th>playtime_forever</th>\n",
       "      <th>playtime_2weeks</th>\n",
       "      <th>user_id</th>\n",
       "    </tr>\n",
       "  </thead>\n",
       "  <tbody>\n",
       "    <tr>\n",
       "      <th>0</th>\n",
       "      <td>10</td>\n",
       "      <td>Counter-Strike</td>\n",
       "      <td>6</td>\n",
       "      <td>0</td>\n",
       "      <td>76561197970982479</td>\n",
       "    </tr>\n",
       "    <tr>\n",
       "      <th>1</th>\n",
       "      <td>20</td>\n",
       "      <td>Team Fortress Classic</td>\n",
       "      <td>0</td>\n",
       "      <td>0</td>\n",
       "      <td>76561197970982479</td>\n",
       "    </tr>\n",
       "    <tr>\n",
       "      <th>2</th>\n",
       "      <td>30</td>\n",
       "      <td>Day of Defeat</td>\n",
       "      <td>7</td>\n",
       "      <td>0</td>\n",
       "      <td>76561197970982479</td>\n",
       "    </tr>\n",
       "    <tr>\n",
       "      <th>3</th>\n",
       "      <td>40</td>\n",
       "      <td>Deathmatch Classic</td>\n",
       "      <td>0</td>\n",
       "      <td>0</td>\n",
       "      <td>76561197970982479</td>\n",
       "    </tr>\n",
       "    <tr>\n",
       "      <th>4</th>\n",
       "      <td>50</td>\n",
       "      <td>Half-Life: Opposing Force</td>\n",
       "      <td>0</td>\n",
       "      <td>0</td>\n",
       "      <td>76561197970982479</td>\n",
       "    </tr>\n",
       "  </tbody>\n",
       "</table>\n",
       "</div>"
      ],
      "text/plain": [
       "  item_id                  item_name  playtime_forever  playtime_2weeks  \\\n",
       "0      10             Counter-Strike                 6                0   \n",
       "1      20      Team Fortress Classic                 0                0   \n",
       "2      30              Day of Defeat                 7                0   \n",
       "3      40         Deathmatch Classic                 0                0   \n",
       "4      50  Half-Life: Opposing Force                 0                0   \n",
       "\n",
       "             user_id  \n",
       "0  76561197970982479  \n",
       "1  76561197970982479  \n",
       "2  76561197970982479  \n",
       "3  76561197970982479  \n",
       "4  76561197970982479  "
      ]
     },
     "execution_count": 2,
     "metadata": {},
     "output_type": "execute_result"
    }
   ],
   "source": [
    "user_items = pd.read_parquet(\"../EDA/user_items_complete.parquet\")\n",
    "user_items.head()"
   ]
  },
  {
   "cell_type": "code",
   "execution_count": 3,
   "metadata": {},
   "outputs": [
    {
     "data": {
      "text/html": [
       "<div>\n",
       "<style scoped>\n",
       "    .dataframe tbody tr th:only-of-type {\n",
       "        vertical-align: middle;\n",
       "    }\n",
       "\n",
       "    .dataframe tbody tr th {\n",
       "        vertical-align: top;\n",
       "    }\n",
       "\n",
       "    .dataframe thead th {\n",
       "        text-align: right;\n",
       "    }\n",
       "</style>\n",
       "<table border=\"1\" class=\"dataframe\">\n",
       "  <thead>\n",
       "    <tr style=\"text-align: right;\">\n",
       "      <th></th>\n",
       "      <th>item_id</th>\n",
       "      <th>item_name</th>\n",
       "      <th>developer</th>\n",
       "      <th>genres</th>\n",
       "      <th>tags</th>\n",
       "      <th>specs</th>\n",
       "      <th>release_date</th>\n",
       "      <th>price</th>\n",
       "    </tr>\n",
       "  </thead>\n",
       "  <tbody>\n",
       "    <tr>\n",
       "      <th>88310</th>\n",
       "      <td>761140</td>\n",
       "      <td>Lost Summoner Kitty</td>\n",
       "      <td>Kotoshiro</td>\n",
       "      <td>[Action, Casual, Indie, Simulation, Strategy]</td>\n",
       "      <td>[Strategy, Action, Indie, Casual, Simulation]</td>\n",
       "      <td>[Single-player]</td>\n",
       "      <td>2018-01-04</td>\n",
       "      <td>4.99</td>\n",
       "    </tr>\n",
       "    <tr>\n",
       "      <th>88311</th>\n",
       "      <td>643980</td>\n",
       "      <td>Ironbound</td>\n",
       "      <td>Secret Level SRL</td>\n",
       "      <td>[Free to Play, Indie, RPG, Strategy]</td>\n",
       "      <td>[Free to Play, Strategy, Indie, RPG, Card Game...</td>\n",
       "      <td>[Single-player, Multi-player, Online Multi-Pla...</td>\n",
       "      <td>2018-01-04</td>\n",
       "      <td>0.00</td>\n",
       "    </tr>\n",
       "    <tr>\n",
       "      <th>88312</th>\n",
       "      <td>670290</td>\n",
       "      <td>Real Pool 3D - Poolians</td>\n",
       "      <td>Poolians.com</td>\n",
       "      <td>[Casual, Free to Play, Indie, Simulation, Sports]</td>\n",
       "      <td>[Free to Play, Simulation, Sports, Casual, Ind...</td>\n",
       "      <td>[Single-player, Multi-player, Online Multi-Pla...</td>\n",
       "      <td>2017-07-24</td>\n",
       "      <td>0.00</td>\n",
       "    </tr>\n",
       "    <tr>\n",
       "      <th>88313</th>\n",
       "      <td>767400</td>\n",
       "      <td>弹炸人2222</td>\n",
       "      <td>彼岸领域</td>\n",
       "      <td>[Action, Adventure, Casual]</td>\n",
       "      <td>[Action, Adventure, Casual]</td>\n",
       "      <td>[Single-player]</td>\n",
       "      <td>2017-12-07</td>\n",
       "      <td>0.99</td>\n",
       "    </tr>\n",
       "    <tr>\n",
       "      <th>88315</th>\n",
       "      <td>772540</td>\n",
       "      <td>Battle Royale Trainer</td>\n",
       "      <td>Trickjump Games Ltd</td>\n",
       "      <td>[Action, Adventure, Simulation]</td>\n",
       "      <td>[Action, Adventure, Simulation, FPS, Shooter, ...</td>\n",
       "      <td>[Single-player, Steam Achievements]</td>\n",
       "      <td>2018-01-04</td>\n",
       "      <td>3.99</td>\n",
       "    </tr>\n",
       "  </tbody>\n",
       "</table>\n",
       "</div>"
      ],
      "text/plain": [
       "      item_id                item_name            developer  \\\n",
       "88310  761140      Lost Summoner Kitty            Kotoshiro   \n",
       "88311  643980                Ironbound     Secret Level SRL   \n",
       "88312  670290  Real Pool 3D - Poolians         Poolians.com   \n",
       "88313  767400                  弹炸人2222                 彼岸领域   \n",
       "88315  772540    Battle Royale Trainer  Trickjump Games Ltd   \n",
       "\n",
       "                                                  genres  \\\n",
       "88310      [Action, Casual, Indie, Simulation, Strategy]   \n",
       "88311               [Free to Play, Indie, RPG, Strategy]   \n",
       "88312  [Casual, Free to Play, Indie, Simulation, Sports]   \n",
       "88313                        [Action, Adventure, Casual]   \n",
       "88315                    [Action, Adventure, Simulation]   \n",
       "\n",
       "                                                    tags  \\\n",
       "88310      [Strategy, Action, Indie, Casual, Simulation]   \n",
       "88311  [Free to Play, Strategy, Indie, RPG, Card Game...   \n",
       "88312  [Free to Play, Simulation, Sports, Casual, Ind...   \n",
       "88313                        [Action, Adventure, Casual]   \n",
       "88315  [Action, Adventure, Simulation, FPS, Shooter, ...   \n",
       "\n",
       "                                                   specs release_date  price  \n",
       "88310                                    [Single-player]   2018-01-04   4.99  \n",
       "88311  [Single-player, Multi-player, Online Multi-Pla...   2018-01-04   0.00  \n",
       "88312  [Single-player, Multi-player, Online Multi-Pla...   2017-07-24   0.00  \n",
       "88313                                    [Single-player]   2017-12-07   0.99  \n",
       "88315                [Single-player, Steam Achievements]   2018-01-04   3.99  "
      ]
     },
     "execution_count": 3,
     "metadata": {},
     "output_type": "execute_result"
    }
   ],
   "source": [
    "steam_games = pd.read_parquet(\"../Datasets/steam_games_complete.parquet\")\n",
    "steam_games.head()"
   ]
  },
  {
   "cell_type": "markdown",
   "metadata": {},
   "source": [
    "Con estos Dataframe, analizo lo que me piden:\n",
    "- A partir del id de un usuario, devuelve la cantidad de dinero gastado por el usuario, el porcentaje de recomendación, y la cantidad de items que tiene el usuario. Emtonces lo que necesito es:\n",
    "    - id de un usuario\n",
    "    - cantidad de dinero gastado por el usuario\n",
    "    - porcentaje de recomendación\n",
    "    - cantidad de items que tiene el usuario"
   ]
  },
  {
   "cell_type": "markdown",
   "metadata": {},
   "source": [
    "Veamos las columnas que tenemos disponibles en todos nuestros conjuntos de datos."
   ]
  },
  {
   "cell_type": "code",
   "execution_count": 5,
   "metadata": {},
   "outputs": [
    {
     "name": "stdout",
     "output_type": "stream",
     "text": [
      "Index(['funny', 'posted', 'last_edited', 'item_id', 'helpful', 'recommend',\n",
      "       'review', 'user_id'],\n",
      "      dtype='object')\n",
      "\n",
      "Index(['item_id', 'item_name', 'playtime_forever', 'playtime_2weeks',\n",
      "       'user_id'],\n",
      "      dtype='object')\n",
      "\n",
      "Index(['id', 'app_name', 'developer', 'price', 'release_year', 'categorical'], dtype='object')\n",
      "\n"
     ]
    }
   ],
   "source": [
    "print(user_reviews.columns)\n",
    "print()\n",
    "print(user_items.columns)\n",
    "print()\n",
    "print(steam_games.columns)\n",
    "print()"
   ]
  },
  {
   "cell_type": "markdown",
   "metadata": {},
   "source": [
    "De acuerdo a estos resultados...\n",
    "Las columnas que voy a usar para este trabajo son:\n",
    "- user_reviews: user_id, recommend\n",
    "- user_items: user_id, item_id\n",
    "- steam_games: id = item_id, price.\n",
    "\n",
    "El resto de columnas no me sirve, así que las descarto"
   ]
  },
  {
   "cell_type": "code",
   "execution_count": 6,
   "metadata": {},
   "outputs": [
    {
     "name": "stdout",
     "output_type": "stream",
     "text": [
      "Index(['recommend', 'user_id'], dtype='object')\n",
      "Index(['item_id', 'user_id'], dtype='object')\n",
      "Index(['id', 'price'], dtype='object')\n"
     ]
    }
   ],
   "source": [
    "for column in user_reviews.columns: # Por cada columna en el dataframe user_reviews\n",
    "    if column not in ['user_id', 'recommend']: # Si la columna no es la que me sirve\n",
    "        user_reviews.drop(column, axis=1, inplace=True) # La elimino\n",
    "print(user_reviews.columns) # Muestro las columnas que me quedaron cómo forma de comprobar los resultados\n",
    "\n",
    "# Repito lo mismo con los otros dos dataframe\n",
    "\n",
    "for column in user_items.columns:\n",
    "    if column not in ['user_id', 'item_id']:\n",
    "        user_items.drop(column, axis=1, inplace=True)\n",
    "print(user_items.columns)\n",
    "\n",
    "for column in steam_games.columns:\n",
    "    if column not in ['price', 'id']:\n",
    "        steam_games.drop(column, axis=1, inplace=True)\n",
    "print(steam_games.columns)\n"
   ]
  },
  {
   "cell_type": "markdown",
   "metadata": {},
   "source": [
    "Hechemos un vistazo a cómo quedaron los dataframe"
   ]
  },
  {
   "cell_type": "code",
   "execution_count": 55,
   "metadata": {},
   "outputs": [
    {
     "data": {
      "text/html": [
       "<div>\n",
       "<style scoped>\n",
       "    .dataframe tbody tr th:only-of-type {\n",
       "        vertical-align: middle;\n",
       "    }\n",
       "\n",
       "    .dataframe tbody tr th {\n",
       "        vertical-align: top;\n",
       "    }\n",
       "\n",
       "    .dataframe thead th {\n",
       "        text-align: right;\n",
       "    }\n",
       "</style>\n",
       "<table border=\"1\" class=\"dataframe\">\n",
       "  <thead>\n",
       "    <tr style=\"text-align: right;\">\n",
       "      <th></th>\n",
       "      <th>recommend</th>\n",
       "      <th>user_id</th>\n",
       "    </tr>\n",
       "  </thead>\n",
       "  <tbody>\n",
       "    <tr>\n",
       "      <th>0</th>\n",
       "      <td>True</td>\n",
       "      <td>76561197970982479</td>\n",
       "    </tr>\n",
       "    <tr>\n",
       "      <th>1</th>\n",
       "      <td>True</td>\n",
       "      <td>76561197970982479</td>\n",
       "    </tr>\n",
       "    <tr>\n",
       "      <th>2</th>\n",
       "      <td>True</td>\n",
       "      <td>76561197970982479</td>\n",
       "    </tr>\n",
       "    <tr>\n",
       "      <th>3</th>\n",
       "      <td>True</td>\n",
       "      <td>js41637</td>\n",
       "    </tr>\n",
       "    <tr>\n",
       "      <th>4</th>\n",
       "      <td>True</td>\n",
       "      <td>js41637</td>\n",
       "    </tr>\n",
       "    <tr>\n",
       "      <th>...</th>\n",
       "      <td>...</td>\n",
       "      <td>...</td>\n",
       "    </tr>\n",
       "    <tr>\n",
       "      <th>59300</th>\n",
       "      <td>True</td>\n",
       "      <td>76561198312638244</td>\n",
       "    </tr>\n",
       "    <tr>\n",
       "      <th>59301</th>\n",
       "      <td>True</td>\n",
       "      <td>76561198312638244</td>\n",
       "    </tr>\n",
       "    <tr>\n",
       "      <th>59302</th>\n",
       "      <td>True</td>\n",
       "      <td>LydiaMorley</td>\n",
       "    </tr>\n",
       "    <tr>\n",
       "      <th>59303</th>\n",
       "      <td>True</td>\n",
       "      <td>LydiaMorley</td>\n",
       "    </tr>\n",
       "    <tr>\n",
       "      <th>59304</th>\n",
       "      <td>True</td>\n",
       "      <td>LydiaMorley</td>\n",
       "    </tr>\n",
       "  </tbody>\n",
       "</table>\n",
       "<p>59305 rows × 2 columns</p>\n",
       "</div>"
      ],
      "text/plain": [
       "       recommend            user_id\n",
       "0           True  76561197970982479\n",
       "1           True  76561197970982479\n",
       "2           True  76561197970982479\n",
       "3           True            js41637\n",
       "4           True            js41637\n",
       "...          ...                ...\n",
       "59300       True  76561198312638244\n",
       "59301       True  76561198312638244\n",
       "59302       True        LydiaMorley\n",
       "59303       True        LydiaMorley\n",
       "59304       True        LydiaMorley\n",
       "\n",
       "[59305 rows x 2 columns]"
      ]
     },
     "execution_count": 55,
     "metadata": {},
     "output_type": "execute_result"
    }
   ],
   "source": [
    "user_reviews"
   ]
  },
  {
   "cell_type": "code",
   "execution_count": 8,
   "metadata": {},
   "outputs": [
    {
     "data": {
      "text/html": [
       "<div>\n",
       "<style scoped>\n",
       "    .dataframe tbody tr th:only-of-type {\n",
       "        vertical-align: middle;\n",
       "    }\n",
       "\n",
       "    .dataframe tbody tr th {\n",
       "        vertical-align: top;\n",
       "    }\n",
       "\n",
       "    .dataframe thead th {\n",
       "        text-align: right;\n",
       "    }\n",
       "</style>\n",
       "<table border=\"1\" class=\"dataframe\">\n",
       "  <thead>\n",
       "    <tr style=\"text-align: right;\">\n",
       "      <th></th>\n",
       "      <th>item_id</th>\n",
       "      <th>user_id</th>\n",
       "    </tr>\n",
       "  </thead>\n",
       "  <tbody>\n",
       "    <tr>\n",
       "      <th>0</th>\n",
       "      <td>10</td>\n",
       "      <td>76561197970982479</td>\n",
       "    </tr>\n",
       "    <tr>\n",
       "      <th>1</th>\n",
       "      <td>20</td>\n",
       "      <td>76561197970982479</td>\n",
       "    </tr>\n",
       "    <tr>\n",
       "      <th>2</th>\n",
       "      <td>30</td>\n",
       "      <td>76561197970982479</td>\n",
       "    </tr>\n",
       "    <tr>\n",
       "      <th>3</th>\n",
       "      <td>40</td>\n",
       "      <td>76561197970982479</td>\n",
       "    </tr>\n",
       "    <tr>\n",
       "      <th>4</th>\n",
       "      <td>50</td>\n",
       "      <td>76561197970982479</td>\n",
       "    </tr>\n",
       "    <tr>\n",
       "      <th>...</th>\n",
       "      <td>...</td>\n",
       "      <td>...</td>\n",
       "    </tr>\n",
       "    <tr>\n",
       "      <th>5153204</th>\n",
       "      <td>346330</td>\n",
       "      <td>76561198329548331</td>\n",
       "    </tr>\n",
       "    <tr>\n",
       "      <th>5153205</th>\n",
       "      <td>373330</td>\n",
       "      <td>76561198329548331</td>\n",
       "    </tr>\n",
       "    <tr>\n",
       "      <th>5153206</th>\n",
       "      <td>388490</td>\n",
       "      <td>76561198329548331</td>\n",
       "    </tr>\n",
       "    <tr>\n",
       "      <th>5153207</th>\n",
       "      <td>521570</td>\n",
       "      <td>76561198329548331</td>\n",
       "    </tr>\n",
       "    <tr>\n",
       "      <th>5153208</th>\n",
       "      <td>519140</td>\n",
       "      <td>76561198329548331</td>\n",
       "    </tr>\n",
       "  </tbody>\n",
       "</table>\n",
       "<p>5153209 rows × 2 columns</p>\n",
       "</div>"
      ],
      "text/plain": [
       "        item_id            user_id\n",
       "0            10  76561197970982479\n",
       "1            20  76561197970982479\n",
       "2            30  76561197970982479\n",
       "3            40  76561197970982479\n",
       "4            50  76561197970982479\n",
       "...         ...                ...\n",
       "5153204  346330  76561198329548331\n",
       "5153205  373330  76561198329548331\n",
       "5153206  388490  76561198329548331\n",
       "5153207  521570  76561198329548331\n",
       "5153208  519140  76561198329548331\n",
       "\n",
       "[5153209 rows x 2 columns]"
      ]
     },
     "execution_count": 8,
     "metadata": {},
     "output_type": "execute_result"
    }
   ],
   "source": [
    "user_items"
   ]
  },
  {
   "cell_type": "code",
   "execution_count": 9,
   "metadata": {},
   "outputs": [
    {
     "data": {
      "text/html": [
       "<div>\n",
       "<style scoped>\n",
       "    .dataframe tbody tr th:only-of-type {\n",
       "        vertical-align: middle;\n",
       "    }\n",
       "\n",
       "    .dataframe tbody tr th {\n",
       "        vertical-align: top;\n",
       "    }\n",
       "\n",
       "    .dataframe thead th {\n",
       "        text-align: right;\n",
       "    }\n",
       "</style>\n",
       "<table border=\"1\" class=\"dataframe\">\n",
       "  <thead>\n",
       "    <tr style=\"text-align: right;\">\n",
       "      <th></th>\n",
       "      <th>id</th>\n",
       "      <th>price</th>\n",
       "    </tr>\n",
       "  </thead>\n",
       "  <tbody>\n",
       "    <tr>\n",
       "      <th>88310</th>\n",
       "      <td>761140</td>\n",
       "      <td>4.99</td>\n",
       "    </tr>\n",
       "    <tr>\n",
       "      <th>88311</th>\n",
       "      <td>643980</td>\n",
       "      <td>0.00</td>\n",
       "    </tr>\n",
       "    <tr>\n",
       "      <th>88312</th>\n",
       "      <td>670290</td>\n",
       "      <td>0.00</td>\n",
       "    </tr>\n",
       "    <tr>\n",
       "      <th>88313</th>\n",
       "      <td>767400</td>\n",
       "      <td>0.99</td>\n",
       "    </tr>\n",
       "    <tr>\n",
       "      <th>88315</th>\n",
       "      <td>772540</td>\n",
       "      <td>3.99</td>\n",
       "    </tr>\n",
       "    <tr>\n",
       "      <th>...</th>\n",
       "      <td>...</td>\n",
       "      <td>...</td>\n",
       "    </tr>\n",
       "    <tr>\n",
       "      <th>120439</th>\n",
       "      <td>745400</td>\n",
       "      <td>1.99</td>\n",
       "    </tr>\n",
       "    <tr>\n",
       "      <th>120440</th>\n",
       "      <td>773640</td>\n",
       "      <td>1.99</td>\n",
       "    </tr>\n",
       "    <tr>\n",
       "      <th>120441</th>\n",
       "      <td>733530</td>\n",
       "      <td>4.99</td>\n",
       "    </tr>\n",
       "    <tr>\n",
       "      <th>120442</th>\n",
       "      <td>610660</td>\n",
       "      <td>1.99</td>\n",
       "    </tr>\n",
       "    <tr>\n",
       "      <th>120443</th>\n",
       "      <td>658870</td>\n",
       "      <td>4.99</td>\n",
       "    </tr>\n",
       "  </tbody>\n",
       "</table>\n",
       "<p>27167 rows × 2 columns</p>\n",
       "</div>"
      ],
      "text/plain": [
       "            id  price\n",
       "88310   761140   4.99\n",
       "88311   643980   0.00\n",
       "88312   670290   0.00\n",
       "88313   767400   0.99\n",
       "88315   772540   3.99\n",
       "...        ...    ...\n",
       "120439  745400   1.99\n",
       "120440  773640   1.99\n",
       "120441  733530   4.99\n",
       "120442  610660   1.99\n",
       "120443  658870   4.99\n",
       "\n",
       "[27167 rows x 2 columns]"
      ]
     },
     "execution_count": 9,
     "metadata": {},
     "output_type": "execute_result"
    }
   ],
   "source": [
    "steam_games"
   ]
  },
  {
   "cell_type": "markdown",
   "metadata": {},
   "source": [
    "Primero que nada, hago un chequeo de nulos en ambos 3 dataframes"
   ]
  },
  {
   "cell_type": "code",
   "execution_count": 10,
   "metadata": {},
   "outputs": [
    {
     "data": {
      "text/plain": [
       "item_id    0\n",
       "user_id    0\n",
       "dtype: int64"
      ]
     },
     "execution_count": 10,
     "metadata": {},
     "output_type": "execute_result"
    }
   ],
   "source": [
    "user_items.isnull().sum() # Ninguno, perfecto"
   ]
  },
  {
   "cell_type": "code",
   "execution_count": 11,
   "metadata": {},
   "outputs": [
    {
     "data": {
      "text/plain": [
       "recommend    0\n",
       "user_id      0\n",
       "dtype: int64"
      ]
     },
     "execution_count": 11,
     "metadata": {},
     "output_type": "execute_result"
    }
   ],
   "source": [
    "user_reviews.isnull().sum() # Ninguno, perfecto"
   ]
  },
  {
   "cell_type": "code",
   "execution_count": 12,
   "metadata": {},
   "outputs": [
    {
     "data": {
      "text/plain": [
       "id       0\n",
       "price    0\n",
       "dtype: int64"
      ]
     },
     "execution_count": 12,
     "metadata": {},
     "output_type": "execute_result"
    }
   ],
   "source": [
    "steam_games.isnull().sum() # Perfecto"
   ]
  },
  {
   "cell_type": "markdown",
   "metadata": {},
   "source": [
    "Ahora que ya tengo los dataframe con las columnas que necesito, lo que me resulta más fácil de determinar es cuantos juegos tiene cada usuario. Para ello, utilizo el dataframe user_items"
   ]
  },
  {
   "cell_type": "code",
   "execution_count": 13,
   "metadata": {},
   "outputs": [
    {
     "data": {
      "text/plain": [
       "277"
      ]
     },
     "execution_count": 13,
     "metadata": {},
     "output_type": "execute_result"
    }
   ],
   "source": [
    "user_items[user_items[\"user_id\"] == \"76561197970982479\"][\"user_id\"].count()"
   ]
  },
  {
   "cell_type": "markdown",
   "metadata": {},
   "source": [
    "Primer prototipo del endpoint"
   ]
  },
  {
   "cell_type": "code",
   "execution_count": 14,
   "metadata": {},
   "outputs": [],
   "source": [
    "def user_data(user_id):\n",
    "    cantidad_items = user_items[user_items[\"user_id\"] == str(user_id)][\"user_id\"].count()\n",
    "    return cantidad_items"
   ]
  },
  {
   "cell_type": "code",
   "execution_count": 15,
   "metadata": {},
   "outputs": [
    {
     "data": {
      "text/plain": [
       "277"
      ]
     },
     "execution_count": 15,
     "metadata": {},
     "output_type": "execute_result"
    }
   ],
   "source": [
    "user_data(76561197970982479) # La salida es la esperada"
   ]
  },
  {
   "cell_type": "markdown",
   "metadata": {},
   "source": [
    "En base a esta cantidad de juegos que tiene el usuario, puedo determinar el porcentaje de recomendación del mismo."
   ]
  },
  {
   "cell_type": "code",
   "execution_count": 16,
   "metadata": {},
   "outputs": [
    {
     "data": {
      "text/plain": [
       "3"
      ]
     },
     "execution_count": 16,
     "metadata": {},
     "output_type": "execute_result"
    }
   ],
   "source": [
    "user_reviews[(user_reviews[\"user_id\"] == \"76561197970982479\") & user_reviews[\"recommend\"] == True][\"recommend\"].count()"
   ]
  },
  {
   "cell_type": "markdown",
   "metadata": {},
   "source": [
    "Segundo prototipo del endpoint"
   ]
  },
  {
   "cell_type": "code",
   "execution_count": 17,
   "metadata": {},
   "outputs": [],
   "source": [
    "def user_data(user_id):\n",
    "    cantidad_juegos = user_items[user_items[\"user_id\"] == str(user_id)][\"user_id\"].count()\n",
    "    cantidad_de_recomendaciones = user_reviews[(user_reviews[\"user_id\"] == str(user_id)) & user_reviews[\"recommend\"] == True][\"recommend\"].count()\n",
    "    return f\"{round((cantidad_de_recomendaciones * 100) / cantidad_juegos, 2)}% de Recomendación\""
   ]
  },
  {
   "cell_type": "code",
   "execution_count": 18,
   "metadata": {},
   "outputs": [
    {
     "data": {
      "text/plain": [
       "'1.08% de Recomendación'"
      ]
     },
     "execution_count": 18,
     "metadata": {},
     "output_type": "execute_result"
    }
   ],
   "source": [
    "user_data(76561197970982479)"
   ]
  },
  {
   "cell_type": "markdown",
   "metadata": {},
   "source": [
    "Ahora necesito encontrar la cantidad de dinero gastado por el usuario, para ello, tengo que usar los dataframe user_items y steam_games, ya que en ellos se encuentran todos los datos que necesito"
   ]
  },
  {
   "cell_type": "code",
   "execution_count": 19,
   "metadata": {},
   "outputs": [
    {
     "data": {
      "text/html": [
       "<div>\n",
       "<style scoped>\n",
       "    .dataframe tbody tr th:only-of-type {\n",
       "        vertical-align: middle;\n",
       "    }\n",
       "\n",
       "    .dataframe tbody tr th {\n",
       "        vertical-align: top;\n",
       "    }\n",
       "\n",
       "    .dataframe thead th {\n",
       "        text-align: right;\n",
       "    }\n",
       "</style>\n",
       "<table border=\"1\" class=\"dataframe\">\n",
       "  <thead>\n",
       "    <tr style=\"text-align: right;\">\n",
       "      <th></th>\n",
       "      <th>id</th>\n",
       "      <th>price</th>\n",
       "    </tr>\n",
       "  </thead>\n",
       "  <tbody>\n",
       "    <tr>\n",
       "      <th>120416</th>\n",
       "      <td>10</td>\n",
       "      <td>9.99</td>\n",
       "    </tr>\n",
       "  </tbody>\n",
       "</table>\n",
       "</div>"
      ],
      "text/plain": [
       "        id  price\n",
       "120416  10   9.99"
      ]
     },
     "execution_count": 19,
     "metadata": {},
     "output_type": "execute_result"
    }
   ],
   "source": [
    "steam_games[steam_games[\"id\"] == 10]"
   ]
  },
  {
   "cell_type": "code",
   "execution_count": 20,
   "metadata": {},
   "outputs": [
    {
     "data": {
      "text/html": [
       "<div>\n",
       "<style scoped>\n",
       "    .dataframe tbody tr th:only-of-type {\n",
       "        vertical-align: middle;\n",
       "    }\n",
       "\n",
       "    .dataframe tbody tr th {\n",
       "        vertical-align: top;\n",
       "    }\n",
       "\n",
       "    .dataframe thead th {\n",
       "        text-align: right;\n",
       "    }\n",
       "</style>\n",
       "<table border=\"1\" class=\"dataframe\">\n",
       "  <thead>\n",
       "    <tr style=\"text-align: right;\">\n",
       "      <th></th>\n",
       "      <th>item_id</th>\n",
       "      <th>user_id</th>\n",
       "    </tr>\n",
       "  </thead>\n",
       "  <tbody>\n",
       "  </tbody>\n",
       "</table>\n",
       "</div>"
      ],
      "text/plain": [
       "Empty DataFrame\n",
       "Columns: [item_id, user_id]\n",
       "Index: []"
      ]
     },
     "execution_count": 20,
     "metadata": {},
     "output_type": "execute_result"
    }
   ],
   "source": [
    "user_items[user_items[\"item_id\"] == 10] # Tengo que cambiarle el tipo de dato a la columna item_id"
   ]
  },
  {
   "cell_type": "code",
   "execution_count": 21,
   "metadata": {},
   "outputs": [],
   "source": [
    "user_items[\"item_id\"] = user_items[\"item_id\"].astype(int)"
   ]
  },
  {
   "cell_type": "markdown",
   "metadata": {},
   "source": [
    "Me doy cuenta que lo más sencillo sería trabajar en un mismo dataframe, por lo cuál decido unir tanto el de items cómo el de games"
   ]
  },
  {
   "cell_type": "code",
   "execution_count": 22,
   "metadata": {},
   "outputs": [
    {
     "data": {
      "text/html": [
       "<div>\n",
       "<style scoped>\n",
       "    .dataframe tbody tr th:only-of-type {\n",
       "        vertical-align: middle;\n",
       "    }\n",
       "\n",
       "    .dataframe tbody tr th {\n",
       "        vertical-align: top;\n",
       "    }\n",
       "\n",
       "    .dataframe thead th {\n",
       "        text-align: right;\n",
       "    }\n",
       "</style>\n",
       "<table border=\"1\" class=\"dataframe\">\n",
       "  <thead>\n",
       "    <tr style=\"text-align: right;\">\n",
       "      <th></th>\n",
       "      <th>item_id</th>\n",
       "      <th>user_id</th>\n",
       "      <th>id</th>\n",
       "      <th>price</th>\n",
       "    </tr>\n",
       "  </thead>\n",
       "  <tbody>\n",
       "    <tr>\n",
       "      <th>0</th>\n",
       "      <td>10</td>\n",
       "      <td>76561197970982479</td>\n",
       "      <td>10.0</td>\n",
       "      <td>9.99</td>\n",
       "    </tr>\n",
       "    <tr>\n",
       "      <th>1</th>\n",
       "      <td>20</td>\n",
       "      <td>76561197970982479</td>\n",
       "      <td>20.0</td>\n",
       "      <td>4.99</td>\n",
       "    </tr>\n",
       "    <tr>\n",
       "      <th>2</th>\n",
       "      <td>30</td>\n",
       "      <td>76561197970982479</td>\n",
       "      <td>30.0</td>\n",
       "      <td>4.99</td>\n",
       "    </tr>\n",
       "    <tr>\n",
       "      <th>3</th>\n",
       "      <td>40</td>\n",
       "      <td>76561197970982479</td>\n",
       "      <td>40.0</td>\n",
       "      <td>4.99</td>\n",
       "    </tr>\n",
       "    <tr>\n",
       "      <th>4</th>\n",
       "      <td>50</td>\n",
       "      <td>76561197970982479</td>\n",
       "      <td>50.0</td>\n",
       "      <td>4.99</td>\n",
       "    </tr>\n",
       "    <tr>\n",
       "      <th>...</th>\n",
       "      <td>...</td>\n",
       "      <td>...</td>\n",
       "      <td>...</td>\n",
       "      <td>...</td>\n",
       "    </tr>\n",
       "    <tr>\n",
       "      <th>5153204</th>\n",
       "      <td>346330</td>\n",
       "      <td>76561198329548331</td>\n",
       "      <td>346330.0</td>\n",
       "      <td>0.00</td>\n",
       "    </tr>\n",
       "    <tr>\n",
       "      <th>5153205</th>\n",
       "      <td>373330</td>\n",
       "      <td>76561198329548331</td>\n",
       "      <td>NaN</td>\n",
       "      <td>NaN</td>\n",
       "    </tr>\n",
       "    <tr>\n",
       "      <th>5153206</th>\n",
       "      <td>388490</td>\n",
       "      <td>76561198329548331</td>\n",
       "      <td>388490.0</td>\n",
       "      <td>0.00</td>\n",
       "    </tr>\n",
       "    <tr>\n",
       "      <th>5153207</th>\n",
       "      <td>521570</td>\n",
       "      <td>76561198329548331</td>\n",
       "      <td>521570.0</td>\n",
       "      <td>0.00</td>\n",
       "    </tr>\n",
       "    <tr>\n",
       "      <th>5153208</th>\n",
       "      <td>519140</td>\n",
       "      <td>76561198329548331</td>\n",
       "      <td>NaN</td>\n",
       "      <td>NaN</td>\n",
       "    </tr>\n",
       "  </tbody>\n",
       "</table>\n",
       "<p>5153209 rows × 4 columns</p>\n",
       "</div>"
      ],
      "text/plain": [
       "         item_id            user_id        id  price\n",
       "0             10  76561197970982479      10.0   9.99\n",
       "1             20  76561197970982479      20.0   4.99\n",
       "2             30  76561197970982479      30.0   4.99\n",
       "3             40  76561197970982479      40.0   4.99\n",
       "4             50  76561197970982479      50.0   4.99\n",
       "...          ...                ...       ...    ...\n",
       "5153204   346330  76561198329548331  346330.0   0.00\n",
       "5153205   373330  76561198329548331       NaN    NaN\n",
       "5153206   388490  76561198329548331  388490.0   0.00\n",
       "5153207   521570  76561198329548331  521570.0   0.00\n",
       "5153208   519140  76561198329548331       NaN    NaN\n",
       "\n",
       "[5153209 rows x 4 columns]"
      ]
     },
     "execution_count": 22,
     "metadata": {},
     "output_type": "execute_result"
    }
   ],
   "source": [
    "usuario_juego_precio = pd.merge(user_items, steam_games, how=\"left\", left_on=\"item_id\", right_on=\"id\")\n",
    "usuario_juego_precio"
   ]
  },
  {
   "cell_type": "markdown",
   "metadata": {},
   "source": [
    "Voy a tomarme la libertad de eliminar las filas que contienen nulos, ya que de las mismas, no puedo asegurar que el juego es gratuito, ni tampoco que sea pago, así que las elimino"
   ]
  },
  {
   "cell_type": "code",
   "execution_count": 23,
   "metadata": {},
   "outputs": [
    {
     "data": {
      "text/plain": [
       "item_id          0\n",
       "user_id          0\n",
       "id         1064014\n",
       "price      1064014\n",
       "dtype: int64"
      ]
     },
     "execution_count": 23,
     "metadata": {},
     "output_type": "execute_result"
    }
   ],
   "source": [
    "usuario_juego_precio.isnull().sum()"
   ]
  },
  {
   "cell_type": "code",
   "execution_count": 24,
   "metadata": {},
   "outputs": [
    {
     "data": {
      "text/html": [
       "<div>\n",
       "<style scoped>\n",
       "    .dataframe tbody tr th:only-of-type {\n",
       "        vertical-align: middle;\n",
       "    }\n",
       "\n",
       "    .dataframe tbody tr th {\n",
       "        vertical-align: top;\n",
       "    }\n",
       "\n",
       "    .dataframe thead th {\n",
       "        text-align: right;\n",
       "    }\n",
       "</style>\n",
       "<table border=\"1\" class=\"dataframe\">\n",
       "  <thead>\n",
       "    <tr style=\"text-align: right;\">\n",
       "      <th></th>\n",
       "      <th>item_id</th>\n",
       "      <th>user_id</th>\n",
       "      <th>id</th>\n",
       "      <th>price</th>\n",
       "    </tr>\n",
       "  </thead>\n",
       "  <tbody>\n",
       "    <tr>\n",
       "      <th>0</th>\n",
       "      <td>10</td>\n",
       "      <td>76561197970982479</td>\n",
       "      <td>10.0</td>\n",
       "      <td>9.99</td>\n",
       "    </tr>\n",
       "    <tr>\n",
       "      <th>1</th>\n",
       "      <td>20</td>\n",
       "      <td>76561197970982479</td>\n",
       "      <td>20.0</td>\n",
       "      <td>4.99</td>\n",
       "    </tr>\n",
       "    <tr>\n",
       "      <th>2</th>\n",
       "      <td>30</td>\n",
       "      <td>76561197970982479</td>\n",
       "      <td>30.0</td>\n",
       "      <td>4.99</td>\n",
       "    </tr>\n",
       "    <tr>\n",
       "      <th>3</th>\n",
       "      <td>40</td>\n",
       "      <td>76561197970982479</td>\n",
       "      <td>40.0</td>\n",
       "      <td>4.99</td>\n",
       "    </tr>\n",
       "    <tr>\n",
       "      <th>4</th>\n",
       "      <td>50</td>\n",
       "      <td>76561197970982479</td>\n",
       "      <td>50.0</td>\n",
       "      <td>4.99</td>\n",
       "    </tr>\n",
       "    <tr>\n",
       "      <th>...</th>\n",
       "      <td>...</td>\n",
       "      <td>...</td>\n",
       "      <td>...</td>\n",
       "      <td>...</td>\n",
       "    </tr>\n",
       "    <tr>\n",
       "      <th>5153202</th>\n",
       "      <td>304930</td>\n",
       "      <td>76561198329548331</td>\n",
       "      <td>304930.0</td>\n",
       "      <td>0.00</td>\n",
       "    </tr>\n",
       "    <tr>\n",
       "      <th>5153203</th>\n",
       "      <td>227940</td>\n",
       "      <td>76561198329548331</td>\n",
       "      <td>227940.0</td>\n",
       "      <td>0.00</td>\n",
       "    </tr>\n",
       "    <tr>\n",
       "      <th>5153204</th>\n",
       "      <td>346330</td>\n",
       "      <td>76561198329548331</td>\n",
       "      <td>346330.0</td>\n",
       "      <td>0.00</td>\n",
       "    </tr>\n",
       "    <tr>\n",
       "      <th>5153206</th>\n",
       "      <td>388490</td>\n",
       "      <td>76561198329548331</td>\n",
       "      <td>388490.0</td>\n",
       "      <td>0.00</td>\n",
       "    </tr>\n",
       "    <tr>\n",
       "      <th>5153207</th>\n",
       "      <td>521570</td>\n",
       "      <td>76561198329548331</td>\n",
       "      <td>521570.0</td>\n",
       "      <td>0.00</td>\n",
       "    </tr>\n",
       "  </tbody>\n",
       "</table>\n",
       "<p>4089195 rows × 4 columns</p>\n",
       "</div>"
      ],
      "text/plain": [
       "         item_id            user_id        id  price\n",
       "0             10  76561197970982479      10.0   9.99\n",
       "1             20  76561197970982479      20.0   4.99\n",
       "2             30  76561197970982479      30.0   4.99\n",
       "3             40  76561197970982479      40.0   4.99\n",
       "4             50  76561197970982479      50.0   4.99\n",
       "...          ...                ...       ...    ...\n",
       "5153202   304930  76561198329548331  304930.0   0.00\n",
       "5153203   227940  76561198329548331  227940.0   0.00\n",
       "5153204   346330  76561198329548331  346330.0   0.00\n",
       "5153206   388490  76561198329548331  388490.0   0.00\n",
       "5153207   521570  76561198329548331  521570.0   0.00\n",
       "\n",
       "[4089195 rows x 4 columns]"
      ]
     },
     "execution_count": 24,
     "metadata": {},
     "output_type": "execute_result"
    }
   ],
   "source": [
    "usuario_juego_precio.dropna(inplace=True)\n",
    "usuario_juego_precio"
   ]
  },
  {
   "cell_type": "markdown",
   "metadata": {},
   "source": [
    "Filtremos el dataset usando el mismo usuario con el cuál veniamos haciendo las pruebas"
   ]
  },
  {
   "cell_type": "code",
   "execution_count": 25,
   "metadata": {},
   "outputs": [
    {
     "data": {
      "text/html": [
       "<div>\n",
       "<style scoped>\n",
       "    .dataframe tbody tr th:only-of-type {\n",
       "        vertical-align: middle;\n",
       "    }\n",
       "\n",
       "    .dataframe tbody tr th {\n",
       "        vertical-align: top;\n",
       "    }\n",
       "\n",
       "    .dataframe thead th {\n",
       "        text-align: right;\n",
       "    }\n",
       "</style>\n",
       "<table border=\"1\" class=\"dataframe\">\n",
       "  <thead>\n",
       "    <tr style=\"text-align: right;\">\n",
       "      <th></th>\n",
       "      <th>item_id</th>\n",
       "      <th>user_id</th>\n",
       "      <th>id</th>\n",
       "      <th>price</th>\n",
       "    </tr>\n",
       "  </thead>\n",
       "  <tbody>\n",
       "    <tr>\n",
       "      <th>0</th>\n",
       "      <td>10</td>\n",
       "      <td>76561197970982479</td>\n",
       "      <td>10.0</td>\n",
       "      <td>9.99</td>\n",
       "    </tr>\n",
       "    <tr>\n",
       "      <th>1</th>\n",
       "      <td>20</td>\n",
       "      <td>76561197970982479</td>\n",
       "      <td>20.0</td>\n",
       "      <td>4.99</td>\n",
       "    </tr>\n",
       "    <tr>\n",
       "      <th>2</th>\n",
       "      <td>30</td>\n",
       "      <td>76561197970982479</td>\n",
       "      <td>30.0</td>\n",
       "      <td>4.99</td>\n",
       "    </tr>\n",
       "    <tr>\n",
       "      <th>3</th>\n",
       "      <td>40</td>\n",
       "      <td>76561197970982479</td>\n",
       "      <td>40.0</td>\n",
       "      <td>4.99</td>\n",
       "    </tr>\n",
       "    <tr>\n",
       "      <th>4</th>\n",
       "      <td>50</td>\n",
       "      <td>76561197970982479</td>\n",
       "      <td>50.0</td>\n",
       "      <td>4.99</td>\n",
       "    </tr>\n",
       "    <tr>\n",
       "      <th>...</th>\n",
       "      <td>...</td>\n",
       "      <td>...</td>\n",
       "      <td>...</td>\n",
       "      <td>...</td>\n",
       "    </tr>\n",
       "    <tr>\n",
       "      <th>272</th>\n",
       "      <td>289130</td>\n",
       "      <td>76561197970982479</td>\n",
       "      <td>289130.0</td>\n",
       "      <td>29.99</td>\n",
       "    </tr>\n",
       "    <tr>\n",
       "      <th>273</th>\n",
       "      <td>268500</td>\n",
       "      <td>76561197970982479</td>\n",
       "      <td>268500.0</td>\n",
       "      <td>59.99</td>\n",
       "    </tr>\n",
       "    <tr>\n",
       "      <th>274</th>\n",
       "      <td>461640</td>\n",
       "      <td>76561197970982479</td>\n",
       "      <td>461640.0</td>\n",
       "      <td>1.99</td>\n",
       "    </tr>\n",
       "    <tr>\n",
       "      <th>275</th>\n",
       "      <td>379720</td>\n",
       "      <td>76561197970982479</td>\n",
       "      <td>379720.0</td>\n",
       "      <td>29.99</td>\n",
       "    </tr>\n",
       "    <tr>\n",
       "      <th>276</th>\n",
       "      <td>273350</td>\n",
       "      <td>76561197970982479</td>\n",
       "      <td>273350.0</td>\n",
       "      <td>0.00</td>\n",
       "    </tr>\n",
       "  </tbody>\n",
       "</table>\n",
       "<p>227 rows × 4 columns</p>\n",
       "</div>"
      ],
      "text/plain": [
       "     item_id            user_id        id  price\n",
       "0         10  76561197970982479      10.0   9.99\n",
       "1         20  76561197970982479      20.0   4.99\n",
       "2         30  76561197970982479      30.0   4.99\n",
       "3         40  76561197970982479      40.0   4.99\n",
       "4         50  76561197970982479      50.0   4.99\n",
       "..       ...                ...       ...    ...\n",
       "272   289130  76561197970982479  289130.0  29.99\n",
       "273   268500  76561197970982479  268500.0  59.99\n",
       "274   461640  76561197970982479  461640.0   1.99\n",
       "275   379720  76561197970982479  379720.0  29.99\n",
       "276   273350  76561197970982479  273350.0   0.00\n",
       "\n",
       "[227 rows x 4 columns]"
      ]
     },
     "execution_count": 25,
     "metadata": {},
     "output_type": "execute_result"
    }
   ],
   "source": [
    "usuario_juego_precio[usuario_juego_precio[\"user_id\"] == \"76561197970982479\"]"
   ]
  },
  {
   "cell_type": "markdown",
   "metadata": {},
   "source": [
    "De aquí, la columna que más nos interesa es la del precio, del cual queremos conocer la suma, la cantidad total gastada por el usuario, así que..."
   ]
  },
  {
   "cell_type": "code",
   "execution_count": 26,
   "metadata": {},
   "outputs": [
    {
     "data": {
      "text/plain": [
       "3404.3300000000004"
      ]
     },
     "execution_count": 26,
     "metadata": {},
     "output_type": "execute_result"
    }
   ],
   "source": [
    "usuario_juego_precio[usuario_juego_precio[\"user_id\"] == \"76561197970982479\"][\"price\"].sum() # Ese usuario gastó más de 3400 dólares"
   ]
  },
  {
   "cell_type": "markdown",
   "metadata": {},
   "source": [
    "Tercer prototipo del endpoint"
   ]
  },
  {
   "cell_type": "code",
   "execution_count": 27,
   "metadata": {},
   "outputs": [],
   "source": [
    "def user_data(user_id):\n",
    "    cantidad_juegos = user_items[user_items[\"user_id\"] == str(user_id)][\"user_id\"].count()\n",
    "    cantidad_de_recomendaciones = user_reviews[(user_reviews[\"user_id\"] == str(user_id)) & user_reviews[\"recommend\"] == True][\"recommend\"].count()\n",
    "    cantidad_dinero_gastado = usuario_juego_precio[usuario_juego_precio[\"user_id\"] == str(user_id)][\"price\"].sum()\n",
    "    return f\"El usuario gastó {round(cantidad_dinero_gastado, 2)} USD\""
   ]
  },
  {
   "cell_type": "code",
   "execution_count": 28,
   "metadata": {},
   "outputs": [
    {
     "data": {
      "text/plain": [
       "'El usuario gastó 3404.33 USD'"
      ]
     },
     "execution_count": 28,
     "metadata": {},
     "output_type": "execute_result"
    }
   ],
   "source": [
    "user_data(76561197970982479)"
   ]
  },
  {
   "cell_type": "markdown",
   "metadata": {},
   "source": [
    "Cuarto prototipo del endpoint"
   ]
  },
  {
   "cell_type": "code",
   "execution_count": 29,
   "metadata": {},
   "outputs": [],
   "source": [
    "def user_data(user_id):\n",
    "    diccionario_de_retorno = {}\n",
    "    cantidad_juegos = user_items[user_items[\"user_id\"] == str(user_id)][\"user_id\"].count()\n",
    "    cantidad_de_recomendaciones = user_reviews[(user_reviews[\"user_id\"] == str(user_id)) & user_reviews[\"recommend\"] == True][\"recommend\"].count()\n",
    "    cantidad_dinero_gastado = usuario_juego_precio[usuario_juego_precio[\"user_id\"] == str(user_id)][\"price\"].sum()\n",
    "\n",
    "    diccionario_de_retorno[\"Usuario\"] = user_id\n",
    "    diccionario_de_retorno[\"Dinero gastado\"] = f\"{round(cantidad_dinero_gastado, 2)} USD\"\n",
    "    diccionario_de_retorno[\"Porcentaje de recomendación\"] = f\"{round((cantidad_de_recomendaciones * 100) / cantidad_juegos, 2)}%\"\n",
    "    diccionario_de_retorno[\"Cantidad de juegos\"] = cantidad_juegos\n",
    "    \n",
    "    return diccionario_de_retorno"
   ]
  },
  {
   "cell_type": "code",
   "execution_count": 30,
   "metadata": {},
   "outputs": [
    {
     "data": {
      "text/plain": [
       "{'Usuario': 76561197970982479,\n",
       " 'Dinero gastado': '3404.33 USD',\n",
       " 'Porcentaje de recomendación': '1.08%',\n",
       " 'Cantidad de juegos': 277}"
      ]
     },
     "execution_count": 30,
     "metadata": {},
     "output_type": "execute_result"
    }
   ],
   "source": [
    "user_data(76561197970982479)"
   ]
  },
  {
   "cell_type": "markdown",
   "metadata": {},
   "source": [
    "Bueno, se podría decir que ya resolví el endpoint 2, pero en realidad me faltan hacerle algunas aclaraciones y ajustes a la función para que su desempeño sea óptimo"
   ]
  },
  {
   "cell_type": "code",
   "execution_count": 32,
   "metadata": {},
   "outputs": [
    {
     "name": "stderr",
     "output_type": "stream",
     "text": [
      "C:\\Users\\crisr\\AppData\\Local\\Temp\\ipykernel_20384\\1780711741.py:9: RuntimeWarning: invalid value encountered in scalar divide\n",
      "  diccionario_de_retorno[\"Porcentaje de recomendación\"] = f\"{round((cantidad_de_recomendaciones * 100) / cantidad_juegos, 2)}%\"\n"
     ]
    },
    {
     "data": {
      "text/plain": [
       "{'Usuario': 76561197970982474,\n",
       " 'Dinero gastado': '0.0 USD',\n",
       " 'Porcentaje de recomendación': 'nan%',\n",
       " 'Cantidad de juegos': 0}"
      ]
     },
     "execution_count": 32,
     "metadata": {},
     "output_type": "execute_result"
    }
   ],
   "source": [
    "user_data(76561197970982474) # Veo que cuando pongo un id que no corresponde a ningún usuario, me sale lo siguiente"
   ]
  },
  {
   "cell_type": "markdown",
   "metadata": {},
   "source": [
    "Quinto prototipo del endpoint"
   ]
  },
  {
   "cell_type": "code",
   "execution_count": 34,
   "metadata": {},
   "outputs": [],
   "source": [
    "def user_data(user_id):\n",
    "    diccionario_de_retorno = {} # Diccionario que va a almacenar las variables correspondientes a la salida de la función\n",
    "\n",
    "    if user_items[user_items[\"user_id\"] == str(user_id)].empty:\n",
    "        return \"No se encontraron datos para el usuario con id: \" + str(user_id)\n",
    "\n",
    "    cantidad_juegos = user_items[user_items[\"user_id\"] == str(user_id)][\"user_id\"].count()\n",
    "    # cantidad_de_recomendaciones = user_reviews[(user_reviews[\"user_id\"] == str(user_id)) & user_reviews[\"recommend\"] == True][\"recommend\"].count()\n",
    "    # cantidad_dinero_gastado = usuario_juego_precio[usuario_juego_precio[\"user_id\"] == str(user_id)][\"price\"].sum()\n",
    "\n",
    "    # diccionario_de_retorno[\"Usuario\"] = user_id\n",
    "    # diccionario_de_retorno[\"Dinero gastado\"] = f\"{round(cantidad_dinero_gastado, 2)} USD\"\n",
    "    # diccionario_de_retorno[\"Porcentaje de recomendación\"] = f\"{round((cantidad_de_recomendaciones * 100) / cantidad_juegos, 2)}%\"\n",
    "    # diccionario_de_retorno[\"Cantidad de juegos\"] = cantidad_juegos\n",
    "    \n",
    "    return diccionario_de_retorno"
   ]
  },
  {
   "cell_type": "code",
   "execution_count": 35,
   "metadata": {},
   "outputs": [
    {
     "data": {
      "text/plain": [
       "'No se encontraron datos para el usuario con id: 76561197970982474'"
      ]
     },
     "execution_count": 35,
     "metadata": {},
     "output_type": "execute_result"
    }
   ],
   "source": [
    "user_data(76561197970982474) # La salida es la esperada."
   ]
  },
  {
   "cell_type": "markdown",
   "metadata": {},
   "source": [
    "Sexto prototipo de la función"
   ]
  },
  {
   "cell_type": "code",
   "execution_count": 36,
   "metadata": {},
   "outputs": [],
   "source": [
    "def user_data(user_id):\n",
    "\n",
    "    diccionario_de_retorno = {} # Diccionario que va a almacenar las variables correspondientes a la salida de la función\n",
    "\n",
    "    if user_items[user_items[\"user_id\"] == str(user_id)].empty: # En caso de que no haya usuarios con el ID ingresado, se muestra lo siguiente:\n",
    "        return \"No se encontraron datos para el usuario con ID: \" + str(user_id)\n",
    "    else: # En caso de que haya usuarios con el ID ingresado, se muestra lo siguiente\n",
    "\n",
    "        # Se cuenta la cantidad de juegos que tiene el usuario\n",
    "        cantidad_juegos = user_items[user_items[\"user_id\"] == str(user_id)][\"user_id\"].count()\n",
    "\n",
    "        # Se cuenta la cantidad de recomendaciones. En la columna recommend aparece \"True\" o \"False\", tuve en cuenta sólo las que aparece \"True\" del usuario ingresado.\n",
    "        cantidad_de_recomendaciones = user_reviews[(user_reviews[\"user_id\"] == str(user_id)) & user_reviews[\"recommend\"] == True][\"recommend\"].count()\n",
    "\n",
    "        # Se cuenta la cantidad de dinero gastado por el usuario, haciendo una suma de la columna \"price\" de los juegos que tiene el usuario. \n",
    "        cantidad_dinero_gastado = usuario_juego_precio[usuario_juego_precio[\"user_id\"] == str(user_id)][\"price\"].sum()\n",
    "\n",
    "        # A partir del ID ingresado, del dinero gastado, del porcentaje de recomendación, y de la cantidad de juegos, se almacenan en el diccionario previamente creado con las claves correspondientes.\n",
    "        diccionario_de_retorno[\"Usuario\"] = user_id\n",
    "        diccionario_de_retorno[\"Dinero gastado\"] = f\"{round(cantidad_dinero_gastado, 2)} USD\"\n",
    "\n",
    "        # Si el usuario no hizo recomendaciones, para no tener errores de división por 0, defino que el porcentaje de recomendación es de 0%\n",
    "        if cantidad_de_recomendaciones == 0:\n",
    "            diccionario_de_retorno[\"Porcentaje de recomendaciones\"] = \"0%\"\n",
    "        else:\n",
    "            # Si hizo recomendaciones, se hace el calculo normalmente\n",
    "            diccionario_de_retorno[\"Porcentaje de recomendación\"] = f\"{round((cantidad_de_recomendaciones * 100) / cantidad_juegos, 2)}%\"\n",
    "        \n",
    "        diccionario_de_retorno[\"Cantidad de juegos\"] = cantidad_juegos\n",
    "        \n",
    "        # Se devuelve el diccionario creado\n",
    "        return diccionario_de_retorno"
   ]
  },
  {
   "cell_type": "code",
   "execution_count": 37,
   "metadata": {},
   "outputs": [
    {
     "data": {
      "text/plain": [
       "'No se encontraron datos para el usuario con ID: 76561197970982474'"
      ]
     },
     "execution_count": 37,
     "metadata": {},
     "output_type": "execute_result"
    }
   ],
   "source": [
    "user_data(76561197970982474) # La salida es la esperada."
   ]
  },
  {
   "cell_type": "code",
   "execution_count": 51,
   "metadata": {},
   "outputs": [
    {
     "data": {
      "text/html": [
       "<div>\n",
       "<style scoped>\n",
       "    .dataframe tbody tr th:only-of-type {\n",
       "        vertical-align: middle;\n",
       "    }\n",
       "\n",
       "    .dataframe tbody tr th {\n",
       "        vertical-align: top;\n",
       "    }\n",
       "\n",
       "    .dataframe thead th {\n",
       "        text-align: right;\n",
       "    }\n",
       "</style>\n",
       "<table border=\"1\" class=\"dataframe\">\n",
       "  <thead>\n",
       "    <tr style=\"text-align: right;\">\n",
       "      <th></th>\n",
       "      <th>recommend</th>\n",
       "      <th>user_id</th>\n",
       "    </tr>\n",
       "  </thead>\n",
       "  <tbody>\n",
       "    <tr>\n",
       "      <th>48</th>\n",
       "      <td>False</td>\n",
       "      <td>76561198043472122</td>\n",
       "    </tr>\n",
       "    <tr>\n",
       "      <th>62</th>\n",
       "      <td>False</td>\n",
       "      <td>76561198066046412</td>\n",
       "    </tr>\n",
       "    <tr>\n",
       "      <th>68</th>\n",
       "      <td>False</td>\n",
       "      <td>76561198070565427</td>\n",
       "    </tr>\n",
       "    <tr>\n",
       "      <th>84</th>\n",
       "      <td>False</td>\n",
       "      <td>boydeer</td>\n",
       "    </tr>\n",
       "    <tr>\n",
       "      <th>122</th>\n",
       "      <td>False</td>\n",
       "      <td>sandwiches1</td>\n",
       "    </tr>\n",
       "    <tr>\n",
       "      <th>...</th>\n",
       "      <td>...</td>\n",
       "      <td>...</td>\n",
       "    </tr>\n",
       "    <tr>\n",
       "      <th>59262</th>\n",
       "      <td>False</td>\n",
       "      <td>kimjongadam</td>\n",
       "    </tr>\n",
       "    <tr>\n",
       "      <th>59268</th>\n",
       "      <td>False</td>\n",
       "      <td>iwishihadaids</td>\n",
       "    </tr>\n",
       "    <tr>\n",
       "      <th>59283</th>\n",
       "      <td>False</td>\n",
       "      <td>MeloncraftLP</td>\n",
       "    </tr>\n",
       "    <tr>\n",
       "      <th>59284</th>\n",
       "      <td>False</td>\n",
       "      <td>76561198277602337</td>\n",
       "    </tr>\n",
       "    <tr>\n",
       "      <th>59285</th>\n",
       "      <td>False</td>\n",
       "      <td>943525</td>\n",
       "    </tr>\n",
       "  </tbody>\n",
       "</table>\n",
       "<p>6832 rows × 2 columns</p>\n",
       "</div>"
      ],
      "text/plain": [
       "       recommend            user_id\n",
       "48         False  76561198043472122\n",
       "62         False  76561198066046412\n",
       "68         False  76561198070565427\n",
       "84         False            boydeer\n",
       "122        False        sandwiches1\n",
       "...          ...                ...\n",
       "59262      False        kimjongadam\n",
       "59268      False      iwishihadaids\n",
       "59283      False       MeloncraftLP\n",
       "59284      False  76561198277602337\n",
       "59285      False             943525\n",
       "\n",
       "[6832 rows x 2 columns]"
      ]
     },
     "execution_count": 51,
     "metadata": {},
     "output_type": "execute_result"
    }
   ],
   "source": [
    "user_reviews[user_reviews[\"recommend\"] == False] # Probemos con sandwiches1"
   ]
  },
  {
   "cell_type": "code",
   "execution_count": 53,
   "metadata": {},
   "outputs": [
    {
     "data": {
      "text/html": [
       "<div>\n",
       "<style scoped>\n",
       "    .dataframe tbody tr th:only-of-type {\n",
       "        vertical-align: middle;\n",
       "    }\n",
       "\n",
       "    .dataframe tbody tr th {\n",
       "        vertical-align: top;\n",
       "    }\n",
       "\n",
       "    .dataframe thead th {\n",
       "        text-align: right;\n",
       "    }\n",
       "</style>\n",
       "<table border=\"1\" class=\"dataframe\">\n",
       "  <thead>\n",
       "    <tr style=\"text-align: right;\">\n",
       "      <th></th>\n",
       "      <th>recommend</th>\n",
       "      <th>user_id</th>\n",
       "    </tr>\n",
       "  </thead>\n",
       "  <tbody>\n",
       "    <tr>\n",
       "      <th>122</th>\n",
       "      <td>False</td>\n",
       "      <td>sandwiches1</td>\n",
       "    </tr>\n",
       "  </tbody>\n",
       "</table>\n",
       "</div>"
      ],
      "text/plain": [
       "     recommend      user_id\n",
       "122      False  sandwiches1"
      ]
     },
     "execution_count": 53,
     "metadata": {},
     "output_type": "execute_result"
    }
   ],
   "source": [
    "user_reviews[user_reviews[\"user_id\"] == \"sandwiches1\"] # Ideal, sólo tiene una recomendación y es negativa, osea tiene 0 recomendaciones positivas"
   ]
  },
  {
   "cell_type": "code",
   "execution_count": 54,
   "metadata": {},
   "outputs": [
    {
     "data": {
      "text/plain": [
       "{'Usuario': 'sandwiches1',\n",
       " 'Dinero gastado': '1528.9 USD',\n",
       " 'Porcentaje de recomendaciones': '0%',\n",
       " 'Cantidad de juegos': 172}"
      ]
     },
     "execution_count": 54,
     "metadata": {},
     "output_type": "execute_result"
    }
   ],
   "source": [
    "user_data(\"sandwiches1\")"
   ]
  },
  {
   "cell_type": "markdown",
   "metadata": {},
   "source": [
    "Exporto los dataframe en formato parquet con compresión snappy a la carpeta Datasets para importarlos luego desde allí"
   ]
  },
  {
   "cell_type": "code",
   "execution_count": 63,
   "metadata": {},
   "outputs": [],
   "source": [
    "user_items.to_parquet(\"../Datasets/user_items_endpoint_2.parquet\",compression=\"snappy\")"
   ]
  },
  {
   "cell_type": "code",
   "execution_count": 64,
   "metadata": {},
   "outputs": [],
   "source": [
    "user_reviews.to_parquet(\"../Datasets/user_reviews_endpoint_2.parquet\", compression=\"snappy\")"
   ]
  },
  {
   "cell_type": "code",
   "execution_count": 65,
   "metadata": {},
   "outputs": [],
   "source": [
    "usuario_juego_precio.to_parquet(\"../Datasets/steam_games_and_users_endpoint_2.parquet\", compression=\"snappy\")"
   ]
  },
  {
   "cell_type": "markdown",
   "metadata": {},
   "source": [
    "Septimo y último prototipo funcional y exportable, le agrego la importación de los archivos correspondientes."
   ]
  },
  {
   "cell_type": "code",
   "execution_count": null,
   "metadata": {},
   "outputs": [],
   "source": [
    "def user_data(user_id):\n",
    "    # Cargamos los dataframes dentro de la función\n",
    "    user_items = pd.read_parquet(\"./Datasets/user_items_endpoint_2.parquet\")\n",
    "    user_reviews = pd.read_parquet(\"./Datasets/user_reviews_endpoint_2.parquet\")\n",
    "    usuario_juego_precio = pd.read_parquet(\"./Datasets/steam_games_and_users_endpoint_2.parquet\")\n",
    "\n",
    "    diccionario_de_retorno = {} # Diccionario que va a almacenar las variables correspondientes a la salida de la función\n",
    "\n",
    "    if user_items[user_items[\"user_id\"] == str(user_id)].empty: # En caso de que no haya usuarios con el ID ingresado, se muestra lo siguiente:\n",
    "        return \"No se encontraron datos para el usuario con ID: \" + str(user_id)\n",
    "    else: # En caso de que haya usuarios con el ID ingresado, se muestra lo siguiente\n",
    "\n",
    "        # Se cuenta la cantidad de juegos que tiene el usuario\n",
    "        cantidad_juegos = user_items[user_items[\"user_id\"] == str(user_id)][\"user_id\"].count()\n",
    "\n",
    "        # Se cuenta la cantidad de recomendaciones. En la columna recommend aparece \"True\" o \"False\", tuve en cuenta sólo las que aparece \"True\" del usuario ingresado.\n",
    "        cantidad_de_recomendaciones = user_reviews[(user_reviews[\"user_id\"] == str(user_id)) & user_reviews[\"recommend\"] == True][\"recommend\"].count()\n",
    "\n",
    "        # Se cuenta la cantidad de dinero gastado por el usuario, haciendo una suma de la columna \"price\" de los juegos que tiene el usuario. \n",
    "        cantidad_dinero_gastado = usuario_juego_precio[usuario_juego_precio[\"user_id\"] == str(user_id)][\"price\"].sum()\n",
    "\n",
    "        # A partir del ID ingresado, del dinero gastado, del porcentaje de recomendación, y de la cantidad de juegos, se almacenan en el diccionario previamente creado con las claves correspondientes.\n",
    "        diccionario_de_retorno[\"Usuario\"] = user_id\n",
    "        diccionario_de_retorno[\"Dinero gastado\"] = f\"{round(cantidad_dinero_gastado, 2)} USD\"\n",
    "\n",
    "        # Si el usuario no hizo recomendaciones, para no tener errores de división por 0, defino que el porcentaje de recomendación es de 0%\n",
    "        if cantidad_de_recomendaciones == 0:\n",
    "            diccionario_de_retorno[\"Porcentaje de recomendaciones\"] = \"0%\"\n",
    "        else:\n",
    "            # Si hizo recomendaciones, se hace el calculo normalmente\n",
    "            diccionario_de_retorno[\"Porcentaje de recomendación\"] = f\"{round((cantidad_de_recomendaciones * 100) / cantidad_juegos, 2)}%\"\n",
    "        \n",
    "        diccionario_de_retorno[\"Cantidad de juegos\"] = cantidad_juegos\n",
    "        \n",
    "        # Se devuelve el diccionario creado\n",
    "        return diccionario_de_retorno"
   ]
  }
 ],
 "metadata": {
  "kernelspec": {
   "display_name": "Python 3",
   "language": "python",
   "name": "python3"
  },
  "language_info": {
   "codemirror_mode": {
    "name": "ipython",
    "version": 3
   },
   "file_extension": ".py",
   "mimetype": "text/x-python",
   "name": "python",
   "nbconvert_exporter": "python",
   "pygments_lexer": "ipython3",
   "version": "3.12.2"
  }
 },
 "nbformat": 4,
 "nbformat_minor": 2
}
